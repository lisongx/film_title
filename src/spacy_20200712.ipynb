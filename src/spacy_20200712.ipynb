{
 "cells": [
  {
   "cell_type": "code",
   "execution_count": 6,
   "metadata": {
    "ExecuteTime": {
     "end_time": "2020-07-12T20:22:24.577211Z",
     "start_time": "2020-07-12T20:22:24.527986Z"
    },
    "scrolled": true
   },
   "outputs": [
    {
     "data": {
      "application/javascript": [
       "IPython.notebook.set_autosave_interval(20000)"
      ]
     },
     "metadata": {},
     "output_type": "display_data"
    },
    {
     "name": "stdout",
     "output_type": "stream",
     "text": [
      "Autosaving every 20 seconds\n"
     ]
    }
   ],
   "source": [
    "import pandas as pd\n",
    "import spacy\n",
    "\n",
    "%autosave 20"
   ]
  },
  {
   "cell_type": "markdown",
   "metadata": {},
   "source": [
    "## load data"
   ]
  },
  {
   "cell_type": "code",
   "execution_count": 15,
   "metadata": {
    "ExecuteTime": {
     "end_time": "2020-07-12T20:26:15.739254Z",
     "start_time": "2020-07-12T20:26:15.706967Z"
    }
   },
   "outputs": [
    {
     "data": {
      "text/plain": [
       "(63807, 11)"
      ]
     },
     "execution_count": 15,
     "metadata": {},
     "output_type": "execute_result"
    }
   ],
   "source": [
    "%store -r df\n",
    "df.shape"
   ]
  },
  {
   "cell_type": "code",
   "execution_count": 12,
   "metadata": {
    "ExecuteTime": {
     "end_time": "2020-07-12T20:23:39.129957Z",
     "start_time": "2020-07-12T20:23:39.061543Z"
    }
   },
   "outputs": [
    {
     "data": {
      "text/html": [
       "<div>\n",
       "<style scoped>\n",
       "    .dataframe tbody tr th:only-of-type {\n",
       "        vertical-align: middle;\n",
       "    }\n",
       "\n",
       "    .dataframe tbody tr th {\n",
       "        vertical-align: top;\n",
       "    }\n",
       "\n",
       "    .dataframe thead th {\n",
       "        text-align: right;\n",
       "    }\n",
       "</style>\n",
       "<table border=\"1\" class=\"dataframe\">\n",
       "  <thead>\n",
       "    <tr style=\"text-align: right;\">\n",
       "      <th></th>\n",
       "      <th>item</th>\n",
       "      <th>title</th>\n",
       "      <th>published</th>\n",
       "      <th>date</th>\n",
       "      <th>year</th>\n",
       "      <th>month</th>\n",
       "      <th>day</th>\n",
       "      <th>love_ind</th>\n",
       "      <th>hate_ind</th>\n",
       "      <th>war_ind</th>\n",
       "      <th>peace_ind</th>\n",
       "    </tr>\n",
       "  </thead>\n",
       "  <tbody>\n",
       "    <tr>\n",
       "      <th>0</th>\n",
       "      <td>http://www.wikidata.org/entity/Q4069062</td>\n",
       "      <td>the arrest of a pickpocket</td>\n",
       "      <td>1895-01-01T00:00:00Z</td>\n",
       "      <td>1895-01-01</td>\n",
       "      <td>1895</td>\n",
       "      <td>01</td>\n",
       "      <td>01</td>\n",
       "      <td>0</td>\n",
       "      <td>0</td>\n",
       "      <td>0</td>\n",
       "      <td>0</td>\n",
       "    </tr>\n",
       "    <tr>\n",
       "      <th>1</th>\n",
       "      <td>http://www.wikidata.org/entity/Q7168279</td>\n",
       "      <td>performing animals; or, skipping dogs</td>\n",
       "      <td>1895-01-01T00:00:00Z</td>\n",
       "      <td>1895-01-01</td>\n",
       "      <td>1895</td>\n",
       "      <td>01</td>\n",
       "      <td>01</td>\n",
       "      <td>0</td>\n",
       "      <td>0</td>\n",
       "      <td>0</td>\n",
       "      <td>0</td>\n",
       "    </tr>\n",
       "    <tr>\n",
       "      <th>2</th>\n",
       "      <td>http://www.wikidata.org/entity/Q2819823</td>\n",
       "      <td>a morning alarm</td>\n",
       "      <td>1896-01-01T00:00:00Z</td>\n",
       "      <td>1896-01-01</td>\n",
       "      <td>1896</td>\n",
       "      <td>01</td>\n",
       "      <td>01</td>\n",
       "      <td>0</td>\n",
       "      <td>0</td>\n",
       "      <td>0</td>\n",
       "      <td>0</td>\n",
       "    </tr>\n",
       "    <tr>\n",
       "      <th>3</th>\n",
       "      <td>http://www.wikidata.org/entity/Q3326074</td>\n",
       "      <td>mounted police charge</td>\n",
       "      <td>1896-01-01T00:00:00Z</td>\n",
       "      <td>1896-01-01</td>\n",
       "      <td>1896</td>\n",
       "      <td>01</td>\n",
       "      <td>01</td>\n",
       "      <td>0</td>\n",
       "      <td>0</td>\n",
       "      <td>0</td>\n",
       "      <td>0</td>\n",
       "    </tr>\n",
       "    <tr>\n",
       "      <th>4</th>\n",
       "      <td>http://www.wikidata.org/entity/Q3520164</td>\n",
       "      <td>the burning stable</td>\n",
       "      <td>1896-01-01T00:00:00Z</td>\n",
       "      <td>1896-01-01</td>\n",
       "      <td>1896</td>\n",
       "      <td>01</td>\n",
       "      <td>01</td>\n",
       "      <td>0</td>\n",
       "      <td>0</td>\n",
       "      <td>0</td>\n",
       "      <td>0</td>\n",
       "    </tr>\n",
       "  </tbody>\n",
       "</table>\n",
       "</div>"
      ],
      "text/plain": [
       "                                      item  \\\n",
       "0  http://www.wikidata.org/entity/Q4069062   \n",
       "1  http://www.wikidata.org/entity/Q7168279   \n",
       "2  http://www.wikidata.org/entity/Q2819823   \n",
       "3  http://www.wikidata.org/entity/Q3326074   \n",
       "4  http://www.wikidata.org/entity/Q3520164   \n",
       "\n",
       "                                   title             published        date  \\\n",
       "0             the arrest of a pickpocket  1895-01-01T00:00:00Z  1895-01-01   \n",
       "1  performing animals; or, skipping dogs  1895-01-01T00:00:00Z  1895-01-01   \n",
       "2                        a morning alarm  1896-01-01T00:00:00Z  1896-01-01   \n",
       "3                  mounted police charge  1896-01-01T00:00:00Z  1896-01-01   \n",
       "4                     the burning stable  1896-01-01T00:00:00Z  1896-01-01   \n",
       "\n",
       "   year month day  love_ind  hate_ind  war_ind  peace_ind  \n",
       "0  1895    01  01         0         0        0          0  \n",
       "1  1895    01  01         0         0        0          0  \n",
       "2  1896    01  01         0         0        0          0  \n",
       "3  1896    01  01         0         0        0          0  \n",
       "4  1896    01  01         0         0        0          0  "
      ]
     },
     "execution_count": 12,
     "metadata": {},
     "output_type": "execute_result"
    }
   ],
   "source": [
    "df.head()"
   ]
  },
  {
   "cell_type": "markdown",
   "metadata": {},
   "source": [
    "## create a language project and process the film title\n",
    "- tokenization\n",
    "- named entities"
   ]
  },
  {
   "cell_type": "code",
   "execution_count": 7,
   "metadata": {
    "ExecuteTime": {
     "end_time": "2020-07-12T20:22:27.053469Z",
     "start_time": "2020-07-12T20:22:25.958803Z"
    }
   },
   "outputs": [],
   "source": [
    "nlp = spacy.load(\"en_core_web_sm\")"
   ]
  },
  {
   "cell_type": "code",
   "execution_count": 45,
   "metadata": {
    "ExecuteTime": {
     "end_time": "2020-07-12T20:49:29.959244Z",
     "start_time": "2020-07-12T20:49:29.905774Z"
    }
   },
   "outputs": [
    {
     "name": "stdout",
     "output_type": "stream",
     "text": [
      "the the DET DT det xxx True True True\n",
      "arrest arrest NOUN NN ROOT xxxx True False True\n",
      "of of ADP IN prep xx True True True\n",
      "a a DET DT det x True True True\n",
      "pickpocket pickpocket NOUN NN pobj xxxx True False True\n"
     ]
    }
   ],
   "source": [
    "doc = nlp(df.title[0])\n",
    "for token in doc:\n",
    "    print(token.text, token.lemma_, token.pos_, token.tag_, token.dep_,\n",
    "            token.shape_, token.is_alpha, token.is_stop, token.is_lower)"
   ]
  },
  {
   "cell_type": "code",
   "execution_count": 46,
   "metadata": {
    "ExecuteTime": {
     "end_time": "2020-07-12T20:49:30.773067Z",
     "start_time": "2020-07-12T20:49:30.758872Z"
    }
   },
   "outputs": [
    {
     "data": {
      "text/plain": [
       "'determiner'"
      ]
     },
     "execution_count": 46,
     "metadata": {},
     "output_type": "execute_result"
    }
   ],
   "source": [
    "spacy.explain(\"DET\")"
   ]
  },
  {
   "cell_type": "code",
   "execution_count": 47,
   "metadata": {
    "ExecuteTime": {
     "end_time": "2020-07-12T20:49:31.039086Z",
     "start_time": "2020-07-12T20:49:31.028278Z"
    }
   },
   "outputs": [
    {
     "data": {
      "text/plain": [
       "'adposition'"
      ]
     },
     "execution_count": 47,
     "metadata": {},
     "output_type": "execute_result"
    }
   ],
   "source": [
    "spacy.explain(\"ADP\")"
   ]
  },
  {
   "cell_type": "code",
   "execution_count": 48,
   "metadata": {
    "ExecuteTime": {
     "end_time": "2020-07-12T20:49:31.234692Z",
     "start_time": "2020-07-12T20:49:31.228029Z"
    }
   },
   "outputs": [
    {
     "data": {
      "text/plain": [
       "'proper noun'"
      ]
     },
     "execution_count": 48,
     "metadata": {},
     "output_type": "execute_result"
    }
   ],
   "source": [
    "spacy.explain(\"PROPN\")"
   ]
  },
  {
   "cell_type": "code",
   "execution_count": 49,
   "metadata": {
    "ExecuteTime": {
     "end_time": "2020-07-12T20:49:31.401034Z",
     "start_time": "2020-07-12T20:49:31.392502Z"
    }
   },
   "outputs": [
    {
     "data": {
      "text/plain": [
       "'verb, 3rd person singular present'"
      ]
     },
     "execution_count": 49,
     "metadata": {},
     "output_type": "execute_result"
    }
   ],
   "source": [
    "spacy.explain(\"VBZ\")"
   ]
  },
  {
   "cell_type": "code",
   "execution_count": 50,
   "metadata": {
    "ExecuteTime": {
     "end_time": "2020-07-12T20:49:31.573764Z",
     "start_time": "2020-07-12T20:49:31.567450Z"
    }
   },
   "outputs": [
    {
     "data": {
      "text/plain": [
       "'symbol'"
      ]
     },
     "execution_count": 50,
     "metadata": {},
     "output_type": "execute_result"
    }
   ],
   "source": [
    "spacy.explain(\"SYM\")"
   ]
  },
  {
   "cell_type": "code",
   "execution_count": 51,
   "metadata": {
    "ExecuteTime": {
     "end_time": "2020-07-12T20:49:35.181380Z",
     "start_time": "2020-07-12T20:49:31.743015Z"
    }
   },
   "outputs": [
    {
     "name": "stderr",
     "output_type": "stream",
     "text": [
      "/Users/lleiou/miniconda2/envs/film_title/lib/python3.6/site-packages/spacy/displacy/__init__.py:94: UserWarning: [W011] It looks like you're calling displacy.serve from within a Jupyter notebook or a similar environment. This likely means you're already running a local web server, so there's no need to make displaCy start another one. Instead, you should be able to replace displacy.serve with displacy.render to show the visualization.\n",
      "  warnings.warn(Warnings.W011)\n"
     ]
    },
    {
     "data": {
      "text/html": [
       "<span class=\"tex2jax_ignore\"><!DOCTYPE html>\n",
       "<html lang=\"en\">\n",
       "    <head>\n",
       "        <title>displaCy</title>\n",
       "    </head>\n",
       "\n",
       "    <body style=\"font-size: 16px; font-family: -apple-system, BlinkMacSystemFont, 'Segoe UI', Helvetica, Arial, sans-serif, 'Apple Color Emoji', 'Segoe UI Emoji', 'Segoe UI Symbol'; padding: 4rem 2rem; direction: ltr\">\n",
       "<figure style=\"margin-bottom: 6rem\">\n",
       "<svg xmlns=\"http://www.w3.org/2000/svg\" xmlns:xlink=\"http://www.w3.org/1999/xlink\" xml:lang=\"en\" id=\"a3d9779bea2e45a6ab084d8d0f4a3e0b-0\" class=\"displacy\" width=\"925\" height=\"312.0\" direction=\"ltr\" style=\"max-width: none; height: 312.0px; color: #000000; background: #ffffff; font-family: Arial; direction: ltr\">\n",
       "<text class=\"displacy-token\" fill=\"currentColor\" text-anchor=\"middle\" y=\"222.0\">\n",
       "    <tspan class=\"displacy-word\" fill=\"currentColor\" x=\"50\">the</tspan>\n",
       "    <tspan class=\"displacy-tag\" dy=\"2em\" fill=\"currentColor\" x=\"50\">DET</tspan>\n",
       "</text>\n",
       "\n",
       "<text class=\"displacy-token\" fill=\"currentColor\" text-anchor=\"middle\" y=\"222.0\">\n",
       "    <tspan class=\"displacy-word\" fill=\"currentColor\" x=\"225\">arrest</tspan>\n",
       "    <tspan class=\"displacy-tag\" dy=\"2em\" fill=\"currentColor\" x=\"225\">NOUN</tspan>\n",
       "</text>\n",
       "\n",
       "<text class=\"displacy-token\" fill=\"currentColor\" text-anchor=\"middle\" y=\"222.0\">\n",
       "    <tspan class=\"displacy-word\" fill=\"currentColor\" x=\"400\">of</tspan>\n",
       "    <tspan class=\"displacy-tag\" dy=\"2em\" fill=\"currentColor\" x=\"400\">ADP</tspan>\n",
       "</text>\n",
       "\n",
       "<text class=\"displacy-token\" fill=\"currentColor\" text-anchor=\"middle\" y=\"222.0\">\n",
       "    <tspan class=\"displacy-word\" fill=\"currentColor\" x=\"575\">a</tspan>\n",
       "    <tspan class=\"displacy-tag\" dy=\"2em\" fill=\"currentColor\" x=\"575\">DET</tspan>\n",
       "</text>\n",
       "\n",
       "<text class=\"displacy-token\" fill=\"currentColor\" text-anchor=\"middle\" y=\"222.0\">\n",
       "    <tspan class=\"displacy-word\" fill=\"currentColor\" x=\"750\">pickpocket</tspan>\n",
       "    <tspan class=\"displacy-tag\" dy=\"2em\" fill=\"currentColor\" x=\"750\">NOUN</tspan>\n",
       "</text>\n",
       "\n",
       "<g class=\"displacy-arrow\">\n",
       "    <path class=\"displacy-arc\" id=\"arrow-a3d9779bea2e45a6ab084d8d0f4a3e0b-0-0\" stroke-width=\"2px\" d=\"M70,177.0 C70,89.5 220.0,89.5 220.0,177.0\" fill=\"none\" stroke=\"currentColor\"/>\n",
       "    <text dy=\"1.25em\" style=\"font-size: 0.8em; letter-spacing: 1px\">\n",
       "        <textPath xlink:href=\"#arrow-a3d9779bea2e45a6ab084d8d0f4a3e0b-0-0\" class=\"displacy-label\" startOffset=\"50%\" side=\"left\" fill=\"currentColor\" text-anchor=\"middle\">det</textPath>\n",
       "    </text>\n",
       "    <path class=\"displacy-arrowhead\" d=\"M70,179.0 L62,167.0 78,167.0\" fill=\"currentColor\"/>\n",
       "</g>\n",
       "\n",
       "<g class=\"displacy-arrow\">\n",
       "    <path class=\"displacy-arc\" id=\"arrow-a3d9779bea2e45a6ab084d8d0f4a3e0b-0-1\" stroke-width=\"2px\" d=\"M245,177.0 C245,89.5 395.0,89.5 395.0,177.0\" fill=\"none\" stroke=\"currentColor\"/>\n",
       "    <text dy=\"1.25em\" style=\"font-size: 0.8em; letter-spacing: 1px\">\n",
       "        <textPath xlink:href=\"#arrow-a3d9779bea2e45a6ab084d8d0f4a3e0b-0-1\" class=\"displacy-label\" startOffset=\"50%\" side=\"left\" fill=\"currentColor\" text-anchor=\"middle\">prep</textPath>\n",
       "    </text>\n",
       "    <path class=\"displacy-arrowhead\" d=\"M395.0,179.0 L403.0,167.0 387.0,167.0\" fill=\"currentColor\"/>\n",
       "</g>\n",
       "\n",
       "<g class=\"displacy-arrow\">\n",
       "    <path class=\"displacy-arc\" id=\"arrow-a3d9779bea2e45a6ab084d8d0f4a3e0b-0-2\" stroke-width=\"2px\" d=\"M595,177.0 C595,89.5 745.0,89.5 745.0,177.0\" fill=\"none\" stroke=\"currentColor\"/>\n",
       "    <text dy=\"1.25em\" style=\"font-size: 0.8em; letter-spacing: 1px\">\n",
       "        <textPath xlink:href=\"#arrow-a3d9779bea2e45a6ab084d8d0f4a3e0b-0-2\" class=\"displacy-label\" startOffset=\"50%\" side=\"left\" fill=\"currentColor\" text-anchor=\"middle\">det</textPath>\n",
       "    </text>\n",
       "    <path class=\"displacy-arrowhead\" d=\"M595,179.0 L587,167.0 603,167.0\" fill=\"currentColor\"/>\n",
       "</g>\n",
       "\n",
       "<g class=\"displacy-arrow\">\n",
       "    <path class=\"displacy-arc\" id=\"arrow-a3d9779bea2e45a6ab084d8d0f4a3e0b-0-3\" stroke-width=\"2px\" d=\"M420,177.0 C420,2.0 750.0,2.0 750.0,177.0\" fill=\"none\" stroke=\"currentColor\"/>\n",
       "    <text dy=\"1.25em\" style=\"font-size: 0.8em; letter-spacing: 1px\">\n",
       "        <textPath xlink:href=\"#arrow-a3d9779bea2e45a6ab084d8d0f4a3e0b-0-3\" class=\"displacy-label\" startOffset=\"50%\" side=\"left\" fill=\"currentColor\" text-anchor=\"middle\">pobj</textPath>\n",
       "    </text>\n",
       "    <path class=\"displacy-arrowhead\" d=\"M750.0,179.0 L758.0,167.0 742.0,167.0\" fill=\"currentColor\"/>\n",
       "</g>\n",
       "</svg>\n",
       "</figure>\n",
       "</body>\n",
       "</html></span>"
      ],
      "text/plain": [
       "<IPython.core.display.HTML object>"
      ]
     },
     "metadata": {},
     "output_type": "display_data"
    },
    {
     "name": "stdout",
     "output_type": "stream",
     "text": [
      "\n",
      "Using the 'dep' visualizer\n",
      "Serving on http://0.0.0.0:5000 ...\n",
      "\n",
      "Shutting down server on port 5000.\n"
     ]
    }
   ],
   "source": [
    "# from spacy import displacy\n",
    "\n",
    "# displacy.serve(doc, style=\"dep\")"
   ]
  },
  {
   "cell_type": "code",
   "execution_count": null,
   "metadata": {},
   "outputs": [],
   "source": []
  },
  {
   "cell_type": "code",
   "execution_count": 81,
   "metadata": {
    "ExecuteTime": {
     "end_time": "2020-07-12T21:19:57.067144Z",
     "start_time": "2020-07-12T21:19:56.905112Z"
    }
   },
   "outputs": [
    {
     "name": "stdout",
     "output_type": "stream",
     "text": [
      "['the', 'arrest', 'of', 'a', 'pickpocket']\n",
      "['performing', 'animals', ';', 'or', ',', 'skipping', 'dogs']\n",
      "['a', 'morning', 'alarm']\n",
      "['mounted', 'police', 'charge']\n",
      "['the', 'burning', 'stable']\n"
     ]
    }
   ],
   "source": [
    "for doc in nlp.pipe(test['title'].astype('unicode').values, batch_size=50, n_threads=3):\n",
    "    if doc.is_parsed:\n",
    "        print([n.text for n in doc])\n",
    "#         lemma.append([n.lemma_ for n in doc])\n",
    "#         pos.append([n.pos_ for n in doc])"
   ]
  },
  {
   "cell_type": "code",
   "execution_count": 101,
   "metadata": {
    "ExecuteTime": {
     "end_time": "2020-07-12T21:34:37.687961Z",
     "start_time": "2020-07-12T21:34:37.652236Z"
    }
   },
   "outputs": [
    {
     "name": "stdout",
     "output_type": "stream",
     "text": [
      "CPU times: user 21.6 ms, sys: 4.85 ms, total: 26.4 ms\n",
      "Wall time: 26.6 ms\n"
     ]
    }
   ],
   "source": [
    "%%time\n",
    "\n",
    "tokens = []\n",
    "lemma = []\n",
    "ent = []\n",
    "pos = []\n",
    "\n",
    "for doc in nlp.pipe(test['title'].astype('unicode').values, batch_size=50, n_threads=3):\n",
    "    if doc.is_parsed:\n",
    "        tokens.append([n.text for n in doc])\n",
    "        lemma.append([n.lemma_ for n in doc])\n",
    "        ent.append([n.label_ for n in doc.ents]) #ent.append([n.ent_type_ for n in doc])\n",
    "        pos.append([n.pos_ for n in doc])\n",
    "    else:\n",
    "        # We want to make sure that the lists of parsed results have the\n",
    "        # same number of entries of the original Dataframe, so add some blanks in case the parse fails\n",
    "        tokens.append(None)\n",
    "        lemma.append(None)\n",
    "        ent.append(None)\n",
    "        pos.append(None)\n",
    "\n",
    "test['species_tokens'] = tokens\n",
    "test['species_lemma'] = lemma\n",
    "test['species_pos'] = pos\n",
    "test['species_ent'] = ent"
   ]
  },
  {
   "cell_type": "code",
   "execution_count": 102,
   "metadata": {
    "ExecuteTime": {
     "end_time": "2020-07-12T21:34:38.835108Z",
     "start_time": "2020-07-12T21:34:38.823361Z"
    }
   },
   "outputs": [
    {
     "data": {
      "text/plain": [
       "[]"
      ]
     },
     "execution_count": 102,
     "metadata": {},
     "output_type": "execute_result"
    }
   ],
   "source": [
    "test.head().species_ent[0]"
   ]
  },
  {
   "cell_type": "code",
   "execution_count": null,
   "metadata": {},
   "outputs": [],
   "source": []
  },
  {
   "cell_type": "code",
   "execution_count": 103,
   "metadata": {
    "ExecuteTime": {
     "end_time": "2020-07-12T21:34:43.031323Z",
     "start_time": "2020-07-12T21:34:42.987879Z"
    }
   },
   "outputs": [
    {
     "data": {
      "text/html": [
       "<div>\n",
       "<style scoped>\n",
       "    .dataframe tbody tr th:only-of-type {\n",
       "        vertical-align: middle;\n",
       "    }\n",
       "\n",
       "    .dataframe tbody tr th {\n",
       "        vertical-align: top;\n",
       "    }\n",
       "\n",
       "    .dataframe thead th {\n",
       "        text-align: right;\n",
       "    }\n",
       "</style>\n",
       "<table border=\"1\" class=\"dataframe\">\n",
       "  <thead>\n",
       "    <tr style=\"text-align: right;\">\n",
       "      <th></th>\n",
       "      <th>item</th>\n",
       "      <th>title</th>\n",
       "      <th>published</th>\n",
       "      <th>date</th>\n",
       "      <th>year</th>\n",
       "      <th>month</th>\n",
       "      <th>day</th>\n",
       "      <th>love_ind</th>\n",
       "      <th>hate_ind</th>\n",
       "      <th>war_ind</th>\n",
       "      <th>peace_ind</th>\n",
       "      <th>new</th>\n",
       "      <th>species_tokens</th>\n",
       "      <th>species_lemma</th>\n",
       "      <th>species_pos</th>\n",
       "      <th>species_ent</th>\n",
       "    </tr>\n",
       "  </thead>\n",
       "  <tbody>\n",
       "    <tr>\n",
       "      <th>0</th>\n",
       "      <td>http://www.wikidata.org/entity/Q4069062</td>\n",
       "      <td>the arrest of a pickpocket</td>\n",
       "      <td>1895-01-01T00:00:00Z</td>\n",
       "      <td>1895-01-01</td>\n",
       "      <td>1895</td>\n",
       "      <td>01</td>\n",
       "      <td>01</td>\n",
       "      <td>0</td>\n",
       "      <td>0</td>\n",
       "      <td>0</td>\n",
       "      <td>0</td>\n",
       "      <td>1</td>\n",
       "      <td>[the, arrest, of, a, pickpocket]</td>\n",
       "      <td>[the, arrest, of, a, pickpocket]</td>\n",
       "      <td>[DET, NOUN, ADP, DET, NOUN]</td>\n",
       "      <td>[]</td>\n",
       "    </tr>\n",
       "    <tr>\n",
       "      <th>1</th>\n",
       "      <td>http://www.wikidata.org/entity/Q7168279</td>\n",
       "      <td>performing animals; or, skipping dogs</td>\n",
       "      <td>1895-01-01T00:00:00Z</td>\n",
       "      <td>1895-01-01</td>\n",
       "      <td>1895</td>\n",
       "      <td>01</td>\n",
       "      <td>01</td>\n",
       "      <td>0</td>\n",
       "      <td>0</td>\n",
       "      <td>0</td>\n",
       "      <td>0</td>\n",
       "      <td>1</td>\n",
       "      <td>[performing, animals, ;, or, ,, skipping, dogs]</td>\n",
       "      <td>[perform, animal, ;, or, ,, skip, dog]</td>\n",
       "      <td>[VERB, NOUN, PUNCT, CCONJ, PUNCT, VERB, NOUN]</td>\n",
       "      <td>[]</td>\n",
       "    </tr>\n",
       "    <tr>\n",
       "      <th>2</th>\n",
       "      <td>http://www.wikidata.org/entity/Q2819823</td>\n",
       "      <td>a morning alarm</td>\n",
       "      <td>1896-01-01T00:00:00Z</td>\n",
       "      <td>1896-01-01</td>\n",
       "      <td>1896</td>\n",
       "      <td>01</td>\n",
       "      <td>01</td>\n",
       "      <td>0</td>\n",
       "      <td>0</td>\n",
       "      <td>0</td>\n",
       "      <td>0</td>\n",
       "      <td>1</td>\n",
       "      <td>[a, morning, alarm]</td>\n",
       "      <td>[a, morning, alarm]</td>\n",
       "      <td>[DET, NOUN, NOUN]</td>\n",
       "      <td>[TIME]</td>\n",
       "    </tr>\n",
       "    <tr>\n",
       "      <th>3</th>\n",
       "      <td>http://www.wikidata.org/entity/Q3326074</td>\n",
       "      <td>mounted police charge</td>\n",
       "      <td>1896-01-01T00:00:00Z</td>\n",
       "      <td>1896-01-01</td>\n",
       "      <td>1896</td>\n",
       "      <td>01</td>\n",
       "      <td>01</td>\n",
       "      <td>0</td>\n",
       "      <td>0</td>\n",
       "      <td>0</td>\n",
       "      <td>0</td>\n",
       "      <td>1</td>\n",
       "      <td>[mounted, police, charge]</td>\n",
       "      <td>[mount, police, charge]</td>\n",
       "      <td>[VERB, NOUN, NOUN]</td>\n",
       "      <td>[]</td>\n",
       "    </tr>\n",
       "    <tr>\n",
       "      <th>4</th>\n",
       "      <td>http://www.wikidata.org/entity/Q3520164</td>\n",
       "      <td>the burning stable</td>\n",
       "      <td>1896-01-01T00:00:00Z</td>\n",
       "      <td>1896-01-01</td>\n",
       "      <td>1896</td>\n",
       "      <td>01</td>\n",
       "      <td>01</td>\n",
       "      <td>0</td>\n",
       "      <td>0</td>\n",
       "      <td>0</td>\n",
       "      <td>0</td>\n",
       "      <td>1</td>\n",
       "      <td>[the, burning, stable]</td>\n",
       "      <td>[the, burn, stable]</td>\n",
       "      <td>[DET, VERB, NOUN]</td>\n",
       "      <td>[]</td>\n",
       "    </tr>\n",
       "  </tbody>\n",
       "</table>\n",
       "</div>"
      ],
      "text/plain": [
       "                                      item  \\\n",
       "0  http://www.wikidata.org/entity/Q4069062   \n",
       "1  http://www.wikidata.org/entity/Q7168279   \n",
       "2  http://www.wikidata.org/entity/Q2819823   \n",
       "3  http://www.wikidata.org/entity/Q3326074   \n",
       "4  http://www.wikidata.org/entity/Q3520164   \n",
       "\n",
       "                                   title             published        date  \\\n",
       "0             the arrest of a pickpocket  1895-01-01T00:00:00Z  1895-01-01   \n",
       "1  performing animals; or, skipping dogs  1895-01-01T00:00:00Z  1895-01-01   \n",
       "2                        a morning alarm  1896-01-01T00:00:00Z  1896-01-01   \n",
       "3                  mounted police charge  1896-01-01T00:00:00Z  1896-01-01   \n",
       "4                     the burning stable  1896-01-01T00:00:00Z  1896-01-01   \n",
       "\n",
       "   year month day  love_ind  hate_ind  war_ind  peace_ind  new  \\\n",
       "0  1895    01  01         0         0        0          0    1   \n",
       "1  1895    01  01         0         0        0          0    1   \n",
       "2  1896    01  01         0         0        0          0    1   \n",
       "3  1896    01  01         0         0        0          0    1   \n",
       "4  1896    01  01         0         0        0          0    1   \n",
       "\n",
       "                                    species_tokens  \\\n",
       "0                 [the, arrest, of, a, pickpocket]   \n",
       "1  [performing, animals, ;, or, ,, skipping, dogs]   \n",
       "2                              [a, morning, alarm]   \n",
       "3                        [mounted, police, charge]   \n",
       "4                           [the, burning, stable]   \n",
       "\n",
       "                            species_lemma  \\\n",
       "0        [the, arrest, of, a, pickpocket]   \n",
       "1  [perform, animal, ;, or, ,, skip, dog]   \n",
       "2                     [a, morning, alarm]   \n",
       "3                 [mount, police, charge]   \n",
       "4                     [the, burn, stable]   \n",
       "\n",
       "                                     species_pos species_ent  \n",
       "0                    [DET, NOUN, ADP, DET, NOUN]          []  \n",
       "1  [VERB, NOUN, PUNCT, CCONJ, PUNCT, VERB, NOUN]          []  \n",
       "2                              [DET, NOUN, NOUN]      [TIME]  \n",
       "3                             [VERB, NOUN, NOUN]          []  \n",
       "4                              [DET, VERB, NOUN]          []  "
      ]
     },
     "execution_count": 103,
     "metadata": {},
     "output_type": "execute_result"
    }
   ],
   "source": [
    "test.head()"
   ]
  },
  {
   "cell_type": "code",
   "execution_count": 84,
   "metadata": {
    "ExecuteTime": {
     "end_time": "2020-07-12T21:20:45.938671Z",
     "start_time": "2020-07-12T21:20:45.896473Z"
    }
   },
   "outputs": [
    {
     "data": {
      "text/html": [
       "<div>\n",
       "<style scoped>\n",
       "    .dataframe tbody tr th:only-of-type {\n",
       "        vertical-align: middle;\n",
       "    }\n",
       "\n",
       "    .dataframe tbody tr th {\n",
       "        vertical-align: top;\n",
       "    }\n",
       "\n",
       "    .dataframe thead th {\n",
       "        text-align: right;\n",
       "    }\n",
       "</style>\n",
       "<table border=\"1\" class=\"dataframe\">\n",
       "  <thead>\n",
       "    <tr style=\"text-align: right;\">\n",
       "      <th></th>\n",
       "      <th>item</th>\n",
       "      <th>title</th>\n",
       "      <th>published</th>\n",
       "      <th>date</th>\n",
       "      <th>year</th>\n",
       "      <th>month</th>\n",
       "      <th>day</th>\n",
       "      <th>love_ind</th>\n",
       "      <th>hate_ind</th>\n",
       "      <th>war_ind</th>\n",
       "      <th>peace_ind</th>\n",
       "      <th>new</th>\n",
       "      <th>species_tokens</th>\n",
       "      <th>species_lemma</th>\n",
       "      <th>species_pos</th>\n",
       "    </tr>\n",
       "  </thead>\n",
       "  <tbody>\n",
       "    <tr>\n",
       "      <th>0</th>\n",
       "      <td>http://www.wikidata.org/entity/Q4069062</td>\n",
       "      <td>the arrest of a pickpocket</td>\n",
       "      <td>1895-01-01T00:00:00Z</td>\n",
       "      <td>1895-01-01</td>\n",
       "      <td>1895</td>\n",
       "      <td>01</td>\n",
       "      <td>01</td>\n",
       "      <td>0</td>\n",
       "      <td>0</td>\n",
       "      <td>0</td>\n",
       "      <td>0</td>\n",
       "      <td>1</td>\n",
       "      <td>[the, arrest, of, a, pickpocket]</td>\n",
       "      <td>[the, arrest, of, a, pickpocket]</td>\n",
       "      <td>[DET, NOUN, ADP, DET, NOUN]</td>\n",
       "    </tr>\n",
       "    <tr>\n",
       "      <th>1</th>\n",
       "      <td>http://www.wikidata.org/entity/Q7168279</td>\n",
       "      <td>performing animals; or, skipping dogs</td>\n",
       "      <td>1895-01-01T00:00:00Z</td>\n",
       "      <td>1895-01-01</td>\n",
       "      <td>1895</td>\n",
       "      <td>01</td>\n",
       "      <td>01</td>\n",
       "      <td>0</td>\n",
       "      <td>0</td>\n",
       "      <td>0</td>\n",
       "      <td>0</td>\n",
       "      <td>1</td>\n",
       "      <td>[performing, animals, ;, or, ,, skipping, dogs]</td>\n",
       "      <td>[perform, animal, ;, or, ,, skip, dog]</td>\n",
       "      <td>[VERB, NOUN, PUNCT, CCONJ, PUNCT, VERB, NOUN]</td>\n",
       "    </tr>\n",
       "    <tr>\n",
       "      <th>2</th>\n",
       "      <td>http://www.wikidata.org/entity/Q2819823</td>\n",
       "      <td>a morning alarm</td>\n",
       "      <td>1896-01-01T00:00:00Z</td>\n",
       "      <td>1896-01-01</td>\n",
       "      <td>1896</td>\n",
       "      <td>01</td>\n",
       "      <td>01</td>\n",
       "      <td>0</td>\n",
       "      <td>0</td>\n",
       "      <td>0</td>\n",
       "      <td>0</td>\n",
       "      <td>1</td>\n",
       "      <td>[a, morning, alarm]</td>\n",
       "      <td>[a, morning, alarm]</td>\n",
       "      <td>[DET, NOUN, NOUN]</td>\n",
       "    </tr>\n",
       "    <tr>\n",
       "      <th>3</th>\n",
       "      <td>http://www.wikidata.org/entity/Q3326074</td>\n",
       "      <td>mounted police charge</td>\n",
       "      <td>1896-01-01T00:00:00Z</td>\n",
       "      <td>1896-01-01</td>\n",
       "      <td>1896</td>\n",
       "      <td>01</td>\n",
       "      <td>01</td>\n",
       "      <td>0</td>\n",
       "      <td>0</td>\n",
       "      <td>0</td>\n",
       "      <td>0</td>\n",
       "      <td>1</td>\n",
       "      <td>[mounted, police, charge]</td>\n",
       "      <td>[mount, police, charge]</td>\n",
       "      <td>[VERB, NOUN, NOUN]</td>\n",
       "    </tr>\n",
       "    <tr>\n",
       "      <th>4</th>\n",
       "      <td>http://www.wikidata.org/entity/Q3520164</td>\n",
       "      <td>the burning stable</td>\n",
       "      <td>1896-01-01T00:00:00Z</td>\n",
       "      <td>1896-01-01</td>\n",
       "      <td>1896</td>\n",
       "      <td>01</td>\n",
       "      <td>01</td>\n",
       "      <td>0</td>\n",
       "      <td>0</td>\n",
       "      <td>0</td>\n",
       "      <td>0</td>\n",
       "      <td>1</td>\n",
       "      <td>[the, burning, stable]</td>\n",
       "      <td>[the, burn, stable]</td>\n",
       "      <td>[DET, VERB, NOUN]</td>\n",
       "    </tr>\n",
       "  </tbody>\n",
       "</table>\n",
       "</div>"
      ],
      "text/plain": [
       "                                      item  \\\n",
       "0  http://www.wikidata.org/entity/Q4069062   \n",
       "1  http://www.wikidata.org/entity/Q7168279   \n",
       "2  http://www.wikidata.org/entity/Q2819823   \n",
       "3  http://www.wikidata.org/entity/Q3326074   \n",
       "4  http://www.wikidata.org/entity/Q3520164   \n",
       "\n",
       "                                   title             published        date  \\\n",
       "0             the arrest of a pickpocket  1895-01-01T00:00:00Z  1895-01-01   \n",
       "1  performing animals; or, skipping dogs  1895-01-01T00:00:00Z  1895-01-01   \n",
       "2                        a morning alarm  1896-01-01T00:00:00Z  1896-01-01   \n",
       "3                  mounted police charge  1896-01-01T00:00:00Z  1896-01-01   \n",
       "4                     the burning stable  1896-01-01T00:00:00Z  1896-01-01   \n",
       "\n",
       "   year month day  love_ind  hate_ind  war_ind  peace_ind  new  \\\n",
       "0  1895    01  01         0         0        0          0    1   \n",
       "1  1895    01  01         0         0        0          0    1   \n",
       "2  1896    01  01         0         0        0          0    1   \n",
       "3  1896    01  01         0         0        0          0    1   \n",
       "4  1896    01  01         0         0        0          0    1   \n",
       "\n",
       "                                    species_tokens  \\\n",
       "0                 [the, arrest, of, a, pickpocket]   \n",
       "1  [performing, animals, ;, or, ,, skipping, dogs]   \n",
       "2                              [a, morning, alarm]   \n",
       "3                        [mounted, police, charge]   \n",
       "4                           [the, burning, stable]   \n",
       "\n",
       "                            species_lemma  \\\n",
       "0        [the, arrest, of, a, pickpocket]   \n",
       "1  [perform, animal, ;, or, ,, skip, dog]   \n",
       "2                     [a, morning, alarm]   \n",
       "3                 [mount, police, charge]   \n",
       "4                     [the, burn, stable]   \n",
       "\n",
       "                                     species_pos  \n",
       "0                    [DET, NOUN, ADP, DET, NOUN]  \n",
       "1  [VERB, NOUN, PUNCT, CCONJ, PUNCT, VERB, NOUN]  \n",
       "2                              [DET, NOUN, NOUN]  \n",
       "3                             [VERB, NOUN, NOUN]  \n",
       "4                              [DET, VERB, NOUN]  "
      ]
     },
     "execution_count": 84,
     "metadata": {},
     "output_type": "execute_result"
    }
   ],
   "source": [
    "test"
   ]
  },
  {
   "cell_type": "code",
   "execution_count": 87,
   "metadata": {
    "ExecuteTime": {
     "end_time": "2020-07-12T21:21:28.220323Z",
     "start_time": "2020-07-12T21:21:28.208980Z"
    }
   },
   "outputs": [
    {
     "data": {
      "text/plain": [
       "['DET', 'NOUN', 'ADP', 'DET', 'NOUN']"
      ]
     },
     "execution_count": 87,
     "metadata": {},
     "output_type": "execute_result"
    }
   ],
   "source": [
    "test.species_pos[0]"
   ]
  },
  {
   "cell_type": "code",
   "execution_count": null,
   "metadata": {},
   "outputs": [],
   "source": []
  },
  {
   "cell_type": "code",
   "execution_count": null,
   "metadata": {},
   "outputs": [],
   "source": []
  },
  {
   "cell_type": "code",
   "execution_count": 53,
   "metadata": {
    "ExecuteTime": {
     "end_time": "2020-07-12T20:49:39.463277Z",
     "start_time": "2020-07-12T20:49:39.455541Z"
    }
   },
   "outputs": [],
   "source": [
    "for ent in doc.ents:\n",
    "    print(ent.text, ent.start_char, ent.end_char, ent.label_)"
   ]
  },
  {
   "cell_type": "code",
   "execution_count": 70,
   "metadata": {
    "ExecuteTime": {
     "end_time": "2020-07-12T21:12:57.582703Z",
     "start_time": "2020-07-12T21:12:57.498109Z"
    }
   },
   "outputs": [],
   "source": [
    "doc = nlp('Uber eats India was acquired by Zomato for $350 million')"
   ]
  },
  {
   "cell_type": "code",
   "execution_count": 71,
   "metadata": {
    "ExecuteTime": {
     "end_time": "2020-07-12T21:12:59.556917Z",
     "start_time": "2020-07-12T21:12:59.546018Z"
    }
   },
   "outputs": [
    {
     "data": {
      "text/plain": [
       "(India, Zomato, $350 million)"
      ]
     },
     "execution_count": 71,
     "metadata": {},
     "output_type": "execute_result"
    }
   ],
   "source": [
    "doc.ents"
   ]
  },
  {
   "cell_type": "code",
   "execution_count": 73,
   "metadata": {
    "ExecuteTime": {
     "end_time": "2020-07-12T21:14:41.548347Z",
     "start_time": "2020-07-12T21:14:41.538537Z"
    }
   },
   "outputs": [
    {
     "data": {
      "text/plain": [
       "False"
      ]
     },
     "execution_count": 73,
     "metadata": {},
     "output_type": "execute_result"
    }
   ],
   "source": [
    "'man' in ['woman', 'people']"
   ]
  },
  {
   "cell_type": "code",
   "execution_count": 74,
   "metadata": {
    "ExecuteTime": {
     "end_time": "2020-07-12T21:15:00.363495Z",
     "start_time": "2020-07-12T21:15:00.343815Z"
    }
   },
   "outputs": [],
   "source": [
    "test = df.head().copy()"
   ]
  },
  {
   "cell_type": "code",
   "execution_count": 75,
   "metadata": {
    "ExecuteTime": {
     "end_time": "2020-07-12T21:15:19.860404Z",
     "start_time": "2020-07-12T21:15:19.825382Z"
    }
   },
   "outputs": [],
   "source": [
    "test['new'] = 1"
   ]
  },
  {
   "cell_type": "code",
   "execution_count": 76,
   "metadata": {
    "ExecuteTime": {
     "end_time": "2020-07-12T21:15:24.993088Z",
     "start_time": "2020-07-12T21:15:24.963372Z"
    }
   },
   "outputs": [
    {
     "data": {
      "text/html": [
       "<div>\n",
       "<style scoped>\n",
       "    .dataframe tbody tr th:only-of-type {\n",
       "        vertical-align: middle;\n",
       "    }\n",
       "\n",
       "    .dataframe tbody tr th {\n",
       "        vertical-align: top;\n",
       "    }\n",
       "\n",
       "    .dataframe thead th {\n",
       "        text-align: right;\n",
       "    }\n",
       "</style>\n",
       "<table border=\"1\" class=\"dataframe\">\n",
       "  <thead>\n",
       "    <tr style=\"text-align: right;\">\n",
       "      <th></th>\n",
       "      <th>item</th>\n",
       "      <th>title</th>\n",
       "      <th>published</th>\n",
       "      <th>date</th>\n",
       "      <th>year</th>\n",
       "      <th>month</th>\n",
       "      <th>day</th>\n",
       "      <th>love_ind</th>\n",
       "      <th>hate_ind</th>\n",
       "      <th>war_ind</th>\n",
       "      <th>peace_ind</th>\n",
       "      <th>new</th>\n",
       "    </tr>\n",
       "  </thead>\n",
       "  <tbody>\n",
       "    <tr>\n",
       "      <th>0</th>\n",
       "      <td>http://www.wikidata.org/entity/Q4069062</td>\n",
       "      <td>the arrest of a pickpocket</td>\n",
       "      <td>1895-01-01T00:00:00Z</td>\n",
       "      <td>1895-01-01</td>\n",
       "      <td>1895</td>\n",
       "      <td>01</td>\n",
       "      <td>01</td>\n",
       "      <td>0</td>\n",
       "      <td>0</td>\n",
       "      <td>0</td>\n",
       "      <td>0</td>\n",
       "      <td>1</td>\n",
       "    </tr>\n",
       "    <tr>\n",
       "      <th>1</th>\n",
       "      <td>http://www.wikidata.org/entity/Q7168279</td>\n",
       "      <td>performing animals; or, skipping dogs</td>\n",
       "      <td>1895-01-01T00:00:00Z</td>\n",
       "      <td>1895-01-01</td>\n",
       "      <td>1895</td>\n",
       "      <td>01</td>\n",
       "      <td>01</td>\n",
       "      <td>0</td>\n",
       "      <td>0</td>\n",
       "      <td>0</td>\n",
       "      <td>0</td>\n",
       "      <td>1</td>\n",
       "    </tr>\n",
       "    <tr>\n",
       "      <th>2</th>\n",
       "      <td>http://www.wikidata.org/entity/Q2819823</td>\n",
       "      <td>a morning alarm</td>\n",
       "      <td>1896-01-01T00:00:00Z</td>\n",
       "      <td>1896-01-01</td>\n",
       "      <td>1896</td>\n",
       "      <td>01</td>\n",
       "      <td>01</td>\n",
       "      <td>0</td>\n",
       "      <td>0</td>\n",
       "      <td>0</td>\n",
       "      <td>0</td>\n",
       "      <td>1</td>\n",
       "    </tr>\n",
       "    <tr>\n",
       "      <th>3</th>\n",
       "      <td>http://www.wikidata.org/entity/Q3326074</td>\n",
       "      <td>mounted police charge</td>\n",
       "      <td>1896-01-01T00:00:00Z</td>\n",
       "      <td>1896-01-01</td>\n",
       "      <td>1896</td>\n",
       "      <td>01</td>\n",
       "      <td>01</td>\n",
       "      <td>0</td>\n",
       "      <td>0</td>\n",
       "      <td>0</td>\n",
       "      <td>0</td>\n",
       "      <td>1</td>\n",
       "    </tr>\n",
       "    <tr>\n",
       "      <th>4</th>\n",
       "      <td>http://www.wikidata.org/entity/Q3520164</td>\n",
       "      <td>the burning stable</td>\n",
       "      <td>1896-01-01T00:00:00Z</td>\n",
       "      <td>1896-01-01</td>\n",
       "      <td>1896</td>\n",
       "      <td>01</td>\n",
       "      <td>01</td>\n",
       "      <td>0</td>\n",
       "      <td>0</td>\n",
       "      <td>0</td>\n",
       "      <td>0</td>\n",
       "      <td>1</td>\n",
       "    </tr>\n",
       "  </tbody>\n",
       "</table>\n",
       "</div>"
      ],
      "text/plain": [
       "                                      item  \\\n",
       "0  http://www.wikidata.org/entity/Q4069062   \n",
       "1  http://www.wikidata.org/entity/Q7168279   \n",
       "2  http://www.wikidata.org/entity/Q2819823   \n",
       "3  http://www.wikidata.org/entity/Q3326074   \n",
       "4  http://www.wikidata.org/entity/Q3520164   \n",
       "\n",
       "                                   title             published        date  \\\n",
       "0             the arrest of a pickpocket  1895-01-01T00:00:00Z  1895-01-01   \n",
       "1  performing animals; or, skipping dogs  1895-01-01T00:00:00Z  1895-01-01   \n",
       "2                        a morning alarm  1896-01-01T00:00:00Z  1896-01-01   \n",
       "3                  mounted police charge  1896-01-01T00:00:00Z  1896-01-01   \n",
       "4                     the burning stable  1896-01-01T00:00:00Z  1896-01-01   \n",
       "\n",
       "   year month day  love_ind  hate_ind  war_ind  peace_ind  new  \n",
       "0  1895    01  01         0         0        0          0    1  \n",
       "1  1895    01  01         0         0        0          0    1  \n",
       "2  1896    01  01         0         0        0          0    1  \n",
       "3  1896    01  01         0         0        0          0    1  \n",
       "4  1896    01  01         0         0        0          0    1  "
      ]
     },
     "execution_count": 76,
     "metadata": {},
     "output_type": "execute_result"
    }
   ],
   "source": [
    "test.loc[0, 'new'] = ['']"
   ]
  },
  {
   "cell_type": "code",
   "execution_count": 54,
   "metadata": {
    "ExecuteTime": {
     "end_time": "2020-07-12T20:49:39.644195Z",
     "start_time": "2020-07-12T20:49:39.634170Z"
    }
   },
   "outputs": [
    {
     "data": {
      "text/plain": [
       "'Countries, cities, states'"
      ]
     },
     "execution_count": 54,
     "metadata": {},
     "output_type": "execute_result"
    }
   ],
   "source": [
    "spacy.explain(\"GPE\")"
   ]
  },
  {
   "cell_type": "code",
   "execution_count": 55,
   "metadata": {
    "ExecuteTime": {
     "end_time": "2020-07-12T20:49:39.844906Z",
     "start_time": "2020-07-12T20:49:39.831585Z"
    }
   },
   "outputs": [
    {
     "name": "stdout",
     "output_type": "stream",
     "text": [
      "the True 19.79567 False\n",
      "arrest True 20.331337 False\n",
      "of True 22.341307 False\n",
      "a True 21.505527 False\n",
      "pickpocket True 18.446245 False\n"
     ]
    }
   ],
   "source": [
    "for token in doc:\n",
    "    print(token.text, token.has_vector, token.vector_norm, token.is_oov)"
   ]
  },
  {
   "cell_type": "code",
   "execution_count": 57,
   "metadata": {
    "ExecuteTime": {
     "end_time": "2020-07-12T20:52:25.263804Z",
     "start_time": "2020-07-12T20:52:25.227528Z"
    }
   },
   "outputs": [
    {
     "name": "stdout",
     "output_type": "stream",
     "text": [
      "dog dog 1.0\n",
      "dog cat 0.4192831\n",
      "dog banana 0.41783607\n",
      "cat dog 0.4192831\n",
      "cat cat 1.0\n",
      "cat banana 0.34277543\n",
      "banana dog 0.41783607\n",
      "banana cat 0.34277543\n",
      "banana banana 1.0\n"
     ]
    },
    {
     "name": "stderr",
     "output_type": "stream",
     "text": [
      "/Users/lleiou/miniconda2/envs/film_title/lib/python3.6/site-packages/ipykernel_launcher.py:5: UserWarning: [W007] The model you're using has no word vectors loaded, so the result of the Token.similarity method will be based on the tagger, parser and NER, which may not give useful similarity judgements. This may happen if you're using one of the small models, e.g. `en_core_web_sm`, which don't ship with word vectors and only use context-sensitive tensors. You can always add your own word vectors, or use one of the larger models instead if available.\n",
      "  \"\"\"\n"
     ]
    }
   ],
   "source": [
    "tokens = nlp(\"dog cat banana\")\n",
    "\n",
    "for token1 in tokens:\n",
    "    for token2 in tokens:\n",
    "        print(token1.text, token2.text, token1.similarity(token2))"
   ]
  },
  {
   "cell_type": "code",
   "execution_count": 61,
   "metadata": {
    "ExecuteTime": {
     "end_time": "2020-07-12T20:56:07.087703Z",
     "start_time": "2020-07-12T20:56:07.046056Z"
    }
   },
   "outputs": [
    {
     "name": "stdout",
     "output_type": "stream",
     "text": [
      "0.07194189301221651\n"
     ]
    },
    {
     "name": "stderr",
     "output_type": "stream",
     "text": [
      "/Users/lleiou/miniconda2/envs/film_title/lib/python3.6/site-packages/ipykernel_launcher.py:3: UserWarning: [W007] The model you're using has no word vectors loaded, so the result of the Doc.similarity method will be based on the tagger, parser and NER, which may not give useful similarity judgements. This may happen if you're using one of the small models, e.g. `en_core_web_sm`, which don't ship with word vectors and only use context-sensitive tensors. You can always add your own word vectors, or use one of the larger models instead if available.\n",
      "  This is separate from the ipykernel package so we can avoid doing imports until\n"
     ]
    }
   ],
   "source": [
    "doc1 = nlp(df.title[0])\n",
    "doc2 = nlp(df.title[1])\n",
    "print(doc1.similarity(doc2))"
   ]
  },
  {
   "cell_type": "code",
   "execution_count": null,
   "metadata": {},
   "outputs": [],
   "source": []
  },
  {
   "cell_type": "code",
   "execution_count": null,
   "metadata": {},
   "outputs": [],
   "source": []
  },
  {
   "cell_type": "code",
   "execution_count": 63,
   "metadata": {
    "ExecuteTime": {
     "end_time": "2020-07-12T21:08:46.167063Z",
     "start_time": "2020-07-12T21:08:46.162567Z"
    }
   },
   "outputs": [],
   "source": [
    "from spacy.attrs import ORTH, LIKE_URL"
   ]
  },
  {
   "cell_type": "code",
   "execution_count": 64,
   "metadata": {
    "ExecuteTime": {
     "end_time": "2020-07-12T21:08:53.327671Z",
     "start_time": "2020-07-12T21:08:53.302715Z"
    }
   },
   "outputs": [
    {
     "name": "stdout",
     "output_type": "stream",
     "text": [
      "Check 8104846059040039827 False\n",
      "out 1696981056005371314 False\n",
      "https://spacy.io 17142293684782158888 True\n"
     ]
    }
   ],
   "source": [
    "doc = nlp(\"Check out https://spacy.io\")\n",
    "for token in doc:\n",
    "    print(token.text, token.orth, token.like_url)"
   ]
  },
  {
   "cell_type": "code",
   "execution_count": 65,
   "metadata": {
    "ExecuteTime": {
     "end_time": "2020-07-12T21:09:12.126024Z",
     "start_time": "2020-07-12T21:09:12.104991Z"
    }
   },
   "outputs": [
    {
     "name": "stdout",
     "output_type": "stream",
     "text": [
      "(3, 2)\n",
      "3 2\n"
     ]
    }
   ],
   "source": [
    "attr_ids = [ORTH, LIKE_URL]\n",
    "doc_array = doc.to_array(attr_ids)\n",
    "print(doc_array.shape)\n",
    "print(len(doc), len(attr_ids))"
   ]
  },
  {
   "cell_type": "code",
   "execution_count": 68,
   "metadata": {
    "ExecuteTime": {
     "end_time": "2020-07-12T21:10:03.934412Z",
     "start_time": "2020-07-12T21:10:03.921792Z"
    }
   },
   "outputs": [
    {
     "data": {
      "text/plain": [
       "array([[ 8104846059040039827,                    0],\n",
       "       [ 1696981056005371314,                    0],\n",
       "       [17142293684782158888,                    1]], dtype=uint64)"
      ]
     },
     "execution_count": 68,
     "metadata": {},
     "output_type": "execute_result"
    }
   ],
   "source": [
    "doc_array"
   ]
  },
  {
   "cell_type": "code",
   "execution_count": 66,
   "metadata": {
    "ExecuteTime": {
     "end_time": "2020-07-12T21:09:31.121805Z",
     "start_time": "2020-07-12T21:09:31.102487Z"
    }
   },
   "outputs": [],
   "source": [
    "assert doc[0].orth == doc_array[0, 0]\n",
    "assert doc[1].orth == doc_array[1, 0]\n",
    "assert doc[0].like_url == doc_array[0, 1]"
   ]
  },
  {
   "cell_type": "code",
   "execution_count": 67,
   "metadata": {
    "ExecuteTime": {
     "end_time": "2020-07-12T21:09:33.903842Z",
     "start_time": "2020-07-12T21:09:33.894030Z"
    }
   },
   "outputs": [
    {
     "name": "stdout",
     "output_type": "stream",
     "text": [
      "[0, 0, 1]\n"
     ]
    }
   ],
   "source": [
    "assert list(doc_array[:, 1]) == [t.like_url for t in doc]\n",
    "print(list(doc_array[:, 1]))"
   ]
  },
  {
   "cell_type": "code",
   "execution_count": null,
   "metadata": {},
   "outputs": [],
   "source": []
  },
  {
   "cell_type": "code",
   "execution_count": null,
   "metadata": {},
   "outputs": [],
   "source": []
  }
 ],
 "metadata": {
  "kernelspec": {
   "display_name": "Python [conda env:film_title] *",
   "language": "python",
   "name": "conda-env-film_title-py"
  },
  "toc": {
   "base_numbering": 1,
   "nav_menu": {},
   "number_sections": true,
   "sideBar": true,
   "skip_h1_title": false,
   "title_cell": "Table of Contents",
   "title_sidebar": "Contents",
   "toc_cell": false,
   "toc_position": {},
   "toc_section_display": true,
   "toc_window_display": false
  },
  "varInspector": {
   "cols": {
    "lenName": 16,
    "lenType": 16,
    "lenVar": 40
   },
   "kernels_config": {
    "python": {
     "delete_cmd_postfix": "",
     "delete_cmd_prefix": "del ",
     "library": "var_list.py",
     "varRefreshCmd": "print(var_dic_list())"
    },
    "r": {
     "delete_cmd_postfix": ") ",
     "delete_cmd_prefix": "rm(",
     "library": "var_list.r",
     "varRefreshCmd": "cat(var_dic_list()) "
    }
   },
   "types_to_exclude": [
    "module",
    "function",
    "builtin_function_or_method",
    "instance",
    "_Feature"
   ],
   "window_display": false
  }
 },
 "nbformat": 4,
 "nbformat_minor": 4
}
