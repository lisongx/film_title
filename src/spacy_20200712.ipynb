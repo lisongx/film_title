{
 "cells": [
  {
   "cell_type": "code",
   "execution_count": 6,
   "metadata": {
    "ExecuteTime": {
     "end_time": "2020-07-12T20:22:24.577211Z",
     "start_time": "2020-07-12T20:22:24.527986Z"
    },
    "scrolled": true
   },
   "outputs": [
    {
     "data": {
      "application/javascript": [
       "IPython.notebook.set_autosave_interval(20000)"
      ]
     },
     "metadata": {},
     "output_type": "display_data"
    },
    {
     "name": "stdout",
     "output_type": "stream",
     "text": [
      "Autosaving every 20 seconds\n"
     ]
    }
   ],
   "source": [
    "import pandas as pd\n",
    "import spacy\n",
    "\n",
    "%autosave 20"
   ]
  },
  {
   "cell_type": "markdown",
   "metadata": {},
   "source": [
    "## load data"
   ]
  },
  {
   "cell_type": "code",
   "execution_count": 15,
   "metadata": {
    "ExecuteTime": {
     "end_time": "2020-07-12T20:26:15.739254Z",
     "start_time": "2020-07-12T20:26:15.706967Z"
    }
   },
   "outputs": [
    {
     "data": {
      "text/plain": [
       "(63807, 11)"
      ]
     },
     "execution_count": 15,
     "metadata": {},
     "output_type": "execute_result"
    }
   ],
   "source": [
    "%store -r df\n",
    "df.shape"
   ]
  },
  {
   "cell_type": "code",
   "execution_count": 12,
   "metadata": {
    "ExecuteTime": {
     "end_time": "2020-07-12T20:23:39.129957Z",
     "start_time": "2020-07-12T20:23:39.061543Z"
    }
   },
   "outputs": [
    {
     "data": {
      "text/html": [
       "<div>\n",
       "<style scoped>\n",
       "    .dataframe tbody tr th:only-of-type {\n",
       "        vertical-align: middle;\n",
       "    }\n",
       "\n",
       "    .dataframe tbody tr th {\n",
       "        vertical-align: top;\n",
       "    }\n",
       "\n",
       "    .dataframe thead th {\n",
       "        text-align: right;\n",
       "    }\n",
       "</style>\n",
       "<table border=\"1\" class=\"dataframe\">\n",
       "  <thead>\n",
       "    <tr style=\"text-align: right;\">\n",
       "      <th></th>\n",
       "      <th>item</th>\n",
       "      <th>title</th>\n",
       "      <th>published</th>\n",
       "      <th>date</th>\n",
       "      <th>year</th>\n",
       "      <th>month</th>\n",
       "      <th>day</th>\n",
       "      <th>love_ind</th>\n",
       "      <th>hate_ind</th>\n",
       "      <th>war_ind</th>\n",
       "      <th>peace_ind</th>\n",
       "    </tr>\n",
       "  </thead>\n",
       "  <tbody>\n",
       "    <tr>\n",
       "      <th>0</th>\n",
       "      <td>http://www.wikidata.org/entity/Q4069062</td>\n",
       "      <td>the arrest of a pickpocket</td>\n",
       "      <td>1895-01-01T00:00:00Z</td>\n",
       "      <td>1895-01-01</td>\n",
       "      <td>1895</td>\n",
       "      <td>01</td>\n",
       "      <td>01</td>\n",
       "      <td>0</td>\n",
       "      <td>0</td>\n",
       "      <td>0</td>\n",
       "      <td>0</td>\n",
       "    </tr>\n",
       "    <tr>\n",
       "      <th>1</th>\n",
       "      <td>http://www.wikidata.org/entity/Q7168279</td>\n",
       "      <td>performing animals; or, skipping dogs</td>\n",
       "      <td>1895-01-01T00:00:00Z</td>\n",
       "      <td>1895-01-01</td>\n",
       "      <td>1895</td>\n",
       "      <td>01</td>\n",
       "      <td>01</td>\n",
       "      <td>0</td>\n",
       "      <td>0</td>\n",
       "      <td>0</td>\n",
       "      <td>0</td>\n",
       "    </tr>\n",
       "    <tr>\n",
       "      <th>2</th>\n",
       "      <td>http://www.wikidata.org/entity/Q2819823</td>\n",
       "      <td>a morning alarm</td>\n",
       "      <td>1896-01-01T00:00:00Z</td>\n",
       "      <td>1896-01-01</td>\n",
       "      <td>1896</td>\n",
       "      <td>01</td>\n",
       "      <td>01</td>\n",
       "      <td>0</td>\n",
       "      <td>0</td>\n",
       "      <td>0</td>\n",
       "      <td>0</td>\n",
       "    </tr>\n",
       "    <tr>\n",
       "      <th>3</th>\n",
       "      <td>http://www.wikidata.org/entity/Q3326074</td>\n",
       "      <td>mounted police charge</td>\n",
       "      <td>1896-01-01T00:00:00Z</td>\n",
       "      <td>1896-01-01</td>\n",
       "      <td>1896</td>\n",
       "      <td>01</td>\n",
       "      <td>01</td>\n",
       "      <td>0</td>\n",
       "      <td>0</td>\n",
       "      <td>0</td>\n",
       "      <td>0</td>\n",
       "    </tr>\n",
       "    <tr>\n",
       "      <th>4</th>\n",
       "      <td>http://www.wikidata.org/entity/Q3520164</td>\n",
       "      <td>the burning stable</td>\n",
       "      <td>1896-01-01T00:00:00Z</td>\n",
       "      <td>1896-01-01</td>\n",
       "      <td>1896</td>\n",
       "      <td>01</td>\n",
       "      <td>01</td>\n",
       "      <td>0</td>\n",
       "      <td>0</td>\n",
       "      <td>0</td>\n",
       "      <td>0</td>\n",
       "    </tr>\n",
       "  </tbody>\n",
       "</table>\n",
       "</div>"
      ],
      "text/plain": [
       "                                      item  \\\n",
       "0  http://www.wikidata.org/entity/Q4069062   \n",
       "1  http://www.wikidata.org/entity/Q7168279   \n",
       "2  http://www.wikidata.org/entity/Q2819823   \n",
       "3  http://www.wikidata.org/entity/Q3326074   \n",
       "4  http://www.wikidata.org/entity/Q3520164   \n",
       "\n",
       "                                   title             published        date  \\\n",
       "0             the arrest of a pickpocket  1895-01-01T00:00:00Z  1895-01-01   \n",
       "1  performing animals; or, skipping dogs  1895-01-01T00:00:00Z  1895-01-01   \n",
       "2                        a morning alarm  1896-01-01T00:00:00Z  1896-01-01   \n",
       "3                  mounted police charge  1896-01-01T00:00:00Z  1896-01-01   \n",
       "4                     the burning stable  1896-01-01T00:00:00Z  1896-01-01   \n",
       "\n",
       "   year month day  love_ind  hate_ind  war_ind  peace_ind  \n",
       "0  1895    01  01         0         0        0          0  \n",
       "1  1895    01  01         0         0        0          0  \n",
       "2  1896    01  01         0         0        0          0  \n",
       "3  1896    01  01         0         0        0          0  \n",
       "4  1896    01  01         0         0        0          0  "
      ]
     },
     "execution_count": 12,
     "metadata": {},
     "output_type": "execute_result"
    }
   ],
   "source": [
    "df.head()"
   ]
  },
  {
   "cell_type": "markdown",
   "metadata": {},
   "source": [
    "## create a language project and process the film title\n",
    "- tokenization\n",
    "- named entities"
   ]
  },
  {
   "cell_type": "code",
   "execution_count": 7,
   "metadata": {
    "ExecuteTime": {
     "end_time": "2020-07-12T20:22:27.053469Z",
     "start_time": "2020-07-12T20:22:25.958803Z"
    }
   },
   "outputs": [],
   "source": [
    "nlp = spacy.load(\"en_core_web_sm\")"
   ]
  },
  {
   "cell_type": "code",
   "execution_count": 46,
   "metadata": {
    "ExecuteTime": {
     "end_time": "2020-07-12T20:49:30.773067Z",
     "start_time": "2020-07-12T20:49:30.758872Z"
    }
   },
   "outputs": [
    {
     "data": {
      "text/plain": [
       "'determiner'"
      ]
     },
     "execution_count": 46,
     "metadata": {},
     "output_type": "execute_result"
    }
   ],
   "source": [
    "spacy.explain(\"DET\")"
   ]
  },
  {
   "cell_type": "code",
   "execution_count": 47,
   "metadata": {
    "ExecuteTime": {
     "end_time": "2020-07-12T20:49:31.039086Z",
     "start_time": "2020-07-12T20:49:31.028278Z"
    }
   },
   "outputs": [
    {
     "data": {
      "text/plain": [
       "'adposition'"
      ]
     },
     "execution_count": 47,
     "metadata": {},
     "output_type": "execute_result"
    }
   ],
   "source": [
    "spacy.explain(\"ADP\")"
   ]
  },
  {
   "cell_type": "code",
   "execution_count": 48,
   "metadata": {
    "ExecuteTime": {
     "end_time": "2020-07-12T20:49:31.234692Z",
     "start_time": "2020-07-12T20:49:31.228029Z"
    }
   },
   "outputs": [
    {
     "data": {
      "text/plain": [
       "'proper noun'"
      ]
     },
     "execution_count": 48,
     "metadata": {},
     "output_type": "execute_result"
    }
   ],
   "source": [
    "spacy.explain(\"PROPN\")"
   ]
  },
  {
   "cell_type": "code",
   "execution_count": 49,
   "metadata": {
    "ExecuteTime": {
     "end_time": "2020-07-12T20:49:31.401034Z",
     "start_time": "2020-07-12T20:49:31.392502Z"
    }
   },
   "outputs": [
    {
     "data": {
      "text/plain": [
       "'verb, 3rd person singular present'"
      ]
     },
     "execution_count": 49,
     "metadata": {},
     "output_type": "execute_result"
    }
   ],
   "source": [
    "spacy.explain(\"VBZ\")"
   ]
  },
  {
   "cell_type": "code",
   "execution_count": 50,
   "metadata": {
    "ExecuteTime": {
     "end_time": "2020-07-12T20:49:31.573764Z",
     "start_time": "2020-07-12T20:49:31.567450Z"
    }
   },
   "outputs": [
    {
     "data": {
      "text/plain": [
       "'symbol'"
      ]
     },
     "execution_count": 50,
     "metadata": {},
     "output_type": "execute_result"
    }
   ],
   "source": [
    "spacy.explain(\"SYM\")"
   ]
  },
  {
   "cell_type": "code",
   "execution_count": 54,
   "metadata": {
    "ExecuteTime": {
     "end_time": "2020-07-12T20:49:39.644195Z",
     "start_time": "2020-07-12T20:49:39.634170Z"
    }
   },
   "outputs": [
    {
     "data": {
      "text/plain": [
       "'Countries, cities, states'"
      ]
     },
     "execution_count": 54,
     "metadata": {},
     "output_type": "execute_result"
    }
   ],
   "source": [
    "spacy.explain(\"GPE\")"
   ]
  },
  {
   "cell_type": "code",
   "execution_count": 1,
   "metadata": {
    "ExecuteTime": {
     "end_time": "2020-07-13T04:09:38.922335Z",
     "start_time": "2020-07-13T04:09:38.916290Z"
    }
   },
   "outputs": [],
   "source": [
    "# visualization:\n",
    "\n",
    "# from spacy import displacy\n",
    "\n",
    "# displacy.serve(doc, style=\"dep\")"
   ]
  },
  {
   "cell_type": "code",
   "execution_count": null,
   "metadata": {},
   "outputs": [],
   "source": []
  },
  {
   "cell_type": "markdown",
   "metadata": {},
   "source": [
    "## Generate New columns to store tokens and entites of the corresponding titles"
   ]
  },
  {
   "cell_type": "code",
   "execution_count": 101,
   "metadata": {
    "ExecuteTime": {
     "end_time": "2020-07-12T21:34:37.687961Z",
     "start_time": "2020-07-12T21:34:37.652236Z"
    }
   },
   "outputs": [
    {
     "name": "stdout",
     "output_type": "stream",
     "text": [
      "CPU times: user 21.6 ms, sys: 4.85 ms, total: 26.4 ms\n",
      "Wall time: 26.6 ms\n"
     ]
    }
   ],
   "source": [
    "%%time\n",
    "\n",
    "tokens = []\n",
    "lemma = []\n",
    "ent = []\n",
    "pos = []\n",
    "\n",
    "for doc in nlp.pipe(test['title'].astype('unicode').values, batch_size=50, n_threads=3):\n",
    "    if doc.is_parsed:\n",
    "        tokens.append([n.text for n in doc])\n",
    "        lemma.append([n.lemma_ for n in doc])\n",
    "        ent.append([n.label_ for n in doc.ents]) #ent.append([n.ent_type_ for n in doc])\n",
    "        pos.append([n.pos_ for n in doc])\n",
    "    else:\n",
    "        # We want to make sure that the lists of parsed results have the\n",
    "        # same number of entries of the original Dataframe, so add some blanks in case the parse fails\n",
    "        tokens.append(None)\n",
    "        lemma.append(None)\n",
    "        ent.append(None)\n",
    "        pos.append(None)\n",
    "\n",
    "test['species_tokens'] = tokens\n",
    "test['species_lemma'] = lemma\n",
    "test['species_pos'] = pos\n",
    "test['species_ent'] = ent"
   ]
  },
  {
   "cell_type": "code",
   "execution_count": 103,
   "metadata": {
    "ExecuteTime": {
     "end_time": "2020-07-12T21:34:43.031323Z",
     "start_time": "2020-07-12T21:34:42.987879Z"
    }
   },
   "outputs": [
    {
     "data": {
      "text/html": [
       "<div>\n",
       "<style scoped>\n",
       "    .dataframe tbody tr th:only-of-type {\n",
       "        vertical-align: middle;\n",
       "    }\n",
       "\n",
       "    .dataframe tbody tr th {\n",
       "        vertical-align: top;\n",
       "    }\n",
       "\n",
       "    .dataframe thead th {\n",
       "        text-align: right;\n",
       "    }\n",
       "</style>\n",
       "<table border=\"1\" class=\"dataframe\">\n",
       "  <thead>\n",
       "    <tr style=\"text-align: right;\">\n",
       "      <th></th>\n",
       "      <th>item</th>\n",
       "      <th>title</th>\n",
       "      <th>published</th>\n",
       "      <th>date</th>\n",
       "      <th>year</th>\n",
       "      <th>month</th>\n",
       "      <th>day</th>\n",
       "      <th>love_ind</th>\n",
       "      <th>hate_ind</th>\n",
       "      <th>war_ind</th>\n",
       "      <th>peace_ind</th>\n",
       "      <th>new</th>\n",
       "      <th>species_tokens</th>\n",
       "      <th>species_lemma</th>\n",
       "      <th>species_pos</th>\n",
       "      <th>species_ent</th>\n",
       "    </tr>\n",
       "  </thead>\n",
       "  <tbody>\n",
       "    <tr>\n",
       "      <th>0</th>\n",
       "      <td>http://www.wikidata.org/entity/Q4069062</td>\n",
       "      <td>the arrest of a pickpocket</td>\n",
       "      <td>1895-01-01T00:00:00Z</td>\n",
       "      <td>1895-01-01</td>\n",
       "      <td>1895</td>\n",
       "      <td>01</td>\n",
       "      <td>01</td>\n",
       "      <td>0</td>\n",
       "      <td>0</td>\n",
       "      <td>0</td>\n",
       "      <td>0</td>\n",
       "      <td>1</td>\n",
       "      <td>[the, arrest, of, a, pickpocket]</td>\n",
       "      <td>[the, arrest, of, a, pickpocket]</td>\n",
       "      <td>[DET, NOUN, ADP, DET, NOUN]</td>\n",
       "      <td>[]</td>\n",
       "    </tr>\n",
       "    <tr>\n",
       "      <th>1</th>\n",
       "      <td>http://www.wikidata.org/entity/Q7168279</td>\n",
       "      <td>performing animals; or, skipping dogs</td>\n",
       "      <td>1895-01-01T00:00:00Z</td>\n",
       "      <td>1895-01-01</td>\n",
       "      <td>1895</td>\n",
       "      <td>01</td>\n",
       "      <td>01</td>\n",
       "      <td>0</td>\n",
       "      <td>0</td>\n",
       "      <td>0</td>\n",
       "      <td>0</td>\n",
       "      <td>1</td>\n",
       "      <td>[performing, animals, ;, or, ,, skipping, dogs]</td>\n",
       "      <td>[perform, animal, ;, or, ,, skip, dog]</td>\n",
       "      <td>[VERB, NOUN, PUNCT, CCONJ, PUNCT, VERB, NOUN]</td>\n",
       "      <td>[]</td>\n",
       "    </tr>\n",
       "    <tr>\n",
       "      <th>2</th>\n",
       "      <td>http://www.wikidata.org/entity/Q2819823</td>\n",
       "      <td>a morning alarm</td>\n",
       "      <td>1896-01-01T00:00:00Z</td>\n",
       "      <td>1896-01-01</td>\n",
       "      <td>1896</td>\n",
       "      <td>01</td>\n",
       "      <td>01</td>\n",
       "      <td>0</td>\n",
       "      <td>0</td>\n",
       "      <td>0</td>\n",
       "      <td>0</td>\n",
       "      <td>1</td>\n",
       "      <td>[a, morning, alarm]</td>\n",
       "      <td>[a, morning, alarm]</td>\n",
       "      <td>[DET, NOUN, NOUN]</td>\n",
       "      <td>[TIME]</td>\n",
       "    </tr>\n",
       "    <tr>\n",
       "      <th>3</th>\n",
       "      <td>http://www.wikidata.org/entity/Q3326074</td>\n",
       "      <td>mounted police charge</td>\n",
       "      <td>1896-01-01T00:00:00Z</td>\n",
       "      <td>1896-01-01</td>\n",
       "      <td>1896</td>\n",
       "      <td>01</td>\n",
       "      <td>01</td>\n",
       "      <td>0</td>\n",
       "      <td>0</td>\n",
       "      <td>0</td>\n",
       "      <td>0</td>\n",
       "      <td>1</td>\n",
       "      <td>[mounted, police, charge]</td>\n",
       "      <td>[mount, police, charge]</td>\n",
       "      <td>[VERB, NOUN, NOUN]</td>\n",
       "      <td>[]</td>\n",
       "    </tr>\n",
       "    <tr>\n",
       "      <th>4</th>\n",
       "      <td>http://www.wikidata.org/entity/Q3520164</td>\n",
       "      <td>the burning stable</td>\n",
       "      <td>1896-01-01T00:00:00Z</td>\n",
       "      <td>1896-01-01</td>\n",
       "      <td>1896</td>\n",
       "      <td>01</td>\n",
       "      <td>01</td>\n",
       "      <td>0</td>\n",
       "      <td>0</td>\n",
       "      <td>0</td>\n",
       "      <td>0</td>\n",
       "      <td>1</td>\n",
       "      <td>[the, burning, stable]</td>\n",
       "      <td>[the, burn, stable]</td>\n",
       "      <td>[DET, VERB, NOUN]</td>\n",
       "      <td>[]</td>\n",
       "    </tr>\n",
       "  </tbody>\n",
       "</table>\n",
       "</div>"
      ],
      "text/plain": [
       "                                      item  \\\n",
       "0  http://www.wikidata.org/entity/Q4069062   \n",
       "1  http://www.wikidata.org/entity/Q7168279   \n",
       "2  http://www.wikidata.org/entity/Q2819823   \n",
       "3  http://www.wikidata.org/entity/Q3326074   \n",
       "4  http://www.wikidata.org/entity/Q3520164   \n",
       "\n",
       "                                   title             published        date  \\\n",
       "0             the arrest of a pickpocket  1895-01-01T00:00:00Z  1895-01-01   \n",
       "1  performing animals; or, skipping dogs  1895-01-01T00:00:00Z  1895-01-01   \n",
       "2                        a morning alarm  1896-01-01T00:00:00Z  1896-01-01   \n",
       "3                  mounted police charge  1896-01-01T00:00:00Z  1896-01-01   \n",
       "4                     the burning stable  1896-01-01T00:00:00Z  1896-01-01   \n",
       "\n",
       "   year month day  love_ind  hate_ind  war_ind  peace_ind  new  \\\n",
       "0  1895    01  01         0         0        0          0    1   \n",
       "1  1895    01  01         0         0        0          0    1   \n",
       "2  1896    01  01         0         0        0          0    1   \n",
       "3  1896    01  01         0         0        0          0    1   \n",
       "4  1896    01  01         0         0        0          0    1   \n",
       "\n",
       "                                    species_tokens  \\\n",
       "0                 [the, arrest, of, a, pickpocket]   \n",
       "1  [performing, animals, ;, or, ,, skipping, dogs]   \n",
       "2                              [a, morning, alarm]   \n",
       "3                        [mounted, police, charge]   \n",
       "4                           [the, burning, stable]   \n",
       "\n",
       "                            species_lemma  \\\n",
       "0        [the, arrest, of, a, pickpocket]   \n",
       "1  [perform, animal, ;, or, ,, skip, dog]   \n",
       "2                     [a, morning, alarm]   \n",
       "3                 [mount, police, charge]   \n",
       "4                     [the, burn, stable]   \n",
       "\n",
       "                                     species_pos species_ent  \n",
       "0                    [DET, NOUN, ADP, DET, NOUN]          []  \n",
       "1  [VERB, NOUN, PUNCT, CCONJ, PUNCT, VERB, NOUN]          []  \n",
       "2                              [DET, NOUN, NOUN]      [TIME]  \n",
       "3                             [VERB, NOUN, NOUN]          []  \n",
       "4                              [DET, VERB, NOUN]          []  "
      ]
     },
     "execution_count": 103,
     "metadata": {},
     "output_type": "execute_result"
    }
   ],
   "source": [
    "df.head()"
   ]
  },
  {
   "cell_type": "code",
   "execution_count": null,
   "metadata": {},
   "outputs": [],
   "source": []
  },
  {
   "cell_type": "code",
   "execution_count": null,
   "metadata": {},
   "outputs": [],
   "source": []
  },
  {
   "cell_type": "markdown",
   "metadata": {},
   "source": [
    "## Misc"
   ]
  },
  {
   "cell_type": "code",
   "execution_count": 87,
   "metadata": {
    "ExecuteTime": {
     "end_time": "2020-07-12T21:21:28.220323Z",
     "start_time": "2020-07-12T21:21:28.208980Z"
    }
   },
   "outputs": [
    {
     "data": {
      "text/plain": [
       "['DET', 'NOUN', 'ADP', 'DET', 'NOUN']"
      ]
     },
     "execution_count": 87,
     "metadata": {},
     "output_type": "execute_result"
    }
   ],
   "source": [
    "df.species_pos[0]"
   ]
  },
  {
   "cell_type": "code",
   "execution_count": 55,
   "metadata": {
    "ExecuteTime": {
     "end_time": "2020-07-12T20:49:39.844906Z",
     "start_time": "2020-07-12T20:49:39.831585Z"
    }
   },
   "outputs": [
    {
     "name": "stdout",
     "output_type": "stream",
     "text": [
      "the True 19.79567 False\n",
      "arrest True 20.331337 False\n",
      "of True 22.341307 False\n",
      "a True 21.505527 False\n",
      "pickpocket True 18.446245 False\n"
     ]
    }
   ],
   "source": [
    "for token in doc:\n",
    "    print(token.text, token.has_vector, token.vector_norm, token.is_oov)"
   ]
  },
  {
   "cell_type": "code",
   "execution_count": 57,
   "metadata": {
    "ExecuteTime": {
     "end_time": "2020-07-12T20:52:25.263804Z",
     "start_time": "2020-07-12T20:52:25.227528Z"
    }
   },
   "outputs": [
    {
     "name": "stdout",
     "output_type": "stream",
     "text": [
      "dog dog 1.0\n",
      "dog cat 0.4192831\n",
      "dog banana 0.41783607\n",
      "cat dog 0.4192831\n",
      "cat cat 1.0\n",
      "cat banana 0.34277543\n",
      "banana dog 0.41783607\n",
      "banana cat 0.34277543\n",
      "banana banana 1.0\n"
     ]
    },
    {
     "name": "stderr",
     "output_type": "stream",
     "text": [
      "/Users/lleiou/miniconda2/envs/film_title/lib/python3.6/site-packages/ipykernel_launcher.py:5: UserWarning: [W007] The model you're using has no word vectors loaded, so the result of the Token.similarity method will be based on the tagger, parser and NER, which may not give useful similarity judgements. This may happen if you're using one of the small models, e.g. `en_core_web_sm`, which don't ship with word vectors and only use context-sensitive tensors. You can always add your own word vectors, or use one of the larger models instead if available.\n",
      "  \"\"\"\n"
     ]
    }
   ],
   "source": [
    "tokens = nlp(\"dog cat banana\")\n",
    "\n",
    "for token1 in tokens:\n",
    "    for token2 in tokens:\n",
    "        print(token1.text, token2.text, token1.similarity(token2))"
   ]
  },
  {
   "cell_type": "code",
   "execution_count": 61,
   "metadata": {
    "ExecuteTime": {
     "end_time": "2020-07-12T20:56:07.087703Z",
     "start_time": "2020-07-12T20:56:07.046056Z"
    }
   },
   "outputs": [
    {
     "name": "stdout",
     "output_type": "stream",
     "text": [
      "0.07194189301221651\n"
     ]
    },
    {
     "name": "stderr",
     "output_type": "stream",
     "text": [
      "/Users/lleiou/miniconda2/envs/film_title/lib/python3.6/site-packages/ipykernel_launcher.py:3: UserWarning: [W007] The model you're using has no word vectors loaded, so the result of the Doc.similarity method will be based on the tagger, parser and NER, which may not give useful similarity judgements. This may happen if you're using one of the small models, e.g. `en_core_web_sm`, which don't ship with word vectors and only use context-sensitive tensors. You can always add your own word vectors, or use one of the larger models instead if available.\n",
      "  This is separate from the ipykernel package so we can avoid doing imports until\n"
     ]
    }
   ],
   "source": [
    "# similarities\n",
    "doc1 = nlp(df.title[0])\n",
    "doc2 = nlp(df.title[1])\n",
    "print(doc1.similarity(doc2))"
   ]
  },
  {
   "cell_type": "code",
   "execution_count": null,
   "metadata": {},
   "outputs": [],
   "source": []
  }
 ],
 "metadata": {
  "kernelspec": {
   "display_name": "Python [conda env:film_title] *",
   "language": "python",
   "name": "conda-env-film_title-py"
  },
  "language_info": {
   "codemirror_mode": {
    "name": "ipython",
    "version": 3
   },
   "file_extension": ".py",
   "mimetype": "text/x-python",
   "name": "python",
   "nbconvert_exporter": "python",
   "pygments_lexer": "ipython3",
   "version": "3.6.10"
  },
  "toc": {
   "base_numbering": 1,
   "nav_menu": {},
   "number_sections": true,
   "sideBar": true,
   "skip_h1_title": false,
   "title_cell": "Table of Contents",
   "title_sidebar": "Contents",
   "toc_cell": false,
   "toc_position": {},
   "toc_section_display": true,
   "toc_window_display": false
  },
  "varInspector": {
   "cols": {
    "lenName": 16,
    "lenType": 16,
    "lenVar": 40
   },
   "kernels_config": {
    "python": {
     "delete_cmd_postfix": "",
     "delete_cmd_prefix": "del ",
     "library": "var_list.py",
     "varRefreshCmd": "print(var_dic_list())"
    },
    "r": {
     "delete_cmd_postfix": ") ",
     "delete_cmd_prefix": "rm(",
     "library": "var_list.r",
     "varRefreshCmd": "cat(var_dic_list()) "
    }
   },
   "types_to_exclude": [
    "module",
    "function",
    "builtin_function_or_method",
    "instance",
    "_Feature"
   ],
   "window_display": false
  }
 },
 "nbformat": 4,
 "nbformat_minor": 4
}
