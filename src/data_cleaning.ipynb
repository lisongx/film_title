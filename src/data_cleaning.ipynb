{
 "cells": [
  {
   "cell_type": "code",
   "execution_count": 2,
   "metadata": {
    "ExecuteTime": {
     "end_time": "2020-07-01T01:09:51.134275Z",
     "start_time": "2020-07-01T01:09:50.381396Z"
    },
    "scrolled": true
   },
   "outputs": [
    {
     "data": {
      "application/javascript": [
       "IPython.notebook.set_autosave_interval(20000)"
      ]
     },
     "metadata": {},
     "output_type": "display_data"
    },
    {
     "name": "stdout",
     "output_type": "stream",
     "text": [
      "Autosaving every 20 seconds\n"
     ]
    }
   ],
   "source": [
    "import pandas as pd\n",
    "import json\n",
    "import csv\n",
    "import matplotlib\n",
    "import matplotlib.pyplot as plt\n",
    "\n",
    "# pd.set_option('display.max_rows', 10)\n",
    "# pd.set_option('display.max_columns', 10)\n",
    "\n",
    "%autosave 20\n",
    "%matplotlib inline  "
   ]
  },
  {
   "cell_type": "markdown",
   "metadata": {},
   "source": [
    "## Load Title File"
   ]
  },
  {
   "cell_type": "code",
   "execution_count": 3,
   "metadata": {
    "ExecuteTime": {
     "end_time": "2020-07-01T01:45:53.206987Z",
     "start_time": "2020-07-01T01:45:52.981639Z"
    }
   },
   "outputs": [
    {
     "name": "stdout",
     "output_type": "stream",
     "text": [
      "films-2020-07-01.json\r\n"
     ]
    }
   ],
   "source": [
    "!ls ../data"
   ]
  },
  {
   "cell_type": "code",
   "execution_count": 4,
   "metadata": {
    "ExecuteTime": {
     "end_time": "2020-07-01T01:09:53.219438Z",
     "start_time": "2020-07-01T01:09:53.213241Z"
    }
   },
   "outputs": [],
   "source": [
    "data_path = '../data/films-2020-07-01.json'"
   ]
  },
  {
   "cell_type": "code",
   "execution_count": 5,
   "metadata": {
    "ExecuteTime": {
     "end_time": "2020-07-01T01:09:54.699739Z",
     "start_time": "2020-07-01T01:09:54.693388Z"
    }
   },
   "outputs": [],
   "source": [
    "# df = pd.read_json ('../data/films-2020-07-01.json')\n",
    "# print(df.shape)"
   ]
  },
  {
   "cell_type": "code",
   "execution_count": 6,
   "metadata": {
    "ExecuteTime": {
     "end_time": "2020-07-01T01:09:54.897976Z",
     "start_time": "2020-07-01T01:09:54.886977Z"
    }
   },
   "outputs": [],
   "source": [
    "# %time\n",
    "# import json\n",
    "# import pandas as pd\n",
    "# with open('../data/films-2020-07-01.json') as json_data:\n",
    "#    # https://stackoverflow.com/a/21266043/5861873\n",
    "#    data = json.load(json_data)\n",
    "#    df = pd.json_normalize(data)\n",
    "    \n",
    "# print(df.shape)"
   ]
  },
  {
   "cell_type": "code",
   "execution_count": 7,
   "metadata": {
    "ExecuteTime": {
     "end_time": "2020-07-01T01:09:56.820473Z",
     "start_time": "2020-07-01T01:09:56.815897Z"
    }
   },
   "outputs": [],
   "source": [
    "# df.head()"
   ]
  },
  {
   "cell_type": "code",
   "execution_count": 8,
   "metadata": {
    "ExecuteTime": {
     "end_time": "2020-07-01T01:09:59.081245Z",
     "start_time": "2020-07-01T01:09:58.065051Z"
    }
   },
   "outputs": [
    {
     "name": "stdout",
     "output_type": "stream",
     "text": [
      "CPU times: user 3 µs, sys: 1 µs, total: 4 µs\n",
      "Wall time: 5.96 µs\n",
      "(63807, 3)\n"
     ]
    }
   ],
   "source": [
    "%time\n",
    "import json\n",
    "import pandas as pd\n",
    "with open(data_path) as json_data:\n",
    "   # https://stackoverflow.com/a/41289913/5861873\n",
    "   data = json.load(json_data)\n",
    "   df = pd.DataFrame({'item': [x['item']['value'] for x in data], \\\n",
    "                      'title': [x['title']['value'] for x in data], \\\n",
    "                      'published': [x['published']['value'] for x in data]})\n",
    "\n",
    "print(df.shape)"
   ]
  },
  {
   "cell_type": "code",
   "execution_count": 9,
   "metadata": {
    "ExecuteTime": {
     "end_time": "2020-07-01T01:09:59.607449Z",
     "start_time": "2020-07-01T01:09:59.590548Z"
    }
   },
   "outputs": [
    {
     "data": {
      "text/plain": [
       "(63807, 3)"
      ]
     },
     "execution_count": 9,
     "metadata": {},
     "output_type": "execute_result"
    }
   ],
   "source": [
    "df.shape"
   ]
  },
  {
   "cell_type": "code",
   "execution_count": 10,
   "metadata": {
    "ExecuteTime": {
     "end_time": "2020-07-01T01:10:00.540368Z",
     "start_time": "2020-07-01T01:10:00.513905Z"
    }
   },
   "outputs": [
    {
     "data": {
      "text/html": [
       "<div>\n",
       "<style scoped>\n",
       "    .dataframe tbody tr th:only-of-type {\n",
       "        vertical-align: middle;\n",
       "    }\n",
       "\n",
       "    .dataframe tbody tr th {\n",
       "        vertical-align: top;\n",
       "    }\n",
       "\n",
       "    .dataframe thead th {\n",
       "        text-align: right;\n",
       "    }\n",
       "</style>\n",
       "<table border=\"1\" class=\"dataframe\">\n",
       "  <thead>\n",
       "    <tr style=\"text-align: right;\">\n",
       "      <th></th>\n",
       "      <th>item</th>\n",
       "      <th>title</th>\n",
       "      <th>published</th>\n",
       "    </tr>\n",
       "  </thead>\n",
       "  <tbody>\n",
       "    <tr>\n",
       "      <th>0</th>\n",
       "      <td>http://www.wikidata.org/entity/Q4069062</td>\n",
       "      <td>The Arrest of a Pickpocket</td>\n",
       "      <td>1895-01-01T00:00:00Z</td>\n",
       "    </tr>\n",
       "    <tr>\n",
       "      <th>1</th>\n",
       "      <td>http://www.wikidata.org/entity/Q7168279</td>\n",
       "      <td>Performing Animals; or, Skipping Dogs</td>\n",
       "      <td>1895-01-01T00:00:00Z</td>\n",
       "    </tr>\n",
       "    <tr>\n",
       "      <th>2</th>\n",
       "      <td>http://www.wikidata.org/entity/Q2819823</td>\n",
       "      <td>A Morning Alarm</td>\n",
       "      <td>1896-01-01T00:00:00Z</td>\n",
       "    </tr>\n",
       "    <tr>\n",
       "      <th>3</th>\n",
       "      <td>http://www.wikidata.org/entity/Q3326074</td>\n",
       "      <td>Mounted Police Charge</td>\n",
       "      <td>1896-01-01T00:00:00Z</td>\n",
       "    </tr>\n",
       "    <tr>\n",
       "      <th>4</th>\n",
       "      <td>http://www.wikidata.org/entity/Q3520164</td>\n",
       "      <td>The Burning Stable</td>\n",
       "      <td>1896-01-01T00:00:00Z</td>\n",
       "    </tr>\n",
       "  </tbody>\n",
       "</table>\n",
       "</div>"
      ],
      "text/plain": [
       "                                      item  \\\n",
       "0  http://www.wikidata.org/entity/Q4069062   \n",
       "1  http://www.wikidata.org/entity/Q7168279   \n",
       "2  http://www.wikidata.org/entity/Q2819823   \n",
       "3  http://www.wikidata.org/entity/Q3326074   \n",
       "4  http://www.wikidata.org/entity/Q3520164   \n",
       "\n",
       "                                   title             published  \n",
       "0             The Arrest of a Pickpocket  1895-01-01T00:00:00Z  \n",
       "1  Performing Animals; or, Skipping Dogs  1895-01-01T00:00:00Z  \n",
       "2                        A Morning Alarm  1896-01-01T00:00:00Z  \n",
       "3                  Mounted Police Charge  1896-01-01T00:00:00Z  \n",
       "4                     The Burning Stable  1896-01-01T00:00:00Z  "
      ]
     },
     "execution_count": 10,
     "metadata": {},
     "output_type": "execute_result"
    }
   ],
   "source": [
    "df.head()"
   ]
  },
  {
   "cell_type": "markdown",
   "metadata": {},
   "source": [
    "## Sanity Check"
   ]
  },
  {
   "cell_type": "markdown",
   "metadata": {
    "ExecuteTime": {
     "end_time": "2020-07-01T00:26:59.237218Z",
     "start_time": "2020-07-01T00:26:59.196454Z"
    }
   },
   "source": [
    "### null value"
   ]
  },
  {
   "cell_type": "code",
   "execution_count": 11,
   "metadata": {
    "ExecuteTime": {
     "end_time": "2020-07-01T01:10:02.981838Z",
     "start_time": "2020-07-01T01:10:02.776228Z"
    }
   },
   "outputs": [
    {
     "data": {
      "text/plain": [
       "item         0\n",
       "title        0\n",
       "published    0\n",
       "dtype: int64"
      ]
     },
     "execution_count": 11,
     "metadata": {},
     "output_type": "execute_result"
    }
   ],
   "source": [
    "df.isnull().sum()"
   ]
  },
  {
   "cell_type": "markdown",
   "metadata": {},
   "source": [
    "### duplicates"
   ]
  },
  {
   "cell_type": "code",
   "execution_count": 12,
   "metadata": {
    "ExecuteTime": {
     "end_time": "2020-07-01T01:10:03.873828Z",
     "start_time": "2020-07-01T01:10:03.725658Z"
    }
   },
   "outputs": [
    {
     "name": "stdout",
     "output_type": "stream",
     "text": [
      "63807\n",
      "\n",
      "\n",
      "item         63754\n",
      "title        58083\n",
      "published     7216\n",
      "dtype: int64\n"
     ]
    }
   ],
   "source": [
    "# there are duplicate items and titles\n",
    "print(df.shape[0])\n",
    "print('\\n')\n",
    "print(df.nunique())"
   ]
  },
  {
   "cell_type": "code",
   "execution_count": 13,
   "metadata": {
    "ExecuteTime": {
     "end_time": "2020-07-01T01:10:06.615424Z",
     "start_time": "2020-07-01T01:10:06.404310Z"
    },
    "scrolled": false
   },
   "outputs": [
    {
     "data": {
      "text/html": [
       "<div>\n",
       "<style scoped>\n",
       "    .dataframe tbody tr th:only-of-type {\n",
       "        vertical-align: middle;\n",
       "    }\n",
       "\n",
       "    .dataframe tbody tr th {\n",
       "        vertical-align: top;\n",
       "    }\n",
       "\n",
       "    .dataframe thead th {\n",
       "        text-align: right;\n",
       "    }\n",
       "</style>\n",
       "<table border=\"1\" class=\"dataframe\">\n",
       "  <thead>\n",
       "    <tr style=\"text-align: right;\">\n",
       "      <th></th>\n",
       "      <th>item</th>\n",
       "      <th>title</th>\n",
       "    </tr>\n",
       "  </thead>\n",
       "  <tbody>\n",
       "    <tr>\n",
       "      <th>0</th>\n",
       "      <td>http://www.wikidata.org/entity/Q6748375</td>\n",
       "      <td>3</td>\n",
       "    </tr>\n",
       "    <tr>\n",
       "      <th>1</th>\n",
       "      <td>http://www.wikidata.org/entity/Q20439354</td>\n",
       "      <td>3</td>\n",
       "    </tr>\n",
       "    <tr>\n",
       "      <th>2</th>\n",
       "      <td>http://www.wikidata.org/entity/Q501105</td>\n",
       "      <td>2</td>\n",
       "    </tr>\n",
       "    <tr>\n",
       "      <th>3</th>\n",
       "      <td>http://www.wikidata.org/entity/Q9358159</td>\n",
       "      <td>2</td>\n",
       "    </tr>\n",
       "    <tr>\n",
       "      <th>4</th>\n",
       "      <td>http://www.wikidata.org/entity/Q19365765</td>\n",
       "      <td>2</td>\n",
       "    </tr>\n",
       "    <tr>\n",
       "      <th>...</th>\n",
       "      <td>...</td>\n",
       "      <td>...</td>\n",
       "    </tr>\n",
       "    <tr>\n",
       "      <th>63749</th>\n",
       "      <td>http://www.wikidata.org/entity/Q54868306</td>\n",
       "      <td>1</td>\n",
       "    </tr>\n",
       "    <tr>\n",
       "      <th>63750</th>\n",
       "      <td>http://www.wikidata.org/entity/Q54868305</td>\n",
       "      <td>1</td>\n",
       "    </tr>\n",
       "    <tr>\n",
       "      <th>63751</th>\n",
       "      <td>http://www.wikidata.org/entity/Q54868300</td>\n",
       "      <td>1</td>\n",
       "    </tr>\n",
       "    <tr>\n",
       "      <th>63752</th>\n",
       "      <td>http://www.wikidata.org/entity/Q54868299</td>\n",
       "      <td>1</td>\n",
       "    </tr>\n",
       "    <tr>\n",
       "      <th>63753</th>\n",
       "      <td>http://www.wikidata.org/entity/Q1000094</td>\n",
       "      <td>1</td>\n",
       "    </tr>\n",
       "  </tbody>\n",
       "</table>\n",
       "<p>63754 rows × 2 columns</p>\n",
       "</div>"
      ],
      "text/plain": [
       "                                           item  title\n",
       "0       http://www.wikidata.org/entity/Q6748375      3\n",
       "1      http://www.wikidata.org/entity/Q20439354      3\n",
       "2        http://www.wikidata.org/entity/Q501105      2\n",
       "3       http://www.wikidata.org/entity/Q9358159      2\n",
       "4      http://www.wikidata.org/entity/Q19365765      2\n",
       "...                                         ...    ...\n",
       "63749  http://www.wikidata.org/entity/Q54868306      1\n",
       "63750  http://www.wikidata.org/entity/Q54868305      1\n",
       "63751  http://www.wikidata.org/entity/Q54868300      1\n",
       "63752  http://www.wikidata.org/entity/Q54868299      1\n",
       "63753   http://www.wikidata.org/entity/Q1000094      1\n",
       "\n",
       "[63754 rows x 2 columns]"
      ]
     },
     "execution_count": 13,
     "metadata": {},
     "output_type": "execute_result"
    }
   ],
   "source": [
    "df.groupby(['item'])['title'].count().sort_values(ascending=False).reset_index()"
   ]
  },
  {
   "cell_type": "markdown",
   "metadata": {},
   "source": [
    "#### same film can have different names (a.k.a)"
   ]
  },
  {
   "cell_type": "code",
   "execution_count": 14,
   "metadata": {
    "ExecuteTime": {
     "end_time": "2020-07-01T01:16:28.035528Z",
     "start_time": "2020-07-01T01:16:28.008775Z"
    }
   },
   "outputs": [
    {
     "data": {
      "text/html": [
       "<div>\n",
       "<style scoped>\n",
       "    .dataframe tbody tr th:only-of-type {\n",
       "        vertical-align: middle;\n",
       "    }\n",
       "\n",
       "    .dataframe tbody tr th {\n",
       "        vertical-align: top;\n",
       "    }\n",
       "\n",
       "    .dataframe thead th {\n",
       "        text-align: right;\n",
       "    }\n",
       "</style>\n",
       "<table border=\"1\" class=\"dataframe\">\n",
       "  <thead>\n",
       "    <tr style=\"text-align: right;\">\n",
       "      <th></th>\n",
       "      <th>item</th>\n",
       "      <th>title</th>\n",
       "      <th>published</th>\n",
       "    </tr>\n",
       "  </thead>\n",
       "  <tbody>\n",
       "    <tr>\n",
       "      <th>25415</th>\n",
       "      <td>http://www.wikidata.org/entity/Q6748375</td>\n",
       "      <td>Island of the Doomed</td>\n",
       "      <td>1967-01-01T00:00:00Z</td>\n",
       "    </tr>\n",
       "    <tr>\n",
       "      <th>25416</th>\n",
       "      <td>http://www.wikidata.org/entity/Q6748375</td>\n",
       "      <td>Maneater of Hydra</td>\n",
       "      <td>1967-01-01T00:00:00Z</td>\n",
       "    </tr>\n",
       "    <tr>\n",
       "      <th>25417</th>\n",
       "      <td>http://www.wikidata.org/entity/Q6748375</td>\n",
       "      <td>The Blood Suckers</td>\n",
       "      <td>1967-01-01T00:00:00Z</td>\n",
       "    </tr>\n",
       "  </tbody>\n",
       "</table>\n",
       "</div>"
      ],
      "text/plain": [
       "                                          item                 title  \\\n",
       "25415  http://www.wikidata.org/entity/Q6748375  Island of the Doomed   \n",
       "25416  http://www.wikidata.org/entity/Q6748375     Maneater of Hydra   \n",
       "25417  http://www.wikidata.org/entity/Q6748375     The Blood Suckers   \n",
       "\n",
       "                  published  \n",
       "25415  1967-01-01T00:00:00Z  \n",
       "25416  1967-01-01T00:00:00Z  \n",
       "25417  1967-01-01T00:00:00Z  "
      ]
     },
     "execution_count": 14,
     "metadata": {},
     "output_type": "execute_result"
    }
   ],
   "source": [
    "df[df.item=='http://www.wikidata.org/entity/Q6748375']"
   ]
  },
  {
   "cell_type": "code",
   "execution_count": 15,
   "metadata": {
    "ExecuteTime": {
     "end_time": "2020-07-01T01:10:20.875461Z",
     "start_time": "2020-07-01T01:10:20.844842Z"
    },
    "scrolled": true
   },
   "outputs": [
    {
     "data": {
      "text/html": [
       "<div>\n",
       "<style scoped>\n",
       "    .dataframe tbody tr th:only-of-type {\n",
       "        vertical-align: middle;\n",
       "    }\n",
       "\n",
       "    .dataframe tbody tr th {\n",
       "        vertical-align: top;\n",
       "    }\n",
       "\n",
       "    .dataframe thead th {\n",
       "        text-align: right;\n",
       "    }\n",
       "</style>\n",
       "<table border=\"1\" class=\"dataframe\">\n",
       "  <thead>\n",
       "    <tr style=\"text-align: right;\">\n",
       "      <th></th>\n",
       "      <th>item</th>\n",
       "      <th>title</th>\n",
       "      <th>published</th>\n",
       "    </tr>\n",
       "  </thead>\n",
       "  <tbody>\n",
       "    <tr>\n",
       "      <th>26193</th>\n",
       "      <td>http://www.wikidata.org/entity/Q20439354</td>\n",
       "      <td>Cry Chicago</td>\n",
       "      <td>1969-09-22T00:00:00Z</td>\n",
       "    </tr>\n",
       "    <tr>\n",
       "      <th>26194</th>\n",
       "      <td>http://www.wikidata.org/entity/Q20439354</td>\n",
       "      <td>The Mafia Mob</td>\n",
       "      <td>1969-09-22T00:00:00Z</td>\n",
       "    </tr>\n",
       "    <tr>\n",
       "      <th>26195</th>\n",
       "      <td>http://www.wikidata.org/entity/Q20439354</td>\n",
       "      <td>The True Story of Frank Mannata</td>\n",
       "      <td>1969-09-22T00:00:00Z</td>\n",
       "    </tr>\n",
       "  </tbody>\n",
       "</table>\n",
       "</div>"
      ],
      "text/plain": [
       "                                           item  \\\n",
       "26193  http://www.wikidata.org/entity/Q20439354   \n",
       "26194  http://www.wikidata.org/entity/Q20439354   \n",
       "26195  http://www.wikidata.org/entity/Q20439354   \n",
       "\n",
       "                                 title             published  \n",
       "26193                      Cry Chicago  1969-09-22T00:00:00Z  \n",
       "26194                    The Mafia Mob  1969-09-22T00:00:00Z  \n",
       "26195  The True Story of Frank Mannata  1969-09-22T00:00:00Z  "
      ]
     },
     "execution_count": 15,
     "metadata": {},
     "output_type": "execute_result"
    }
   ],
   "source": [
    "df[df.item=='http://www.wikidata.org/entity/Q20439354']"
   ]
  },
  {
   "cell_type": "code",
   "execution_count": 16,
   "metadata": {
    "ExecuteTime": {
     "end_time": "2020-07-01T01:33:41.659683Z",
     "start_time": "2020-07-01T01:33:41.408483Z"
    }
   },
   "outputs": [],
   "source": [
    "item_count = df.groupby(['item'])['title'].count().sort_values(ascending=False).reset_index()"
   ]
  },
  {
   "cell_type": "code",
   "execution_count": 17,
   "metadata": {
    "ExecuteTime": {
     "end_time": "2020-07-01T01:35:15.706313Z",
     "start_time": "2020-07-01T01:35:15.696283Z"
    }
   },
   "outputs": [
    {
     "name": "stdout",
     "output_type": "stream",
     "text": [
      "51 film have duplicate titles\n"
     ]
    }
   ],
   "source": [
    "print('{} film have duplicate titles'.format(item_count[item_count.title>1].shape[0]))"
   ]
  },
  {
   "cell_type": "code",
   "execution_count": null,
   "metadata": {},
   "outputs": [],
   "source": []
  },
  {
   "cell_type": "code",
   "execution_count": 18,
   "metadata": {
    "ExecuteTime": {
     "end_time": "2020-07-01T01:10:09.075026Z",
     "start_time": "2020-07-01T01:10:08.996709Z"
    }
   },
   "outputs": [],
   "source": [
    "# set all title values as lower cases\n",
    "df['title'] = df['title'].str.lower()"
   ]
  },
  {
   "cell_type": "code",
   "execution_count": 19,
   "metadata": {
    "ExecuteTime": {
     "end_time": "2020-07-01T00:34:11.717378Z",
     "start_time": "2020-07-01T00:34:11.698445Z"
    }
   },
   "outputs": [
    {
     "data": {
      "text/html": [
       "<div>\n",
       "<style scoped>\n",
       "    .dataframe tbody tr th:only-of-type {\n",
       "        vertical-align: middle;\n",
       "    }\n",
       "\n",
       "    .dataframe tbody tr th {\n",
       "        vertical-align: top;\n",
       "    }\n",
       "\n",
       "    .dataframe thead th {\n",
       "        text-align: right;\n",
       "    }\n",
       "</style>\n",
       "<table border=\"1\" class=\"dataframe\">\n",
       "  <thead>\n",
       "    <tr style=\"text-align: right;\">\n",
       "      <th></th>\n",
       "      <th>item</th>\n",
       "      <th>title</th>\n",
       "      <th>published</th>\n",
       "    </tr>\n",
       "  </thead>\n",
       "  <tbody>\n",
       "    <tr>\n",
       "      <th>0</th>\n",
       "      <td>http://www.wikidata.org/entity/Q4069062</td>\n",
       "      <td>the arrest of a pickpocket</td>\n",
       "      <td>1895-01-01T00:00:00Z</td>\n",
       "    </tr>\n",
       "    <tr>\n",
       "      <th>1</th>\n",
       "      <td>http://www.wikidata.org/entity/Q7168279</td>\n",
       "      <td>performing animals; or, skipping dogs</td>\n",
       "      <td>1895-01-01T00:00:00Z</td>\n",
       "    </tr>\n",
       "    <tr>\n",
       "      <th>2</th>\n",
       "      <td>http://www.wikidata.org/entity/Q2819823</td>\n",
       "      <td>a morning alarm</td>\n",
       "      <td>1896-01-01T00:00:00Z</td>\n",
       "    </tr>\n",
       "    <tr>\n",
       "      <th>3</th>\n",
       "      <td>http://www.wikidata.org/entity/Q3326074</td>\n",
       "      <td>mounted police charge</td>\n",
       "      <td>1896-01-01T00:00:00Z</td>\n",
       "    </tr>\n",
       "    <tr>\n",
       "      <th>4</th>\n",
       "      <td>http://www.wikidata.org/entity/Q3520164</td>\n",
       "      <td>the burning stable</td>\n",
       "      <td>1896-01-01T00:00:00Z</td>\n",
       "    </tr>\n",
       "  </tbody>\n",
       "</table>\n",
       "</div>"
      ],
      "text/plain": [
       "                                      item  \\\n",
       "0  http://www.wikidata.org/entity/Q4069062   \n",
       "1  http://www.wikidata.org/entity/Q7168279   \n",
       "2  http://www.wikidata.org/entity/Q2819823   \n",
       "3  http://www.wikidata.org/entity/Q3326074   \n",
       "4  http://www.wikidata.org/entity/Q3520164   \n",
       "\n",
       "                                   title             published  \n",
       "0             the arrest of a pickpocket  1895-01-01T00:00:00Z  \n",
       "1  performing animals; or, skipping dogs  1895-01-01T00:00:00Z  \n",
       "2                        a morning alarm  1896-01-01T00:00:00Z  \n",
       "3                  mounted police charge  1896-01-01T00:00:00Z  \n",
       "4                     the burning stable  1896-01-01T00:00:00Z  "
      ]
     },
     "execution_count": 19,
     "metadata": {},
     "output_type": "execute_result"
    }
   ],
   "source": [
    "df.head()"
   ]
  },
  {
   "cell_type": "code",
   "execution_count": 20,
   "metadata": {
    "ExecuteTime": {
     "end_time": "2020-07-01T01:17:10.265492Z",
     "start_time": "2020-07-01T01:17:10.101617Z"
    }
   },
   "outputs": [
    {
     "data": {
      "text/html": [
       "<div>\n",
       "<style scoped>\n",
       "    .dataframe tbody tr th:only-of-type {\n",
       "        vertical-align: middle;\n",
       "    }\n",
       "\n",
       "    .dataframe tbody tr th {\n",
       "        vertical-align: top;\n",
       "    }\n",
       "\n",
       "    .dataframe thead th {\n",
       "        text-align: right;\n",
       "    }\n",
       "</style>\n",
       "<table border=\"1\" class=\"dataframe\">\n",
       "  <thead>\n",
       "    <tr style=\"text-align: right;\">\n",
       "      <th></th>\n",
       "      <th>title</th>\n",
       "      <th>item</th>\n",
       "    </tr>\n",
       "  </thead>\n",
       "  <tbody>\n",
       "    <tr>\n",
       "      <th>0</th>\n",
       "      <td>the outsider</td>\n",
       "      <td>10</td>\n",
       "    </tr>\n",
       "    <tr>\n",
       "      <th>1</th>\n",
       "      <td>treasure island</td>\n",
       "      <td>10</td>\n",
       "    </tr>\n",
       "    <tr>\n",
       "      <th>2</th>\n",
       "      <td>the three musketeers</td>\n",
       "      <td>10</td>\n",
       "    </tr>\n",
       "    <tr>\n",
       "      <th>3</th>\n",
       "      <td>life</td>\n",
       "      <td>9</td>\n",
       "    </tr>\n",
       "    <tr>\n",
       "      <th>4</th>\n",
       "      <td>exposed</td>\n",
       "      <td>8</td>\n",
       "    </tr>\n",
       "    <tr>\n",
       "      <th>...</th>\n",
       "      <td>...</td>\n",
       "      <td>...</td>\n",
       "    </tr>\n",
       "    <tr>\n",
       "      <th>58035</th>\n",
       "      <td>splatter university</td>\n",
       "      <td>1</td>\n",
       "    </tr>\n",
       "    <tr>\n",
       "      <th>58036</th>\n",
       "      <td>splatter farm</td>\n",
       "      <td>1</td>\n",
       "    </tr>\n",
       "    <tr>\n",
       "      <th>58037</th>\n",
       "      <td>splatter beach</td>\n",
       "      <td>1</td>\n",
       "    </tr>\n",
       "    <tr>\n",
       "      <th>58038</th>\n",
       "      <td>splash</td>\n",
       "      <td>1</td>\n",
       "    </tr>\n",
       "    <tr>\n",
       "      <th>58039</th>\n",
       "      <td>!women art revolution</td>\n",
       "      <td>1</td>\n",
       "    </tr>\n",
       "  </tbody>\n",
       "</table>\n",
       "<p>58040 rows × 2 columns</p>\n",
       "</div>"
      ],
      "text/plain": [
       "                       title  item\n",
       "0               the outsider    10\n",
       "1            treasure island    10\n",
       "2       the three musketeers    10\n",
       "3                       life     9\n",
       "4                    exposed     8\n",
       "...                      ...   ...\n",
       "58035    splatter university     1\n",
       "58036          splatter farm     1\n",
       "58037         splatter beach     1\n",
       "58038                 splash     1\n",
       "58039  !women art revolution     1\n",
       "\n",
       "[58040 rows x 2 columns]"
      ]
     },
     "execution_count": 20,
     "metadata": {},
     "output_type": "execute_result"
    }
   ],
   "source": [
    "df.groupby(['title'])['item'].count().sort_values(ascending=False).reset_index()"
   ]
  },
  {
   "cell_type": "markdown",
   "metadata": {},
   "source": [
    "#### different films can have the same name"
   ]
  },
  {
   "cell_type": "code",
   "execution_count": 21,
   "metadata": {
    "ExecuteTime": {
     "end_time": "2020-07-01T01:12:18.749382Z",
     "start_time": "2020-07-01T01:12:18.696010Z"
    }
   },
   "outputs": [
    {
     "data": {
      "text/html": [
       "<div>\n",
       "<style scoped>\n",
       "    .dataframe tbody tr th:only-of-type {\n",
       "        vertical-align: middle;\n",
       "    }\n",
       "\n",
       "    .dataframe tbody tr th {\n",
       "        vertical-align: top;\n",
       "    }\n",
       "\n",
       "    .dataframe thead th {\n",
       "        text-align: right;\n",
       "    }\n",
       "</style>\n",
       "<table border=\"1\" class=\"dataframe\">\n",
       "  <thead>\n",
       "    <tr style=\"text-align: right;\">\n",
       "      <th></th>\n",
       "      <th>item</th>\n",
       "      <th>title</th>\n",
       "      <th>published</th>\n",
       "    </tr>\n",
       "  </thead>\n",
       "  <tbody>\n",
       "    <tr>\n",
       "      <th>1698</th>\n",
       "      <td>http://www.wikidata.org/entity/Q56279378</td>\n",
       "      <td>the outsider</td>\n",
       "      <td>1917-01-01T00:00:00Z</td>\n",
       "    </tr>\n",
       "    <tr>\n",
       "      <th>5754</th>\n",
       "      <td>http://www.wikidata.org/entity/Q7755697</td>\n",
       "      <td>the outsider</td>\n",
       "      <td>1926-01-01T00:00:00Z</td>\n",
       "    </tr>\n",
       "    <tr>\n",
       "      <th>8397</th>\n",
       "      <td>http://www.wikidata.org/entity/Q7755698</td>\n",
       "      <td>the outsider</td>\n",
       "      <td>1931-01-01T00:00:00Z</td>\n",
       "    </tr>\n",
       "    <tr>\n",
       "      <th>13609</th>\n",
       "      <td>http://www.wikidata.org/entity/Q7755699</td>\n",
       "      <td>the outsider</td>\n",
       "      <td>1939-01-01T00:00:00Z</td>\n",
       "    </tr>\n",
       "    <tr>\n",
       "      <th>23674</th>\n",
       "      <td>http://www.wikidata.org/entity/Q7755700</td>\n",
       "      <td>the outsider</td>\n",
       "      <td>1961-01-01T00:00:00Z</td>\n",
       "    </tr>\n",
       "    <tr>\n",
       "      <th>29954</th>\n",
       "      <td>http://www.wikidata.org/entity/Q16931670</td>\n",
       "      <td>the outsider</td>\n",
       "      <td>1980-01-01T00:00:00Z</td>\n",
       "    </tr>\n",
       "    <tr>\n",
       "      <th>45040</th>\n",
       "      <td>http://www.wikidata.org/entity/Q56274148</td>\n",
       "      <td>the outsider</td>\n",
       "      <td>2005-01-01T00:00:00Z</td>\n",
       "    </tr>\n",
       "    <tr>\n",
       "      <th>57121</th>\n",
       "      <td>http://www.wikidata.org/entity/Q14948583</td>\n",
       "      <td>the outsider</td>\n",
       "      <td>2014-02-07T00:00:00Z</td>\n",
       "    </tr>\n",
       "    <tr>\n",
       "      <th>59335</th>\n",
       "      <td>http://www.wikidata.org/entity/Q25111228</td>\n",
       "      <td>the outsider</td>\n",
       "      <td>2016-01-01T00:00:00Z</td>\n",
       "    </tr>\n",
       "    <tr>\n",
       "      <th>62403</th>\n",
       "      <td>http://www.wikidata.org/entity/Q23767815</td>\n",
       "      <td>the outsider</td>\n",
       "      <td>2018-03-09T00:00:00Z</td>\n",
       "    </tr>\n",
       "  </tbody>\n",
       "</table>\n",
       "</div>"
      ],
      "text/plain": [
       "                                           item         title  \\\n",
       "1698   http://www.wikidata.org/entity/Q56279378  the outsider   \n",
       "5754    http://www.wikidata.org/entity/Q7755697  the outsider   \n",
       "8397    http://www.wikidata.org/entity/Q7755698  the outsider   \n",
       "13609   http://www.wikidata.org/entity/Q7755699  the outsider   \n",
       "23674   http://www.wikidata.org/entity/Q7755700  the outsider   \n",
       "29954  http://www.wikidata.org/entity/Q16931670  the outsider   \n",
       "45040  http://www.wikidata.org/entity/Q56274148  the outsider   \n",
       "57121  http://www.wikidata.org/entity/Q14948583  the outsider   \n",
       "59335  http://www.wikidata.org/entity/Q25111228  the outsider   \n",
       "62403  http://www.wikidata.org/entity/Q23767815  the outsider   \n",
       "\n",
       "                  published  \n",
       "1698   1917-01-01T00:00:00Z  \n",
       "5754   1926-01-01T00:00:00Z  \n",
       "8397   1931-01-01T00:00:00Z  \n",
       "13609  1939-01-01T00:00:00Z  \n",
       "23674  1961-01-01T00:00:00Z  \n",
       "29954  1980-01-01T00:00:00Z  \n",
       "45040  2005-01-01T00:00:00Z  \n",
       "57121  2014-02-07T00:00:00Z  \n",
       "59335  2016-01-01T00:00:00Z  \n",
       "62403  2018-03-09T00:00:00Z  "
      ]
     },
     "execution_count": 21,
     "metadata": {},
     "output_type": "execute_result"
    }
   ],
   "source": [
    "df[df.title=='the outsider'].sort_values(by=['published'])"
   ]
  },
  {
   "cell_type": "code",
   "execution_count": 22,
   "metadata": {
    "ExecuteTime": {
     "end_time": "2020-07-01T00:49:48.370116Z",
     "start_time": "2020-07-01T00:49:48.325090Z"
    }
   },
   "outputs": [
    {
     "data": {
      "text/html": [
       "<div>\n",
       "<style scoped>\n",
       "    .dataframe tbody tr th:only-of-type {\n",
       "        vertical-align: middle;\n",
       "    }\n",
       "\n",
       "    .dataframe tbody tr th {\n",
       "        vertical-align: top;\n",
       "    }\n",
       "\n",
       "    .dataframe thead th {\n",
       "        text-align: right;\n",
       "    }\n",
       "</style>\n",
       "<table border=\"1\" class=\"dataframe\">\n",
       "  <thead>\n",
       "    <tr style=\"text-align: right;\">\n",
       "      <th></th>\n",
       "      <th>item</th>\n",
       "      <th>title</th>\n",
       "      <th>published</th>\n",
       "    </tr>\n",
       "  </thead>\n",
       "  <tbody>\n",
       "    <tr>\n",
       "      <th>1780</th>\n",
       "      <td>http://www.wikidata.org/entity/Q6652563</td>\n",
       "      <td>little women</td>\n",
       "      <td>1917-09-17T00:00:00Z</td>\n",
       "    </tr>\n",
       "    <tr>\n",
       "      <th>9877</th>\n",
       "      <td>http://www.wikidata.org/entity/Q195274</td>\n",
       "      <td>little women</td>\n",
       "      <td>1933-11-16T00:00:00Z</td>\n",
       "    </tr>\n",
       "    <tr>\n",
       "      <th>18657</th>\n",
       "      <td>http://www.wikidata.org/entity/Q1466426</td>\n",
       "      <td>little women</td>\n",
       "      <td>1949-03-10T00:00:00Z</td>\n",
       "    </tr>\n",
       "    <tr>\n",
       "      <th>36722</th>\n",
       "      <td>http://www.wikidata.org/entity/Q850522</td>\n",
       "      <td>little women</td>\n",
       "      <td>1994-12-21T00:00:00Z</td>\n",
       "    </tr>\n",
       "    <tr>\n",
       "      <th>62656</th>\n",
       "      <td>http://www.wikidata.org/entity/Q56241200</td>\n",
       "      <td>little women</td>\n",
       "      <td>2018-09-28T00:00:00Z</td>\n",
       "    </tr>\n",
       "    <tr>\n",
       "      <th>63560</th>\n",
       "      <td>http://www.wikidata.org/entity/Q56881140</td>\n",
       "      <td>little women</td>\n",
       "      <td>2019-12-25T00:00:00Z</td>\n",
       "    </tr>\n",
       "  </tbody>\n",
       "</table>\n",
       "</div>"
      ],
      "text/plain": [
       "                                           item         title  \\\n",
       "1780    http://www.wikidata.org/entity/Q6652563  little women   \n",
       "9877     http://www.wikidata.org/entity/Q195274  little women   \n",
       "18657   http://www.wikidata.org/entity/Q1466426  little women   \n",
       "36722    http://www.wikidata.org/entity/Q850522  little women   \n",
       "62656  http://www.wikidata.org/entity/Q56241200  little women   \n",
       "63560  http://www.wikidata.org/entity/Q56881140  little women   \n",
       "\n",
       "                  published  \n",
       "1780   1917-09-17T00:00:00Z  \n",
       "9877   1933-11-16T00:00:00Z  \n",
       "18657  1949-03-10T00:00:00Z  \n",
       "36722  1994-12-21T00:00:00Z  \n",
       "62656  2018-09-28T00:00:00Z  \n",
       "63560  2019-12-25T00:00:00Z  "
      ]
     },
     "execution_count": 22,
     "metadata": {},
     "output_type": "execute_result"
    }
   ],
   "source": [
    "df[df.title=='little women'].sort_values(by=['published'])"
   ]
  },
  {
   "cell_type": "code",
   "execution_count": 23,
   "metadata": {},
   "outputs": [
    {
     "data": {
      "text/html": [
       "<div>\n",
       "<style scoped>\n",
       "    .dataframe tbody tr th:only-of-type {\n",
       "        vertical-align: middle;\n",
       "    }\n",
       "\n",
       "    .dataframe tbody tr th {\n",
       "        vertical-align: top;\n",
       "    }\n",
       "\n",
       "    .dataframe thead th {\n",
       "        text-align: right;\n",
       "    }\n",
       "</style>\n",
       "<table border=\"1\" class=\"dataframe\">\n",
       "  <thead>\n",
       "    <tr style=\"text-align: right;\">\n",
       "      <th></th>\n",
       "      <th>item</th>\n",
       "      <th>title</th>\n",
       "      <th>published</th>\n",
       "    </tr>\n",
       "  </thead>\n",
       "  <tbody>\n",
       "    <tr>\n",
       "      <th>2909</th>\n",
       "      <td>http://www.wikidata.org/entity/Q6690230</td>\n",
       "      <td>love</td>\n",
       "      <td>1920-01-01T00:00:00Z</td>\n",
       "    </tr>\n",
       "    <tr>\n",
       "      <th>6065</th>\n",
       "      <td>http://www.wikidata.org/entity/Q561162</td>\n",
       "      <td>love</td>\n",
       "      <td>1927-01-01T00:00:00Z</td>\n",
       "    </tr>\n",
       "    <tr>\n",
       "      <th>34883</th>\n",
       "      <td>http://www.wikidata.org/entity/Q4271757</td>\n",
       "      <td>love</td>\n",
       "      <td>1991-01-01T00:00:00Z</td>\n",
       "    </tr>\n",
       "    <tr>\n",
       "      <th>44746</th>\n",
       "      <td>http://www.wikidata.org/entity/Q6690233</td>\n",
       "      <td>love</td>\n",
       "      <td>2005-01-01T00:00:00Z</td>\n",
       "    </tr>\n",
       "    <tr>\n",
       "      <th>52087</th>\n",
       "      <td>http://www.wikidata.org/entity/Q1872389</td>\n",
       "      <td>love</td>\n",
       "      <td>2011-01-01T00:00:00Z</td>\n",
       "    </tr>\n",
       "    <tr>\n",
       "      <th>58879</th>\n",
       "      <td>http://www.wikidata.org/entity/Q19829024</td>\n",
       "      <td>love</td>\n",
       "      <td>2015-09-24T00:00:00Z</td>\n",
       "    </tr>\n",
       "  </tbody>\n",
       "</table>\n",
       "</div>"
      ],
      "text/plain": [
       "                                           item title             published\n",
       "2909    http://www.wikidata.org/entity/Q6690230  love  1920-01-01T00:00:00Z\n",
       "6065     http://www.wikidata.org/entity/Q561162  love  1927-01-01T00:00:00Z\n",
       "34883   http://www.wikidata.org/entity/Q4271757  love  1991-01-01T00:00:00Z\n",
       "44746   http://www.wikidata.org/entity/Q6690233  love  2005-01-01T00:00:00Z\n",
       "52087   http://www.wikidata.org/entity/Q1872389  love  2011-01-01T00:00:00Z\n",
       "58879  http://www.wikidata.org/entity/Q19829024  love  2015-09-24T00:00:00Z"
      ]
     },
     "execution_count": 23,
     "metadata": {},
     "output_type": "execute_result"
    }
   ],
   "source": [
    "df[df.title=='love'].sort_values(by=['published'])"
   ]
  },
  {
   "cell_type": "code",
   "execution_count": 24,
   "metadata": {
    "ExecuteTime": {
     "end_time": "2020-07-01T01:27:22.345181Z",
     "start_time": "2020-07-01T01:27:22.146658Z"
    }
   },
   "outputs": [],
   "source": [
    "title_count = df.groupby(['title'])['item'].count().sort_values(ascending=False).reset_index()"
   ]
  },
  {
   "cell_type": "code",
   "execution_count": 25,
   "metadata": {
    "ExecuteTime": {
     "end_time": "2020-07-01T01:29:41.548044Z",
     "start_time": "2020-07-01T01:29:41.527535Z"
    }
   },
   "outputs": [
    {
     "data": {
      "text/html": [
       "<div>\n",
       "<style scoped>\n",
       "    .dataframe tbody tr th:only-of-type {\n",
       "        vertical-align: middle;\n",
       "    }\n",
       "\n",
       "    .dataframe tbody tr th {\n",
       "        vertical-align: top;\n",
       "    }\n",
       "\n",
       "    .dataframe thead th {\n",
       "        text-align: right;\n",
       "    }\n",
       "</style>\n",
       "<table border=\"1\" class=\"dataframe\">\n",
       "  <thead>\n",
       "    <tr style=\"text-align: right;\">\n",
       "      <th></th>\n",
       "      <th>title</th>\n",
       "      <th>item</th>\n",
       "    </tr>\n",
       "  </thead>\n",
       "  <tbody>\n",
       "    <tr>\n",
       "      <th>18</th>\n",
       "      <td>asylum</td>\n",
       "      <td>6</td>\n",
       "    </tr>\n",
       "    <tr>\n",
       "      <th>19</th>\n",
       "      <td>camille</td>\n",
       "      <td>6</td>\n",
       "    </tr>\n",
       "    <tr>\n",
       "      <th>20</th>\n",
       "      <td>rage</td>\n",
       "      <td>6</td>\n",
       "    </tr>\n",
       "    <tr>\n",
       "      <th>21</th>\n",
       "      <td>king lear</td>\n",
       "      <td>6</td>\n",
       "    </tr>\n",
       "    <tr>\n",
       "      <th>22</th>\n",
       "      <td>great expectations</td>\n",
       "      <td>6</td>\n",
       "    </tr>\n",
       "    <tr>\n",
       "      <th>23</th>\n",
       "      <td>body and soul</td>\n",
       "      <td>6</td>\n",
       "    </tr>\n",
       "    <tr>\n",
       "      <th>24</th>\n",
       "      <td>midnight</td>\n",
       "      <td>6</td>\n",
       "    </tr>\n",
       "    <tr>\n",
       "      <th>25</th>\n",
       "      <td>the awakening</td>\n",
       "      <td>6</td>\n",
       "    </tr>\n",
       "    <tr>\n",
       "      <th>26</th>\n",
       "      <td>little women</td>\n",
       "      <td>6</td>\n",
       "    </tr>\n",
       "    <tr>\n",
       "      <th>27</th>\n",
       "      <td>brothers</td>\n",
       "      <td>6</td>\n",
       "    </tr>\n",
       "    <tr>\n",
       "      <th>28</th>\n",
       "      <td>outcast</td>\n",
       "      <td>6</td>\n",
       "    </tr>\n",
       "    <tr>\n",
       "      <th>29</th>\n",
       "      <td>revenge</td>\n",
       "      <td>6</td>\n",
       "    </tr>\n",
       "    <tr>\n",
       "      <th>30</th>\n",
       "      <td>love</td>\n",
       "      <td>6</td>\n",
       "    </tr>\n",
       "    <tr>\n",
       "      <th>31</th>\n",
       "      <td>stranded</td>\n",
       "      <td>6</td>\n",
       "    </tr>\n",
       "    <tr>\n",
       "      <th>32</th>\n",
       "      <td>the kiss</td>\n",
       "      <td>6</td>\n",
       "    </tr>\n",
       "    <tr>\n",
       "      <th>33</th>\n",
       "      <td>mercy</td>\n",
       "      <td>6</td>\n",
       "    </tr>\n",
       "    <tr>\n",
       "      <th>34</th>\n",
       "      <td>jealousy</td>\n",
       "      <td>6</td>\n",
       "    </tr>\n",
       "    <tr>\n",
       "      <th>35</th>\n",
       "      <td>the trap</td>\n",
       "      <td>6</td>\n",
       "    </tr>\n",
       "  </tbody>\n",
       "</table>\n",
       "</div>"
      ],
      "text/plain": [
       "                 title  item\n",
       "18              asylum     6\n",
       "19             camille     6\n",
       "20                rage     6\n",
       "21           king lear     6\n",
       "22  great expectations     6\n",
       "23       body and soul     6\n",
       "24            midnight     6\n",
       "25       the awakening     6\n",
       "26        little women     6\n",
       "27            brothers     6\n",
       "28             outcast     6\n",
       "29             revenge     6\n",
       "30                love     6\n",
       "31            stranded     6\n",
       "32            the kiss     6\n",
       "33               mercy     6\n",
       "34            jealousy     6\n",
       "35            the trap     6"
      ]
     },
     "execution_count": 25,
     "metadata": {},
     "output_type": "execute_result"
    }
   ],
   "source": [
    "title_count[title_count.item==6]"
   ]
  },
  {
   "cell_type": "code",
   "execution_count": 26,
   "metadata": {
    "ExecuteTime": {
     "end_time": "2020-07-01T01:34:55.499706Z",
     "start_time": "2020-07-01T01:34:55.490152Z"
    }
   },
   "outputs": [
    {
     "name": "stdout",
     "output_type": "stream",
     "text": [
      "4226 film titles have been used more than once\n"
     ]
    }
   ],
   "source": [
    "print('{} film titles have been used more than once'.format(title_count[title_count.item>1].shape[0]))"
   ]
  },
  {
   "cell_type": "code",
   "execution_count": null,
   "metadata": {},
   "outputs": [],
   "source": []
  },
  {
   "cell_type": "markdown",
   "metadata": {},
   "source": [
    "## to be continued"
   ]
  },
  {
   "cell_type": "code",
   "execution_count": 27,
   "metadata": {
    "ExecuteTime": {
     "end_time": "2020-07-01T01:57:27.452837Z",
     "start_time": "2020-07-01T01:57:27.412992Z"
    }
   },
   "outputs": [
    {
     "name": "stdout",
     "output_type": "stream",
     "text": [
      "17\n"
     ]
    },
    {
     "data": {
      "text/plain": [
       "['hong kong nights',\n",
       " 'passage from hong kong',\n",
       " 'escape from hong kong',\n",
       " 'hong kong',\n",
       " 'target hong kong',\n",
       " 'flight to hong kong',\n",
       " 'hong kong confidential',\n",
       " 'ferry to hong kong',\n",
       " 'the road to hong kong',\n",
       " 'a countess from hong kong',\n",
       " 'the man from hong kong',\n",
       " 'crazy hong kong',\n",
       " 'hong kong 97',\n",
       " 'red trousers – the life of the hong kong stuntmen',\n",
       " \"jackie chan's hong kong\",\n",
       " 'hong kong confidential',\n",
       " 'already tomorrow in hong kong']"
      ]
     },
     "execution_count": 27,
     "metadata": {},
     "output_type": "execute_result"
    }
   ],
   "source": [
    "hk_list = [title for title in df.title if 'hong kong' in title or 'hongkong' in title]\n",
    "print(len(hk_list))\n",
    "hk_list"
   ]
  },
  {
   "cell_type": "code",
   "execution_count": 28,
   "metadata": {
    "ExecuteTime": {
     "end_time": "2020-07-01T02:00:32.042322Z",
     "start_time": "2020-07-01T02:00:31.991576Z"
    }
   },
   "outputs": [
    {
     "name": "stdout",
     "output_type": "stream",
     "text": [
      "93\n"
     ]
    }
   ],
   "source": [
    "london_list = [title for title in df.title if 'london' in title]\n",
    "print(len(london_list))"
   ]
  },
  {
   "cell_type": "code",
   "execution_count": 29,
   "metadata": {
    "ExecuteTime": {
     "end_time": "2020-07-01T01:56:38.856417Z",
     "start_time": "2020-07-01T01:56:38.816054Z"
    }
   },
   "outputs": [
    {
     "name": "stdout",
     "output_type": "stream",
     "text": [
      "103\n"
     ]
    }
   ],
   "source": [
    "ny_list = [title for title in df.title if 'new york' in title or ' ny' in title or 'nyc' in title or 'newyork' in title]\n",
    "print(len(ny_list))"
   ]
  },
  {
   "cell_type": "code",
   "execution_count": 30,
   "metadata": {
    "ExecuteTime": {
     "end_time": "2020-07-01T01:52:37.903296Z",
     "start_time": "2020-07-01T01:52:37.882751Z"
    },
    "scrolled": true
   },
   "outputs": [
    {
     "name": "stdout",
     "output_type": "stream",
     "text": [
      "604\n"
     ]
    }
   ],
   "source": [
    "boy_list = [title for title in df.title if 'boy' in title]\n",
    "print(len(boy_list))\n",
    "# boy_list"
   ]
  },
  {
   "cell_type": "code",
   "execution_count": 31,
   "metadata": {
    "ExecuteTime": {
     "end_time": "2020-07-01T01:31:29.437261Z",
     "start_time": "2020-07-01T01:31:29.415562Z"
    }
   },
   "outputs": [
    {
     "name": "stdout",
     "output_type": "stream",
     "text": [
      "880\n"
     ]
    }
   ],
   "source": [
    "girl_list = [title for title in df.title if 'girl' in title]\n",
    "print(len(girl_list))\n",
    "# girl_list"
   ]
  },
  {
   "cell_type": "code",
   "execution_count": 32,
   "metadata": {
    "ExecuteTime": {
     "end_time": "2020-07-01T01:17:57.106716Z",
     "start_time": "2020-07-01T01:17:57.068773Z"
    }
   },
   "outputs": [
    {
     "data": {
      "text/plain": [
       "['terror from the year 5000',\n",
       " 'fireball 500',\n",
       " 'transylvania 6-5000',\n",
       " 'chuck e. cheese in the galaxy 5000',\n",
       " '500 years later',\n",
       " 'troop 1500',\n",
       " '5000 miles',\n",
       " '9500 liberty',\n",
       " '(500) days of summer',\n",
       " '500 miles north',\n",
       " '7500',\n",
       " '1500 steps',\n",
       " '7500']"
      ]
     },
     "execution_count": 32,
     "metadata": {},
     "output_type": "execute_result"
    }
   ],
   "source": [
    "[title for title in df.title if '500' in title]"
   ]
  },
  {
   "cell_type": "code",
   "execution_count": 33,
   "metadata": {
    "ExecuteTime": {
     "end_time": "2020-07-01T01:30:36.506338Z",
     "start_time": "2020-07-01T01:30:36.475959Z"
    },
    "scrolled": false
   },
   "outputs": [
    {
     "data": {
      "text/plain": [
       "854"
      ]
     },
     "execution_count": 33,
     "metadata": {},
     "output_type": "execute_result"
    }
   ],
   "source": [
    "day_list = [title for title in df.title if 'day' in title]\n",
    "len(day_list)"
   ]
  },
  {
   "cell_type": "code",
   "execution_count": 34,
   "metadata": {
    "ExecuteTime": {
     "end_time": "2020-07-01T01:17:38.703739Z",
     "start_time": "2020-07-01T01:17:38.681619Z"
    }
   },
   "outputs": [
    {
     "data": {
      "text/plain": [
       "['the apple tree girl',\n",
       " 'bitter apples',\n",
       " \"adam's apple\",\n",
       " \"the devil's apple tree\",\n",
       " 'captain applejack',\n",
       " 'aggie appleby maker of men',\n",
       " 'three bites of the apple',\n",
       " 'golden apples of the sun',\n",
       " 'the apple',\n",
       " 'meet the applegates',\n",
       " 'god, sex & apple pie',\n",
       " 'larryboy and the bad apple',\n",
       " 'pineapple express',\n",
       " 'red apples falling',\n",
       " 'adams apples',\n",
       " 'i love you, apple, i love you, orange',\n",
       " 'appleseed alpha',\n",
       " 'applesauce',\n",
       " 'mapplethorpe: look at the pictures',\n",
       " 'mapplethorpe']"
      ]
     },
     "execution_count": 34,
     "metadata": {},
     "output_type": "execute_result"
    }
   ],
   "source": [
    "[title for title in df.title if 'apple' in title]"
   ]
  },
  {
   "cell_type": "code",
   "execution_count": 35,
   "metadata": {
    "ExecuteTime": {
     "end_time": "2020-07-01T01:17:32.435089Z",
     "start_time": "2020-07-01T01:17:32.411092Z"
    }
   },
   "outputs": [
    {
     "data": {
      "text/plain": [
       "['the patchwork girl of oz',\n",
       " 'monty works the wires',\n",
       " 'the fast worker',\n",
       " \"the girl who wouldn't work\",\n",
       " 'more pay, less work',\n",
       " 'only saps work',\n",
       " 'working girls',\n",
       " \"temptation's workshop\",\n",
       " 'too busy to work',\n",
       " 'the working man',\n",
       " 'fast workers',\n",
       " 'dirty work',\n",
       " 'shoot the works',\n",
       " 'danger – love at work',\n",
       " 'we work again',\n",
       " 'the man who could work miracles',\n",
       " 'blondes at work',\n",
       " 'night work',\n",
       " 'too busy to work',\n",
       " 'should husbands work?',\n",
       " 'genius at work',\n",
       " \"she's working her way through college\",\n",
       " \"all in a night's work\",\n",
       " 'the miracle worker',\n",
       " 'afro-american work songs in a texas prison',\n",
       " 'work is a four-letter word',\n",
       " 'a clockwork orange',\n",
       " 'the working girls',\n",
       " 'network',\n",
       " 'hardly working',\n",
       " 'homework',\n",
       " \"i'm almost not crazy: john cassavetes, the man and his work\",\n",
       " 'the works ep',\n",
       " 'working girls',\n",
       " 'killer workout',\n",
       " 'waxwork',\n",
       " 'working girl',\n",
       " 'men at work',\n",
       " 'h-2 worker',\n",
       " 'waxwork ii: lost in time',\n",
       " 'mani madhava chakyar: the master at work',\n",
       " 'clockwork orgy',\n",
       " 'clockwork mice',\n",
       " 'this world, then the fireworks',\n",
       " 'dirty work',\n",
       " 'blood work',\n",
       " 'i love your work',\n",
       " 'the work and the story',\n",
       " 'artworks',\n",
       " 'jimmywork',\n",
       " 'the work and the glory',\n",
       " \"workingman's death\",\n",
       " 'the work and the glory: american zion',\n",
       " 'what remains: the life and work of sally mann',\n",
       " 'why wal-mart works; and why that drives some people c-r-a-z-y',\n",
       " 'gonzo: the life and work of dr. hunter s. thompson',\n",
       " 'whatever works',\n",
       " \"jaffa, the orange's clockwork\",\n",
       " 'cameraman: the life and work of jack cardiff',\n",
       " 'how democracy works now: twelve stories',\n",
       " 'working girls',\n",
       " 'joan rivers: a piece of work',\n",
       " 'the social network',\n",
       " 'the unfinished works of sean weathers',\n",
       " 'bloodwork',\n",
       " 'frameworks: images of a changing world',\n",
       " 'the shark is still working',\n",
       " 'not safe for work',\n",
       " 'wwe workout series',\n",
       " 'wetwork',\n",
       " 'magician: the astonishing life and work of orson welles',\n",
       " 'al quds - the workshop',\n",
       " 'the future of work and death',\n",
       " 'filmworker',\n",
       " 'the work',\n",
       " 'the workers cup',\n",
       " 'working class boy',\n",
       " 'write when you get work',\n",
       " 'workplace politics',\n",
       " 'wasp network']"
      ]
     },
     "execution_count": 35,
     "metadata": {},
     "output_type": "execute_result"
    }
   ],
   "source": [
    "[title for title in df.title if 'work' in title]"
   ]
  },
  {
   "cell_type": "code",
   "execution_count": 36,
   "metadata": {
    "ExecuteTime": {
     "end_time": "2020-07-01T01:15:07.991796Z",
     "start_time": "2020-07-01T01:15:07.952416Z"
    }
   },
   "outputs": [
    {
     "data": {
      "text/plain": [
       "['the marriage of kitty',\n",
       " 'an international marriage',\n",
       " 'sold for marriage',\n",
       " 'her marriage lines',\n",
       " 'the marriage ring',\n",
       " 'the marriage lie',\n",
       " 'marriages are made',\n",
       " 'the marriage price',\n",
       " 'marriage for convenience',\n",
       " 'the marriage of william ashe',\n",
       " 'the mad marriage',\n",
       " 'man-woman-marriage',\n",
       " 'the marriage lines',\n",
       " 'why announce your marriage?',\n",
       " 'the marriage chance',\n",
       " 'the marriage maker',\n",
       " 'temporary marriage',\n",
       " 'modern marriage',\n",
       " 'the marriage circle',\n",
       " 'so this is marriage?',\n",
       " 'her marriage vow',\n",
       " 'the marriage cheat',\n",
       " 'greater than marriage',\n",
       " 'if marriage fails',\n",
       " 'marriage in transit',\n",
       " 'the marriage whirl',\n",
       " 'the mad marriage',\n",
       " 'the marriage clause',\n",
       " 'the marriage business',\n",
       " 'marriage',\n",
       " 'companionate marriage',\n",
       " 'three-ring marriage',\n",
       " 'marriage by contract',\n",
       " 'spite marriage',\n",
       " 'half marriage',\n",
       " 'the marriage playground',\n",
       " 'consolation marriage',\n",
       " 'the marriage bond',\n",
       " 'week-end marriage',\n",
       " 'no marriage ties',\n",
       " 'the marriage bargain',\n",
       " 'my marriage',\n",
       " 'brilliant marriage',\n",
       " 'this marriage business',\n",
       " 'marriage is a private affair',\n",
       " 'the perfect marriage',\n",
       " 'a modern marriage',\n",
       " 'grounds for marriage',\n",
       " 'the model and the marriage broker',\n",
       " 'the marriage of figaro',\n",
       " 'the marriage-go-round',\n",
       " 'marriage lines',\n",
       " 'marriage on the rocks',\n",
       " 'how to save a marriage and ruin your life',\n",
       " 'how to commit marriage',\n",
       " 'the art of marriage',\n",
       " 'the marriage of a young stockbroker',\n",
       " 'group marriage',\n",
       " \"a marriage: georgia o'keeffe and alfred stieglitz\",\n",
       " 'love, honor & obey: the last mafia marriage',\n",
       " 'a rather english marriage',\n",
       " 'the clandestine marriage',\n",
       " 'child marriage',\n",
       " 'the gay marriage thing',\n",
       " 'every good marriage begins with tears',\n",
       " 'a quiet little marriage',\n",
       " 'love, wedding, marriage',\n",
       " 'marriage retreat',\n",
       " 'scenes from a gay marriage',\n",
       " 'temptation: confessions of a marriage counselor',\n",
       " 'a good marriage',\n",
       " 'marriage 2.0',\n",
       " 'the state of marriage',\n",
       " 'marriage story']"
      ]
     },
     "execution_count": 36,
     "metadata": {},
     "output_type": "execute_result"
    }
   ],
   "source": [
    "[title for title in df.title if 'marriage' in title]"
   ]
  },
  {
   "cell_type": "code",
   "execution_count": 37,
   "metadata": {
    "ExecuteTime": {
     "end_time": "2020-07-01T01:14:17.441088Z",
     "start_time": "2020-07-01T01:14:17.411144Z"
    }
   },
   "outputs": [
    {
     "data": {
      "text/plain": [
       "['the avengers',\n",
       " 'the scavengers',\n",
       " 'avengers of the reef',\n",
       " 'scavengers',\n",
       " 'the avengers',\n",
       " 'ultimate avengers 2',\n",
       " 'ultimate avengers',\n",
       " 'next avengers: heroes of tomorrow',\n",
       " 'avengers xxx – a porn parody',\n",
       " 'the avengers',\n",
       " 'avengers grimm',\n",
       " 'avengers grimm: time wars',\n",
       " 'bikini avengers',\n",
       " 'avengers: age of ultron',\n",
       " 'avengers 4',\n",
       " 'avengers: infinity war',\n",
       " 'avengers: endgame']"
      ]
     },
     "execution_count": 37,
     "metadata": {},
     "output_type": "execute_result"
    }
   ],
   "source": [
    "[title for title in df.title if 'avengers' in title]"
   ]
  },
  {
   "cell_type": "code",
   "execution_count": 38,
   "metadata": {},
   "outputs": [],
   "source": [
    "df[\"time\"] = pd.to_datetime(df['published'])"
   ]
  },
  {
   "cell_type": "code",
   "execution_count": 39,
   "metadata": {},
   "outputs": [],
   "source": [
    "df_word = df.copy()"
   ]
  },
  {
   "cell_type": "code",
   "execution_count": 84,
   "metadata": {},
   "outputs": [],
   "source": [
    "words = [\n",
    "    \"old\",\n",
    "    \"new\",\n",
    "    \"spring\", \"autumn\", \n",
    "    \"dead\", \"love\", \"bad\", \"good\", \"hate\", \"london\", \n",
    "    \"new york\", \"yes\", \"no\", \"dog\", \"cat\",  \"summer\", \n",
    "    \"winter\", \"china\", \"big\", \"small\"\n",
    "]\n",
    "\n",
    "for word in words:\n",
    "    df_word[word] = [1 if title.find(word) > 0 else 0 for title in df_word.title]"
   ]
  },
  {
   "cell_type": "code",
   "execution_count": 74,
   "metadata": {},
   "outputs": [
    {
     "data": {
      "text/html": [
       "<div>\n",
       "<style scoped>\n",
       "    .dataframe tbody tr th:only-of-type {\n",
       "        vertical-align: middle;\n",
       "    }\n",
       "\n",
       "    .dataframe tbody tr th {\n",
       "        vertical-align: top;\n",
       "    }\n",
       "\n",
       "    .dataframe thead th {\n",
       "        text-align: right;\n",
       "    }\n",
       "</style>\n",
       "<table border=\"1\" class=\"dataframe\">\n",
       "  <thead>\n",
       "    <tr style=\"text-align: right;\">\n",
       "      <th></th>\n",
       "      <th>item</th>\n",
       "      <th>title</th>\n",
       "      <th>published</th>\n",
       "      <th>time</th>\n",
       "      <th>bad</th>\n",
       "      <th>good</th>\n",
       "      <th>hate</th>\n",
       "      <th>london</th>\n",
       "      <th>new york</th>\n",
       "      <th>love</th>\n",
       "      <th>yes</th>\n",
       "      <th>no</th>\n",
       "      <th>dog</th>\n",
       "      <th>cat</th>\n",
       "      <th>summer</th>\n",
       "      <th>winter</th>\n",
       "      <th>china</th>\n",
       "    </tr>\n",
       "  </thead>\n",
       "  <tbody>\n",
       "    <tr>\n",
       "      <th>801</th>\n",
       "      <td>http://www.wikidata.org/entity/Q19363570</td>\n",
       "      <td>the chinatown mystery</td>\n",
       "      <td>1915-01-01T00:00:00Z</td>\n",
       "      <td>1915-01-01 00:00:00+00:00</td>\n",
       "      <td>0</td>\n",
       "      <td>0</td>\n",
       "      <td>0</td>\n",
       "      <td>0</td>\n",
       "      <td>0</td>\n",
       "      <td>0</td>\n",
       "      <td>0</td>\n",
       "      <td>0</td>\n",
       "      <td>0</td>\n",
       "      <td>0</td>\n",
       "      <td>0</td>\n",
       "      <td>0</td>\n",
       "      <td>1</td>\n",
       "    </tr>\n",
       "    <tr>\n",
       "      <th>5650</th>\n",
       "      <td>http://www.wikidata.org/entity/Q4660345</td>\n",
       "      <td>a trip to chinatown</td>\n",
       "      <td>1926-01-01T00:00:00Z</td>\n",
       "      <td>1926-01-01 00:00:00+00:00</td>\n",
       "      <td>0</td>\n",
       "      <td>0</td>\n",
       "      <td>0</td>\n",
       "      <td>0</td>\n",
       "      <td>0</td>\n",
       "      <td>0</td>\n",
       "      <td>0</td>\n",
       "      <td>0</td>\n",
       "      <td>0</td>\n",
       "      <td>0</td>\n",
       "      <td>0</td>\n",
       "      <td>0</td>\n",
       "      <td>1</td>\n",
       "    </tr>\n",
       "    <tr>\n",
       "      <th>7889</th>\n",
       "      <td>http://www.wikidata.org/entity/Q7775527</td>\n",
       "      <td>the woman from china</td>\n",
       "      <td>1930-01-01T00:00:00Z</td>\n",
       "      <td>1930-01-01 00:00:00+00:00</td>\n",
       "      <td>0</td>\n",
       "      <td>0</td>\n",
       "      <td>0</td>\n",
       "      <td>0</td>\n",
       "      <td>0</td>\n",
       "      <td>0</td>\n",
       "      <td>0</td>\n",
       "      <td>0</td>\n",
       "      <td>0</td>\n",
       "      <td>0</td>\n",
       "      <td>0</td>\n",
       "      <td>0</td>\n",
       "      <td>1</td>\n",
       "    </tr>\n",
       "    <tr>\n",
       "      <th>8648</th>\n",
       "      <td>http://www.wikidata.org/entity/Q28961096</td>\n",
       "      <td>chin chin chinaman</td>\n",
       "      <td>1931-11-01T00:00:00Z</td>\n",
       "      <td>1931-11-01 00:00:00+00:00</td>\n",
       "      <td>0</td>\n",
       "      <td>0</td>\n",
       "      <td>0</td>\n",
       "      <td>0</td>\n",
       "      <td>0</td>\n",
       "      <td>0</td>\n",
       "      <td>0</td>\n",
       "      <td>0</td>\n",
       "      <td>0</td>\n",
       "      <td>0</td>\n",
       "      <td>0</td>\n",
       "      <td>0</td>\n",
       "      <td>1</td>\n",
       "    </tr>\n",
       "    <tr>\n",
       "      <th>10722</th>\n",
       "      <td>http://www.wikidata.org/entity/Q5037095</td>\n",
       "      <td>captured in chinatown</td>\n",
       "      <td>1935-01-01T00:00:00Z</td>\n",
       "      <td>1935-01-01 00:00:00+00:00</td>\n",
       "      <td>0</td>\n",
       "      <td>0</td>\n",
       "      <td>0</td>\n",
       "      <td>0</td>\n",
       "      <td>0</td>\n",
       "      <td>0</td>\n",
       "      <td>0</td>\n",
       "      <td>0</td>\n",
       "      <td>0</td>\n",
       "      <td>0</td>\n",
       "      <td>0</td>\n",
       "      <td>0</td>\n",
       "      <td>1</td>\n",
       "    </tr>\n",
       "    <tr>\n",
       "      <th>10815</th>\n",
       "      <td>http://www.wikidata.org/entity/Q7081402</td>\n",
       "      <td>oil for the lamps of china</td>\n",
       "      <td>1935-01-01T00:00:00Z</td>\n",
       "      <td>1935-01-01 00:00:00+00:00</td>\n",
       "      <td>0</td>\n",
       "      <td>0</td>\n",
       "      <td>0</td>\n",
       "      <td>0</td>\n",
       "      <td>0</td>\n",
       "      <td>0</td>\n",
       "      <td>0</td>\n",
       "      <td>0</td>\n",
       "      <td>0</td>\n",
       "      <td>0</td>\n",
       "      <td>0</td>\n",
       "      <td>0</td>\n",
       "      <td>1</td>\n",
       "    </tr>\n",
       "    <tr>\n",
       "      <th>11644</th>\n",
       "      <td>http://www.wikidata.org/entity/Q10370909</td>\n",
       "      <td>shadow of chinatown</td>\n",
       "      <td>1936-01-01T00:00:00Z</td>\n",
       "      <td>1936-01-01 00:00:00+00:00</td>\n",
       "      <td>0</td>\n",
       "      <td>0</td>\n",
       "      <td>0</td>\n",
       "      <td>0</td>\n",
       "      <td>0</td>\n",
       "      <td>0</td>\n",
       "      <td>0</td>\n",
       "      <td>0</td>\n",
       "      <td>0</td>\n",
       "      <td>0</td>\n",
       "      <td>0</td>\n",
       "      <td>0</td>\n",
       "      <td>1</td>\n",
       "    </tr>\n",
       "    <tr>\n",
       "      <th>11852</th>\n",
       "      <td>http://www.wikidata.org/entity/Q52715809</td>\n",
       "      <td>i cover chinatown</td>\n",
       "      <td>1936-01-01T00:00:00Z</td>\n",
       "      <td>1936-01-01 00:00:00+00:00</td>\n",
       "      <td>0</td>\n",
       "      <td>0</td>\n",
       "      <td>0</td>\n",
       "      <td>0</td>\n",
       "      <td>0</td>\n",
       "      <td>0</td>\n",
       "      <td>0</td>\n",
       "      <td>0</td>\n",
       "      <td>0</td>\n",
       "      <td>0</td>\n",
       "      <td>0</td>\n",
       "      <td>0</td>\n",
       "      <td>1</td>\n",
       "    </tr>\n",
       "    <tr>\n",
       "      <th>13647</th>\n",
       "      <td>http://www.wikidata.org/entity/Q10332948</td>\n",
       "      <td>mr. wong in chinatown</td>\n",
       "      <td>1939-01-01T00:00:00Z</td>\n",
       "      <td>1939-01-01 00:00:00+00:00</td>\n",
       "      <td>0</td>\n",
       "      <td>0</td>\n",
       "      <td>0</td>\n",
       "      <td>0</td>\n",
       "      <td>0</td>\n",
       "      <td>0</td>\n",
       "      <td>0</td>\n",
       "      <td>0</td>\n",
       "      <td>0</td>\n",
       "      <td>0</td>\n",
       "      <td>0</td>\n",
       "      <td>0</td>\n",
       "      <td>1</td>\n",
       "    </tr>\n",
       "    <tr>\n",
       "      <th>13724</th>\n",
       "      <td>http://www.wikidata.org/entity/Q19787274</td>\n",
       "      <td>king of chinatown</td>\n",
       "      <td>1939-01-01T00:00:00Z</td>\n",
       "      <td>1939-01-01 00:00:00+00:00</td>\n",
       "      <td>0</td>\n",
       "      <td>0</td>\n",
       "      <td>0</td>\n",
       "      <td>0</td>\n",
       "      <td>0</td>\n",
       "      <td>0</td>\n",
       "      <td>0</td>\n",
       "      <td>0</td>\n",
       "      <td>0</td>\n",
       "      <td>0</td>\n",
       "      <td>0</td>\n",
       "      <td>0</td>\n",
       "      <td>1</td>\n",
       "    </tr>\n",
       "    <tr>\n",
       "      <th>13815</th>\n",
       "      <td>http://www.wikidata.org/entity/Q17026632</td>\n",
       "      <td>torchy blane in chinatown</td>\n",
       "      <td>1939-02-02T00:00:00Z</td>\n",
       "      <td>1939-02-02 00:00:00+00:00</td>\n",
       "      <td>0</td>\n",
       "      <td>0</td>\n",
       "      <td>0</td>\n",
       "      <td>0</td>\n",
       "      <td>0</td>\n",
       "      <td>0</td>\n",
       "      <td>0</td>\n",
       "      <td>0</td>\n",
       "      <td>0</td>\n",
       "      <td>0</td>\n",
       "      <td>0</td>\n",
       "      <td>0</td>\n",
       "      <td>1</td>\n",
       "    </tr>\n",
       "    <tr>\n",
       "      <th>14126</th>\n",
       "      <td>http://www.wikidata.org/entity/Q7180611</td>\n",
       "      <td>phantom of chinatown</td>\n",
       "      <td>1940-01-01T00:00:00Z</td>\n",
       "      <td>1940-01-01 00:00:00+00:00</td>\n",
       "      <td>0</td>\n",
       "      <td>0</td>\n",
       "      <td>0</td>\n",
       "      <td>0</td>\n",
       "      <td>0</td>\n",
       "      <td>0</td>\n",
       "      <td>0</td>\n",
       "      <td>0</td>\n",
       "      <td>0</td>\n",
       "      <td>0</td>\n",
       "      <td>0</td>\n",
       "      <td>0</td>\n",
       "      <td>1</td>\n",
       "    </tr>\n",
       "    <tr>\n",
       "      <th>16364</th>\n",
       "      <td>http://www.wikidata.org/entity/Q7715853</td>\n",
       "      <td>the battle of china</td>\n",
       "      <td>1944-01-01T00:00:00Z</td>\n",
       "      <td>1944-01-01 00:00:00+00:00</td>\n",
       "      <td>0</td>\n",
       "      <td>0</td>\n",
       "      <td>0</td>\n",
       "      <td>0</td>\n",
       "      <td>0</td>\n",
       "      <td>0</td>\n",
       "      <td>0</td>\n",
       "      <td>0</td>\n",
       "      <td>0</td>\n",
       "      <td>0</td>\n",
       "      <td>0</td>\n",
       "      <td>0</td>\n",
       "      <td>1</td>\n",
       "    </tr>\n",
       "    <tr>\n",
       "      <th>17232</th>\n",
       "      <td>http://www.wikidata.org/entity/Q7460790</td>\n",
       "      <td>shadows over chinatown</td>\n",
       "      <td>1946-01-01T00:00:00Z</td>\n",
       "      <td>1946-01-01 00:00:00+00:00</td>\n",
       "      <td>0</td>\n",
       "      <td>0</td>\n",
       "      <td>0</td>\n",
       "      <td>0</td>\n",
       "      <td>0</td>\n",
       "      <td>0</td>\n",
       "      <td>0</td>\n",
       "      <td>0</td>\n",
       "      <td>0</td>\n",
       "      <td>0</td>\n",
       "      <td>0</td>\n",
       "      <td>0</td>\n",
       "      <td>1</td>\n",
       "    </tr>\n",
       "    <tr>\n",
       "      <th>19291</th>\n",
       "      <td>http://www.wikidata.org/entity/Q19867522</td>\n",
       "      <td>captain china</td>\n",
       "      <td>1950-01-01T00:00:00Z</td>\n",
       "      <td>1950-01-01 00:00:00+00:00</td>\n",
       "      <td>0</td>\n",
       "      <td>0</td>\n",
       "      <td>0</td>\n",
       "      <td>0</td>\n",
       "      <td>0</td>\n",
       "      <td>0</td>\n",
       "      <td>0</td>\n",
       "      <td>0</td>\n",
       "      <td>0</td>\n",
       "      <td>0</td>\n",
       "      <td>0</td>\n",
       "      <td>0</td>\n",
       "      <td>1</td>\n",
       "    </tr>\n",
       "    <tr>\n",
       "      <th>20283</th>\n",
       "      <td>http://www.wikidata.org/entity/Q23755458</td>\n",
       "      <td>a yank in indo-china</td>\n",
       "      <td>1952-04-03T00:00:00Z</td>\n",
       "      <td>1952-04-03 00:00:00+00:00</td>\n",
       "      <td>0</td>\n",
       "      <td>0</td>\n",
       "      <td>0</td>\n",
       "      <td>0</td>\n",
       "      <td>0</td>\n",
       "      <td>0</td>\n",
       "      <td>0</td>\n",
       "      <td>0</td>\n",
       "      <td>0</td>\n",
       "      <td>0</td>\n",
       "      <td>0</td>\n",
       "      <td>0</td>\n",
       "      <td>1</td>\n",
       "    </tr>\n",
       "    <tr>\n",
       "      <th>21057</th>\n",
       "      <td>http://www.wikidata.org/entity/Q7832164</td>\n",
       "      <td>trader tom of the china seas</td>\n",
       "      <td>1954-01-01T00:00:00Z</td>\n",
       "      <td>1954-01-01 00:00:00+00:00</td>\n",
       "      <td>0</td>\n",
       "      <td>0</td>\n",
       "      <td>0</td>\n",
       "      <td>0</td>\n",
       "      <td>0</td>\n",
       "      <td>0</td>\n",
       "      <td>0</td>\n",
       "      <td>0</td>\n",
       "      <td>0</td>\n",
       "      <td>0</td>\n",
       "      <td>0</td>\n",
       "      <td>0</td>\n",
       "      <td>1</td>\n",
       "    </tr>\n",
       "    <tr>\n",
       "      <th>22571</th>\n",
       "      <td>http://www.wikidata.org/entity/Q5557295</td>\n",
       "      <td>ghost of the china sea</td>\n",
       "      <td>1958-01-01T00:00:00Z</td>\n",
       "      <td>1958-01-01 00:00:00+00:00</td>\n",
       "      <td>0</td>\n",
       "      <td>0</td>\n",
       "      <td>0</td>\n",
       "      <td>0</td>\n",
       "      <td>0</td>\n",
       "      <td>0</td>\n",
       "      <td>0</td>\n",
       "      <td>0</td>\n",
       "      <td>0</td>\n",
       "      <td>0</td>\n",
       "      <td>0</td>\n",
       "      <td>0</td>\n",
       "      <td>1</td>\n",
       "    </tr>\n",
       "    <tr>\n",
       "      <th>23643</th>\n",
       "      <td>http://www.wikidata.org/entity/Q7142850</td>\n",
       "      <td>passport to china</td>\n",
       "      <td>1961-01-01T00:00:00Z</td>\n",
       "      <td>1961-01-01 00:00:00+00:00</td>\n",
       "      <td>0</td>\n",
       "      <td>0</td>\n",
       "      <td>0</td>\n",
       "      <td>0</td>\n",
       "      <td>0</td>\n",
       "      <td>0</td>\n",
       "      <td>0</td>\n",
       "      <td>0</td>\n",
       "      <td>0</td>\n",
       "      <td>0</td>\n",
       "      <td>0</td>\n",
       "      <td>0</td>\n",
       "      <td>1</td>\n",
       "    </tr>\n",
       "    <tr>\n",
       "      <th>28244</th>\n",
       "      <td>http://www.wikidata.org/entity/Q7755487</td>\n",
       "      <td>the other half of the sky: a china memoir</td>\n",
       "      <td>1975-01-01T00:00:00Z</td>\n",
       "      <td>1975-01-01 00:00:00+00:00</td>\n",
       "      <td>0</td>\n",
       "      <td>0</td>\n",
       "      <td>0</td>\n",
       "      <td>0</td>\n",
       "      <td>0</td>\n",
       "      <td>0</td>\n",
       "      <td>0</td>\n",
       "      <td>0</td>\n",
       "      <td>0</td>\n",
       "      <td>0</td>\n",
       "      <td>0</td>\n",
       "      <td>0</td>\n",
       "      <td>1</td>\n",
       "    </tr>\n",
       "    <tr>\n",
       "      <th>29360</th>\n",
       "      <td>http://www.wikidata.org/entity/Q647599</td>\n",
       "      <td>the china syndrome</td>\n",
       "      <td>1979-01-01T00:00:00Z</td>\n",
       "      <td>1979-01-01 00:00:00+00:00</td>\n",
       "      <td>0</td>\n",
       "      <td>0</td>\n",
       "      <td>0</td>\n",
       "      <td>0</td>\n",
       "      <td>0</td>\n",
       "      <td>0</td>\n",
       "      <td>0</td>\n",
       "      <td>0</td>\n",
       "      <td>0</td>\n",
       "      <td>0</td>\n",
       "      <td>0</td>\n",
       "      <td>0</td>\n",
       "      <td>1</td>\n",
       "    </tr>\n",
       "    <tr>\n",
       "      <th>29793</th>\n",
       "      <td>http://www.wikidata.org/entity/Q3020215</td>\n",
       "      <td>from mao to mozart: isaac stern in china</td>\n",
       "      <td>1980-01-01T00:00:00Z</td>\n",
       "      <td>1980-01-01 00:00:00+00:00</td>\n",
       "      <td>0</td>\n",
       "      <td>0</td>\n",
       "      <td>0</td>\n",
       "      <td>0</td>\n",
       "      <td>0</td>\n",
       "      <td>0</td>\n",
       "      <td>0</td>\n",
       "      <td>0</td>\n",
       "      <td>0</td>\n",
       "      <td>0</td>\n",
       "      <td>0</td>\n",
       "      <td>0</td>\n",
       "      <td>1</td>\n",
       "    </tr>\n",
       "    <tr>\n",
       "      <th>30702</th>\n",
       "      <td>http://www.wikidata.org/entity/Q8031918</td>\n",
       "      <td>wonders of china</td>\n",
       "      <td>1982-10-01T00:00:00Z</td>\n",
       "      <td>1982-10-01 00:00:00+00:00</td>\n",
       "      <td>0</td>\n",
       "      <td>0</td>\n",
       "      <td>0</td>\n",
       "      <td>0</td>\n",
       "      <td>0</td>\n",
       "      <td>0</td>\n",
       "      <td>0</td>\n",
       "      <td>0</td>\n",
       "      <td>0</td>\n",
       "      <td>0</td>\n",
       "      <td>0</td>\n",
       "      <td>0</td>\n",
       "      <td>1</td>\n",
       "    </tr>\n",
       "    <tr>\n",
       "      <th>30997</th>\n",
       "      <td>http://www.wikidata.org/entity/Q1478341</td>\n",
       "      <td>high road to china</td>\n",
       "      <td>1983-06-24T00:00:00Z</td>\n",
       "      <td>1983-06-24 00:00:00+00:00</td>\n",
       "      <td>0</td>\n",
       "      <td>0</td>\n",
       "      <td>0</td>\n",
       "      <td>0</td>\n",
       "      <td>0</td>\n",
       "      <td>0</td>\n",
       "      <td>0</td>\n",
       "      <td>0</td>\n",
       "      <td>0</td>\n",
       "      <td>0</td>\n",
       "      <td>0</td>\n",
       "      <td>0</td>\n",
       "      <td>1</td>\n",
       "    </tr>\n",
       "    <tr>\n",
       "      <th>31971</th>\n",
       "      <td>http://www.wikidata.org/entity/Q859494</td>\n",
       "      <td>big trouble in little china</td>\n",
       "      <td>1986-01-01T00:00:00Z</td>\n",
       "      <td>1986-01-01 00:00:00+00:00</td>\n",
       "      <td>0</td>\n",
       "      <td>0</td>\n",
       "      <td>0</td>\n",
       "      <td>0</td>\n",
       "      <td>0</td>\n",
       "      <td>0</td>\n",
       "      <td>0</td>\n",
       "      <td>0</td>\n",
       "      <td>0</td>\n",
       "      <td>0</td>\n",
       "      <td>0</td>\n",
       "      <td>0</td>\n",
       "      <td>1</td>\n",
       "    </tr>\n",
       "    <tr>\n",
       "      <th>32327</th>\n",
       "      <td>http://www.wikidata.org/entity/Q52715654</td>\n",
       "      <td>wham! in china: foreign skies</td>\n",
       "      <td>1986-01-01T00:00:00Z</td>\n",
       "      <td>1986-01-01 00:00:00+00:00</td>\n",
       "      <td>0</td>\n",
       "      <td>0</td>\n",
       "      <td>0</td>\n",
       "      <td>0</td>\n",
       "      <td>0</td>\n",
       "      <td>0</td>\n",
       "      <td>0</td>\n",
       "      <td>0</td>\n",
       "      <td>0</td>\n",
       "      <td>0</td>\n",
       "      <td>0</td>\n",
       "      <td>0</td>\n",
       "      <td>1</td>\n",
       "    </tr>\n",
       "    <tr>\n",
       "      <th>38050</th>\n",
       "      <td>http://www.wikidata.org/entity/Q665083</td>\n",
       "      <td>digging to china</td>\n",
       "      <td>1997-01-01T00:00:00Z</td>\n",
       "      <td>1997-01-01 00:00:00+00:00</td>\n",
       "      <td>0</td>\n",
       "      <td>0</td>\n",
       "      <td>0</td>\n",
       "      <td>0</td>\n",
       "      <td>0</td>\n",
       "      <td>0</td>\n",
       "      <td>0</td>\n",
       "      <td>0</td>\n",
       "      <td>0</td>\n",
       "      <td>0</td>\n",
       "      <td>0</td>\n",
       "      <td>0</td>\n",
       "      <td>1</td>\n",
       "    </tr>\n",
       "    <tr>\n",
       "      <th>41466</th>\n",
       "      <td>http://www.wikidata.org/entity/Q29017759</td>\n",
       "      <td>far from china</td>\n",
       "      <td>2001-01-01T00:00:00Z</td>\n",
       "      <td>2001-01-01 00:00:00+00:00</td>\n",
       "      <td>0</td>\n",
       "      <td>0</td>\n",
       "      <td>0</td>\n",
       "      <td>0</td>\n",
       "      <td>0</td>\n",
       "      <td>0</td>\n",
       "      <td>0</td>\n",
       "      <td>0</td>\n",
       "      <td>0</td>\n",
       "      <td>0</td>\n",
       "      <td>0</td>\n",
       "      <td>0</td>\n",
       "      <td>1</td>\n",
       "    </tr>\n",
       "    <tr>\n",
       "      <th>43512</th>\n",
       "      <td>http://www.wikidata.org/entity/Q3597945</td>\n",
       "      <td>1 night in china</td>\n",
       "      <td>2004-01-01T00:00:00Z</td>\n",
       "      <td>2004-01-01 00:00:00+00:00</td>\n",
       "      <td>0</td>\n",
       "      <td>0</td>\n",
       "      <td>0</td>\n",
       "      <td>0</td>\n",
       "      <td>0</td>\n",
       "      <td>0</td>\n",
       "      <td>0</td>\n",
       "      <td>0</td>\n",
       "      <td>0</td>\n",
       "      <td>0</td>\n",
       "      <td>0</td>\n",
       "      <td>0</td>\n",
       "      <td>1</td>\n",
       "    </tr>\n",
       "    <tr>\n",
       "      <th>46828</th>\n",
       "      <td>http://www.wikidata.org/entity/Q2412692</td>\n",
       "      <td>the man who shot chinatown</td>\n",
       "      <td>2007-01-01T00:00:00Z</td>\n",
       "      <td>2007-01-01 00:00:00+00:00</td>\n",
       "      <td>0</td>\n",
       "      <td>0</td>\n",
       "      <td>0</td>\n",
       "      <td>0</td>\n",
       "      <td>0</td>\n",
       "      <td>0</td>\n",
       "      <td>0</td>\n",
       "      <td>0</td>\n",
       "      <td>0</td>\n",
       "      <td>0</td>\n",
       "      <td>0</td>\n",
       "      <td>0</td>\n",
       "      <td>1</td>\n",
       "    </tr>\n",
       "    <tr>\n",
       "      <th>49987</th>\n",
       "      <td>http://www.wikidata.org/entity/Q6726718</td>\n",
       "      <td>made in china</td>\n",
       "      <td>2009-01-01T00:00:00Z</td>\n",
       "      <td>2009-01-01 00:00:00+00:00</td>\n",
       "      <td>0</td>\n",
       "      <td>0</td>\n",
       "      <td>0</td>\n",
       "      <td>0</td>\n",
       "      <td>0</td>\n",
       "      <td>0</td>\n",
       "      <td>0</td>\n",
       "      <td>0</td>\n",
       "      <td>0</td>\n",
       "      <td>0</td>\n",
       "      <td>0</td>\n",
       "      <td>0</td>\n",
       "      <td>1</td>\n",
       "    </tr>\n",
       "    <tr>\n",
       "      <th>52326</th>\n",
       "      <td>http://www.wikidata.org/entity/Q4968370</td>\n",
       "      <td>bringing king to china</td>\n",
       "      <td>2011-01-01T00:00:00Z</td>\n",
       "      <td>2011-01-01 00:00:00+00:00</td>\n",
       "      <td>0</td>\n",
       "      <td>0</td>\n",
       "      <td>0</td>\n",
       "      <td>0</td>\n",
       "      <td>0</td>\n",
       "      <td>0</td>\n",
       "      <td>0</td>\n",
       "      <td>0</td>\n",
       "      <td>0</td>\n",
       "      <td>0</td>\n",
       "      <td>0</td>\n",
       "      <td>0</td>\n",
       "      <td>1</td>\n",
       "    </tr>\n",
       "    <tr>\n",
       "      <th>54957</th>\n",
       "      <td>http://www.wikidata.org/entity/Q16259460</td>\n",
       "      <td>the men who lost china</td>\n",
       "      <td>2013-01-01T00:00:00Z</td>\n",
       "      <td>2013-01-01 00:00:00+00:00</td>\n",
       "      <td>0</td>\n",
       "      <td>0</td>\n",
       "      <td>0</td>\n",
       "      <td>0</td>\n",
       "      <td>0</td>\n",
       "      <td>0</td>\n",
       "      <td>0</td>\n",
       "      <td>0</td>\n",
       "      <td>0</td>\n",
       "      <td>0</td>\n",
       "      <td>0</td>\n",
       "      <td>0</td>\n",
       "      <td>1</td>\n",
       "    </tr>\n",
       "    <tr>\n",
       "      <th>57523</th>\n",
       "      <td>http://www.wikidata.org/entity/Q16635326</td>\n",
       "      <td>ex machina</td>\n",
       "      <td>2014-12-16T00:00:00Z</td>\n",
       "      <td>2014-12-16 00:00:00+00:00</td>\n",
       "      <td>0</td>\n",
       "      <td>0</td>\n",
       "      <td>0</td>\n",
       "      <td>0</td>\n",
       "      <td>0</td>\n",
       "      <td>0</td>\n",
       "      <td>0</td>\n",
       "      <td>0</td>\n",
       "      <td>0</td>\n",
       "      <td>0</td>\n",
       "      <td>0</td>\n",
       "      <td>0</td>\n",
       "      <td>1</td>\n",
       "    </tr>\n",
       "    <tr>\n",
       "      <th>59541</th>\n",
       "      <td>http://www.wikidata.org/entity/Q42303198</td>\n",
       "      <td>sex machina: a xxx parody</td>\n",
       "      <td>2016-01-01T00:00:00Z</td>\n",
       "      <td>2016-01-01 00:00:00+00:00</td>\n",
       "      <td>0</td>\n",
       "      <td>0</td>\n",
       "      <td>0</td>\n",
       "      <td>0</td>\n",
       "      <td>0</td>\n",
       "      <td>0</td>\n",
       "      <td>0</td>\n",
       "      <td>0</td>\n",
       "      <td>0</td>\n",
       "      <td>0</td>\n",
       "      <td>0</td>\n",
       "      <td>0</td>\n",
       "      <td>1</td>\n",
       "    </tr>\n",
       "    <tr>\n",
       "      <th>59629</th>\n",
       "      <td>http://www.wikidata.org/entity/Q58456862</td>\n",
       "      <td>kalybos in china</td>\n",
       "      <td>2016-01-01T00:00:00Z</td>\n",
       "      <td>2016-01-01 00:00:00+00:00</td>\n",
       "      <td>0</td>\n",
       "      <td>0</td>\n",
       "      <td>0</td>\n",
       "      <td>0</td>\n",
       "      <td>0</td>\n",
       "      <td>0</td>\n",
       "      <td>0</td>\n",
       "      <td>0</td>\n",
       "      <td>0</td>\n",
       "      <td>0</td>\n",
       "      <td>0</td>\n",
       "      <td>0</td>\n",
       "      <td>1</td>\n",
       "    </tr>\n",
       "    <tr>\n",
       "      <th>60528</th>\n",
       "      <td>http://www.wikidata.org/entity/Q27965092</td>\n",
       "      <td>viy 2: journey to china</td>\n",
       "      <td>2017-01-01T00:00:00Z</td>\n",
       "      <td>2017-01-01 00:00:00+00:00</td>\n",
       "      <td>0</td>\n",
       "      <td>0</td>\n",
       "      <td>0</td>\n",
       "      <td>0</td>\n",
       "      <td>0</td>\n",
       "      <td>0</td>\n",
       "      <td>0</td>\n",
       "      <td>0</td>\n",
       "      <td>0</td>\n",
       "      <td>0</td>\n",
       "      <td>0</td>\n",
       "      <td>0</td>\n",
       "      <td>1</td>\n",
       "    </tr>\n",
       "    <tr>\n",
       "      <th>60907</th>\n",
       "      <td>http://www.wikidata.org/entity/Q52193118</td>\n",
       "      <td>the china hustle</td>\n",
       "      <td>2017-01-01T00:00:00Z</td>\n",
       "      <td>2017-01-01 00:00:00+00:00</td>\n",
       "      <td>0</td>\n",
       "      <td>0</td>\n",
       "      <td>0</td>\n",
       "      <td>0</td>\n",
       "      <td>0</td>\n",
       "      <td>0</td>\n",
       "      <td>0</td>\n",
       "      <td>0</td>\n",
       "      <td>0</td>\n",
       "      <td>0</td>\n",
       "      <td>0</td>\n",
       "      <td>0</td>\n",
       "      <td>1</td>\n",
       "    </tr>\n",
       "    <tr>\n",
       "      <th>61078</th>\n",
       "      <td>http://www.wikidata.org/entity/Q96755593</td>\n",
       "      <td>medical genocide: hidden mass murder in china'...</td>\n",
       "      <td>2017-01-01T00:00:00Z</td>\n",
       "      <td>2017-01-01 00:00:00+00:00</td>\n",
       "      <td>0</td>\n",
       "      <td>0</td>\n",
       "      <td>0</td>\n",
       "      <td>0</td>\n",
       "      <td>0</td>\n",
       "      <td>0</td>\n",
       "      <td>0</td>\n",
       "      <td>1</td>\n",
       "      <td>0</td>\n",
       "      <td>0</td>\n",
       "      <td>0</td>\n",
       "      <td>0</td>\n",
       "      <td>1</td>\n",
       "    </tr>\n",
       "  </tbody>\n",
       "</table>\n",
       "</div>"
      ],
      "text/plain": [
       "                                           item  \\\n",
       "801    http://www.wikidata.org/entity/Q19363570   \n",
       "5650    http://www.wikidata.org/entity/Q4660345   \n",
       "7889    http://www.wikidata.org/entity/Q7775527   \n",
       "8648   http://www.wikidata.org/entity/Q28961096   \n",
       "10722   http://www.wikidata.org/entity/Q5037095   \n",
       "10815   http://www.wikidata.org/entity/Q7081402   \n",
       "11644  http://www.wikidata.org/entity/Q10370909   \n",
       "11852  http://www.wikidata.org/entity/Q52715809   \n",
       "13647  http://www.wikidata.org/entity/Q10332948   \n",
       "13724  http://www.wikidata.org/entity/Q19787274   \n",
       "13815  http://www.wikidata.org/entity/Q17026632   \n",
       "14126   http://www.wikidata.org/entity/Q7180611   \n",
       "16364   http://www.wikidata.org/entity/Q7715853   \n",
       "17232   http://www.wikidata.org/entity/Q7460790   \n",
       "19291  http://www.wikidata.org/entity/Q19867522   \n",
       "20283  http://www.wikidata.org/entity/Q23755458   \n",
       "21057   http://www.wikidata.org/entity/Q7832164   \n",
       "22571   http://www.wikidata.org/entity/Q5557295   \n",
       "23643   http://www.wikidata.org/entity/Q7142850   \n",
       "28244   http://www.wikidata.org/entity/Q7755487   \n",
       "29360    http://www.wikidata.org/entity/Q647599   \n",
       "29793   http://www.wikidata.org/entity/Q3020215   \n",
       "30702   http://www.wikidata.org/entity/Q8031918   \n",
       "30997   http://www.wikidata.org/entity/Q1478341   \n",
       "31971    http://www.wikidata.org/entity/Q859494   \n",
       "32327  http://www.wikidata.org/entity/Q52715654   \n",
       "38050    http://www.wikidata.org/entity/Q665083   \n",
       "41466  http://www.wikidata.org/entity/Q29017759   \n",
       "43512   http://www.wikidata.org/entity/Q3597945   \n",
       "46828   http://www.wikidata.org/entity/Q2412692   \n",
       "49987   http://www.wikidata.org/entity/Q6726718   \n",
       "52326   http://www.wikidata.org/entity/Q4968370   \n",
       "54957  http://www.wikidata.org/entity/Q16259460   \n",
       "57523  http://www.wikidata.org/entity/Q16635326   \n",
       "59541  http://www.wikidata.org/entity/Q42303198   \n",
       "59629  http://www.wikidata.org/entity/Q58456862   \n",
       "60528  http://www.wikidata.org/entity/Q27965092   \n",
       "60907  http://www.wikidata.org/entity/Q52193118   \n",
       "61078  http://www.wikidata.org/entity/Q96755593   \n",
       "\n",
       "                                                   title  \\\n",
       "801                                the chinatown mystery   \n",
       "5650                                 a trip to chinatown   \n",
       "7889                                the woman from china   \n",
       "8648                                  chin chin chinaman   \n",
       "10722                              captured in chinatown   \n",
       "10815                         oil for the lamps of china   \n",
       "11644                                shadow of chinatown   \n",
       "11852                                  i cover chinatown   \n",
       "13647                              mr. wong in chinatown   \n",
       "13724                                  king of chinatown   \n",
       "13815                          torchy blane in chinatown   \n",
       "14126                               phantom of chinatown   \n",
       "16364                                the battle of china   \n",
       "17232                             shadows over chinatown   \n",
       "19291                                      captain china   \n",
       "20283                               a yank in indo-china   \n",
       "21057                       trader tom of the china seas   \n",
       "22571                             ghost of the china sea   \n",
       "23643                                  passport to china   \n",
       "28244          the other half of the sky: a china memoir   \n",
       "29360                                 the china syndrome   \n",
       "29793           from mao to mozart: isaac stern in china   \n",
       "30702                                   wonders of china   \n",
       "30997                                 high road to china   \n",
       "31971                        big trouble in little china   \n",
       "32327                      wham! in china: foreign skies   \n",
       "38050                                   digging to china   \n",
       "41466                                     far from china   \n",
       "43512                                   1 night in china   \n",
       "46828                         the man who shot chinatown   \n",
       "49987                                      made in china   \n",
       "52326                             bringing king to china   \n",
       "54957                             the men who lost china   \n",
       "57523                                         ex machina   \n",
       "59541                          sex machina: a xxx parody   \n",
       "59629                                   kalybos in china   \n",
       "60528                            viy 2: journey to china   \n",
       "60907                                   the china hustle   \n",
       "61078  medical genocide: hidden mass murder in china'...   \n",
       "\n",
       "                  published                      time  bad  good  hate  \\\n",
       "801    1915-01-01T00:00:00Z 1915-01-01 00:00:00+00:00    0     0     0   \n",
       "5650   1926-01-01T00:00:00Z 1926-01-01 00:00:00+00:00    0     0     0   \n",
       "7889   1930-01-01T00:00:00Z 1930-01-01 00:00:00+00:00    0     0     0   \n",
       "8648   1931-11-01T00:00:00Z 1931-11-01 00:00:00+00:00    0     0     0   \n",
       "10722  1935-01-01T00:00:00Z 1935-01-01 00:00:00+00:00    0     0     0   \n",
       "10815  1935-01-01T00:00:00Z 1935-01-01 00:00:00+00:00    0     0     0   \n",
       "11644  1936-01-01T00:00:00Z 1936-01-01 00:00:00+00:00    0     0     0   \n",
       "11852  1936-01-01T00:00:00Z 1936-01-01 00:00:00+00:00    0     0     0   \n",
       "13647  1939-01-01T00:00:00Z 1939-01-01 00:00:00+00:00    0     0     0   \n",
       "13724  1939-01-01T00:00:00Z 1939-01-01 00:00:00+00:00    0     0     0   \n",
       "13815  1939-02-02T00:00:00Z 1939-02-02 00:00:00+00:00    0     0     0   \n",
       "14126  1940-01-01T00:00:00Z 1940-01-01 00:00:00+00:00    0     0     0   \n",
       "16364  1944-01-01T00:00:00Z 1944-01-01 00:00:00+00:00    0     0     0   \n",
       "17232  1946-01-01T00:00:00Z 1946-01-01 00:00:00+00:00    0     0     0   \n",
       "19291  1950-01-01T00:00:00Z 1950-01-01 00:00:00+00:00    0     0     0   \n",
       "20283  1952-04-03T00:00:00Z 1952-04-03 00:00:00+00:00    0     0     0   \n",
       "21057  1954-01-01T00:00:00Z 1954-01-01 00:00:00+00:00    0     0     0   \n",
       "22571  1958-01-01T00:00:00Z 1958-01-01 00:00:00+00:00    0     0     0   \n",
       "23643  1961-01-01T00:00:00Z 1961-01-01 00:00:00+00:00    0     0     0   \n",
       "28244  1975-01-01T00:00:00Z 1975-01-01 00:00:00+00:00    0     0     0   \n",
       "29360  1979-01-01T00:00:00Z 1979-01-01 00:00:00+00:00    0     0     0   \n",
       "29793  1980-01-01T00:00:00Z 1980-01-01 00:00:00+00:00    0     0     0   \n",
       "30702  1982-10-01T00:00:00Z 1982-10-01 00:00:00+00:00    0     0     0   \n",
       "30997  1983-06-24T00:00:00Z 1983-06-24 00:00:00+00:00    0     0     0   \n",
       "31971  1986-01-01T00:00:00Z 1986-01-01 00:00:00+00:00    0     0     0   \n",
       "32327  1986-01-01T00:00:00Z 1986-01-01 00:00:00+00:00    0     0     0   \n",
       "38050  1997-01-01T00:00:00Z 1997-01-01 00:00:00+00:00    0     0     0   \n",
       "41466  2001-01-01T00:00:00Z 2001-01-01 00:00:00+00:00    0     0     0   \n",
       "43512  2004-01-01T00:00:00Z 2004-01-01 00:00:00+00:00    0     0     0   \n",
       "46828  2007-01-01T00:00:00Z 2007-01-01 00:00:00+00:00    0     0     0   \n",
       "49987  2009-01-01T00:00:00Z 2009-01-01 00:00:00+00:00    0     0     0   \n",
       "52326  2011-01-01T00:00:00Z 2011-01-01 00:00:00+00:00    0     0     0   \n",
       "54957  2013-01-01T00:00:00Z 2013-01-01 00:00:00+00:00    0     0     0   \n",
       "57523  2014-12-16T00:00:00Z 2014-12-16 00:00:00+00:00    0     0     0   \n",
       "59541  2016-01-01T00:00:00Z 2016-01-01 00:00:00+00:00    0     0     0   \n",
       "59629  2016-01-01T00:00:00Z 2016-01-01 00:00:00+00:00    0     0     0   \n",
       "60528  2017-01-01T00:00:00Z 2017-01-01 00:00:00+00:00    0     0     0   \n",
       "60907  2017-01-01T00:00:00Z 2017-01-01 00:00:00+00:00    0     0     0   \n",
       "61078  2017-01-01T00:00:00Z 2017-01-01 00:00:00+00:00    0     0     0   \n",
       "\n",
       "       london  new york  love  yes  no  dog  cat  summer  winter  china  \n",
       "801         0         0     0    0   0    0    0       0       0      1  \n",
       "5650        0         0     0    0   0    0    0       0       0      1  \n",
       "7889        0         0     0    0   0    0    0       0       0      1  \n",
       "8648        0         0     0    0   0    0    0       0       0      1  \n",
       "10722       0         0     0    0   0    0    0       0       0      1  \n",
       "10815       0         0     0    0   0    0    0       0       0      1  \n",
       "11644       0         0     0    0   0    0    0       0       0      1  \n",
       "11852       0         0     0    0   0    0    0       0       0      1  \n",
       "13647       0         0     0    0   0    0    0       0       0      1  \n",
       "13724       0         0     0    0   0    0    0       0       0      1  \n",
       "13815       0         0     0    0   0    0    0       0       0      1  \n",
       "14126       0         0     0    0   0    0    0       0       0      1  \n",
       "16364       0         0     0    0   0    0    0       0       0      1  \n",
       "17232       0         0     0    0   0    0    0       0       0      1  \n",
       "19291       0         0     0    0   0    0    0       0       0      1  \n",
       "20283       0         0     0    0   0    0    0       0       0      1  \n",
       "21057       0         0     0    0   0    0    0       0       0      1  \n",
       "22571       0         0     0    0   0    0    0       0       0      1  \n",
       "23643       0         0     0    0   0    0    0       0       0      1  \n",
       "28244       0         0     0    0   0    0    0       0       0      1  \n",
       "29360       0         0     0    0   0    0    0       0       0      1  \n",
       "29793       0         0     0    0   0    0    0       0       0      1  \n",
       "30702       0         0     0    0   0    0    0       0       0      1  \n",
       "30997       0         0     0    0   0    0    0       0       0      1  \n",
       "31971       0         0     0    0   0    0    0       0       0      1  \n",
       "32327       0         0     0    0   0    0    0       0       0      1  \n",
       "38050       0         0     0    0   0    0    0       0       0      1  \n",
       "41466       0         0     0    0   0    0    0       0       0      1  \n",
       "43512       0         0     0    0   0    0    0       0       0      1  \n",
       "46828       0         0     0    0   0    0    0       0       0      1  \n",
       "49987       0         0     0    0   0    0    0       0       0      1  \n",
       "52326       0         0     0    0   0    0    0       0       0      1  \n",
       "54957       0         0     0    0   0    0    0       0       0      1  \n",
       "57523       0         0     0    0   0    0    0       0       0      1  \n",
       "59541       0         0     0    0   0    0    0       0       0      1  \n",
       "59629       0         0     0    0   0    0    0       0       0      1  \n",
       "60528       0         0     0    0   0    0    0       0       0      1  \n",
       "60907       0         0     0    0   0    0    0       0       0      1  \n",
       "61078       0         0     0    0   1    0    0       0       0      1  "
      ]
     },
     "execution_count": 74,
     "metadata": {},
     "output_type": "execute_result"
    }
   ],
   "source": [
    "df_word[df_word.china==1]"
   ]
  },
  {
   "cell_type": "code",
   "execution_count": 65,
   "metadata": {},
   "outputs": [
    {
     "data": {
      "text/plain": [
       "<matplotlib.axes._subplots.AxesSubplot at 0x11f03aa60>"
      ]
     },
     "execution_count": 65,
     "metadata": {},
     "output_type": "execute_result"
    },
    {
     "data": {
      "image/png": "[encoded data removed]",
      "text/plain": [
       "<Figure size 432x288 with 1 Axes>"
      ]
     },
     "metadata": {
      "needs_background": "light"
     },
     "output_type": "display_data"
    }
   ],
   "source": [
    "df_word.groupby(['time']).sum().plot()"
   ]
  },
  {
   "cell_type": "code",
   "execution_count": 86,
   "metadata": {},
   "outputs": [
    {
     "data": {
      "text/plain": [
       "<matplotlib.legend.Legend at 0x121720a30>"
      ]
     },
     "execution_count": 86,
     "metadata": {},
     "output_type": "execute_result"
    },
    {
     "data": {
      "image/png": "[encoded data removed]",
      "text/plain": [
       "<Figure size 432x288 with 1 Axes>"
      ]
     },
     "metadata": {
      "needs_background": "light"
     },
     "output_type": "display_data"
    }
   ],
   "source": [
    "plt.plot(df_word[df_word.old==1].groupby(['time'])['title'].count())\n",
    "plt.plot(df_word[df_word.new==1].groupby(['time'])['title'].count())\n",
    "plt.legend()"
   ]
  },
  {
   "cell_type": "code",
   "execution_count": null,
   "metadata": {},
   "outputs": [],
   "source": []
  }
 ],
 "metadata": {
  "kernelspec": {
   "display_name": "Python 3",
   "language": "python",
   "name": "python3"
  },
  "toc": {
   "base_numbering": 1,
   "nav_menu": {},
   "number_sections": true,
   "sideBar": true,
   "skip_h1_title": false,
   "title_cell": "Table of Contents",
   "title_sidebar": "Contents",
   "toc_cell": false,
   "toc_position": {},
   "toc_section_display": true,
   "toc_window_display": false
  },
  "varInspector": {
   "cols": {
    "lenName": 16,
    "lenType": 16,
    "lenVar": 40
   },
   "kernels_config": {
    "python": {
     "delete_cmd_postfix": "",
     "delete_cmd_prefix": "del ",
     "library": "var_list.py",
     "varRefreshCmd": "print(var_dic_list())"
    },
    "r": {
     "delete_cmd_postfix": ") ",
     "delete_cmd_prefix": "rm(",
     "library": "var_list.r",
     "varRefreshCmd": "cat(var_dic_list()) "
    }
   },
   "types_to_exclude": [
    "module",
    "function",
    "builtin_function_or_method",
    "instance",
    "_Feature"
   ],
   "window_display": false
  }
 },
 "nbformat": 4,
 "nbformat_minor": 4
}
