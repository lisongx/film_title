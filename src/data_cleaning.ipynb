{
 "cells": [
  {
   "cell_type": "code",
   "execution_count": 1,
   "metadata": {
    "ExecuteTime": {
     "end_time": "2020-07-01T01:09:51.134275Z",
     "start_time": "2020-07-01T01:09:50.381396Z"
    },
    "scrolled": true
   },
   "outputs": [
    {
     "data": {
      "application/javascript": [
       "IPython.notebook.set_autosave_interval(20000)"
      ]
     },
     "metadata": {},
     "output_type": "display_data"
    },
    {
     "name": "stdout",
     "output_type": "stream",
     "text": [
      "Autosaving every 20 seconds\n"
     ]
    }
   ],
   "source": [
    "import pandas as pd\n",
    "import json\n",
    "import csv\n",
    "\n",
    "# pd.set_option('display.max_rows', 10)\n",
    "# pd.set_option('display.max_columns', 10)\n",
    "\n",
    "%autosave 20"
   ]
  },
  {
   "cell_type": "markdown",
   "metadata": {},
   "source": [
    "## Load Title File"
   ]
  },
  {
   "cell_type": "code",
   "execution_count": 77,
   "metadata": {
    "ExecuteTime": {
     "end_time": "2020-07-01T01:45:53.206987Z",
     "start_time": "2020-07-01T01:45:52.981639Z"
    }
   },
   "outputs": [
    {
     "name": "stdout",
     "output_type": "stream",
     "text": [
      "films-2020-07-01.json\r\n"
     ]
    }
   ],
   "source": [
    "!ls ../data"
   ]
  },
  {
   "cell_type": "code",
   "execution_count": 3,
   "metadata": {
    "ExecuteTime": {
     "end_time": "2020-07-01T01:09:53.219438Z",
     "start_time": "2020-07-01T01:09:53.213241Z"
    }
   },
   "outputs": [],
   "source": [
    "data_path = '../data/films-2020-07-01.json'"
   ]
  },
  {
   "cell_type": "code",
   "execution_count": 4,
   "metadata": {
    "ExecuteTime": {
     "end_time": "2020-07-01T01:09:54.699739Z",
     "start_time": "2020-07-01T01:09:54.693388Z"
    }
   },
   "outputs": [],
   "source": [
    "# df = pd.read_json ('../data/films-2020-07-01.json')\n",
    "# print(df.shape)"
   ]
  },
  {
   "cell_type": "code",
   "execution_count": 5,
   "metadata": {
    "ExecuteTime": {
     "end_time": "2020-07-01T01:09:54.897976Z",
     "start_time": "2020-07-01T01:09:54.886977Z"
    }
   },
   "outputs": [],
   "source": [
    "# %time\n",
    "# import json\n",
    "# import pandas as pd\n",
    "# with open('../data/films-2020-07-01.json') as json_data:\n",
    "#    # https://stackoverflow.com/a/21266043/5861873\n",
    "#    data = json.load(json_data)\n",
    "#    df = pd.json_normalize(data)\n",
    "    \n",
    "# print(df.shape)"
   ]
  },
  {
   "cell_type": "code",
   "execution_count": 6,
   "metadata": {
    "ExecuteTime": {
     "end_time": "2020-07-01T01:09:56.820473Z",
     "start_time": "2020-07-01T01:09:56.815897Z"
    }
   },
   "outputs": [],
   "source": [
    "# df.head()"
   ]
  },
  {
   "cell_type": "code",
   "execution_count": 7,
   "metadata": {
    "ExecuteTime": {
     "end_time": "2020-07-01T01:09:59.081245Z",
     "start_time": "2020-07-01T01:09:58.065051Z"
    }
   },
   "outputs": [
    {
     "name": "stdout",
     "output_type": "stream",
     "text": [
      "CPU times: user 4 µs, sys: 1 µs, total: 5 µs\n",
      "Wall time: 10 µs\n",
      "(63807, 3)\n"
     ]
    }
   ],
   "source": [
    "%time\n",
    "import json\n",
    "import pandas as pd\n",
    "with open(data_path) as json_data:\n",
    "   # https://stackoverflow.com/a/41289913/5861873\n",
    "   data = json.load(json_data)\n",
    "   df = pd.DataFrame({'item': [x['item']['value'] for x in data], \\\n",
    "                      'title': [x['title']['value'] for x in data], \\\n",
    "                      'published': [x['published']['value'] for x in data]})\n",
    "\n",
    "print(df.shape)"
   ]
  },
  {
   "cell_type": "code",
   "execution_count": 8,
   "metadata": {
    "ExecuteTime": {
     "end_time": "2020-07-01T01:09:59.607449Z",
     "start_time": "2020-07-01T01:09:59.590548Z"
    }
   },
   "outputs": [
    {
     "data": {
      "text/plain": [
       "(63807, 3)"
      ]
     },
     "execution_count": 8,
     "metadata": {},
     "output_type": "execute_result"
    }
   ],
   "source": [
    "df.shape"
   ]
  },
  {
   "cell_type": "code",
   "execution_count": 9,
   "metadata": {
    "ExecuteTime": {
     "end_time": "2020-07-01T01:10:00.540368Z",
     "start_time": "2020-07-01T01:10:00.513905Z"
    }
   },
   "outputs": [
    {
     "data": {
      "text/html": [
       "<div>\n",
       "<style scoped>\n",
       "    .dataframe tbody tr th:only-of-type {\n",
       "        vertical-align: middle;\n",
       "    }\n",
       "\n",
       "    .dataframe tbody tr th {\n",
       "        vertical-align: top;\n",
       "    }\n",
       "\n",
       "    .dataframe thead th {\n",
       "        text-align: right;\n",
       "    }\n",
       "</style>\n",
       "<table border=\"1\" class=\"dataframe\">\n",
       "  <thead>\n",
       "    <tr style=\"text-align: right;\">\n",
       "      <th></th>\n",
       "      <th>item</th>\n",
       "      <th>title</th>\n",
       "      <th>published</th>\n",
       "    </tr>\n",
       "  </thead>\n",
       "  <tbody>\n",
       "    <tr>\n",
       "      <th>0</th>\n",
       "      <td>http://www.wikidata.org/entity/Q4069062</td>\n",
       "      <td>The Arrest of a Pickpocket</td>\n",
       "      <td>1895-01-01T00:00:00Z</td>\n",
       "    </tr>\n",
       "    <tr>\n",
       "      <th>1</th>\n",
       "      <td>http://www.wikidata.org/entity/Q7168279</td>\n",
       "      <td>Performing Animals; or, Skipping Dogs</td>\n",
       "      <td>1895-01-01T00:00:00Z</td>\n",
       "    </tr>\n",
       "    <tr>\n",
       "      <th>2</th>\n",
       "      <td>http://www.wikidata.org/entity/Q2819823</td>\n",
       "      <td>A Morning Alarm</td>\n",
       "      <td>1896-01-01T00:00:00Z</td>\n",
       "    </tr>\n",
       "    <tr>\n",
       "      <th>3</th>\n",
       "      <td>http://www.wikidata.org/entity/Q3326074</td>\n",
       "      <td>Mounted Police Charge</td>\n",
       "      <td>1896-01-01T00:00:00Z</td>\n",
       "    </tr>\n",
       "    <tr>\n",
       "      <th>4</th>\n",
       "      <td>http://www.wikidata.org/entity/Q3520164</td>\n",
       "      <td>The Burning Stable</td>\n",
       "      <td>1896-01-01T00:00:00Z</td>\n",
       "    </tr>\n",
       "  </tbody>\n",
       "</table>\n",
       "</div>"
      ],
      "text/plain": [
       "                                      item  \\\n",
       "0  http://www.wikidata.org/entity/Q4069062   \n",
       "1  http://www.wikidata.org/entity/Q7168279   \n",
       "2  http://www.wikidata.org/entity/Q2819823   \n",
       "3  http://www.wikidata.org/entity/Q3326074   \n",
       "4  http://www.wikidata.org/entity/Q3520164   \n",
       "\n",
       "                                   title             published  \n",
       "0             The Arrest of a Pickpocket  1895-01-01T00:00:00Z  \n",
       "1  Performing Animals; or, Skipping Dogs  1895-01-01T00:00:00Z  \n",
       "2                        A Morning Alarm  1896-01-01T00:00:00Z  \n",
       "3                  Mounted Police Charge  1896-01-01T00:00:00Z  \n",
       "4                     The Burning Stable  1896-01-01T00:00:00Z  "
      ]
     },
     "execution_count": 9,
     "metadata": {},
     "output_type": "execute_result"
    }
   ],
   "source": [
    "df.head()"
   ]
  },
  {
   "cell_type": "markdown",
   "metadata": {},
   "source": [
    "## Sanity Check"
   ]
  },
  {
   "cell_type": "markdown",
   "metadata": {
    "ExecuteTime": {
     "end_time": "2020-07-01T00:26:59.237218Z",
     "start_time": "2020-07-01T00:26:59.196454Z"
    }
   },
   "source": [
    "### null value"
   ]
  },
  {
   "cell_type": "code",
   "execution_count": 10,
   "metadata": {
    "ExecuteTime": {
     "end_time": "2020-07-01T01:10:02.981838Z",
     "start_time": "2020-07-01T01:10:02.776228Z"
    }
   },
   "outputs": [
    {
     "data": {
      "text/plain": [
       "item         0\n",
       "title        0\n",
       "published    0\n",
       "dtype: int64"
      ]
     },
     "execution_count": 10,
     "metadata": {},
     "output_type": "execute_result"
    }
   ],
   "source": [
    "df.isnull().sum()"
   ]
  },
  {
   "cell_type": "markdown",
   "metadata": {},
   "source": [
    "### duplicates"
   ]
  },
  {
   "cell_type": "code",
   "execution_count": 11,
   "metadata": {
    "ExecuteTime": {
     "end_time": "2020-07-01T01:10:03.873828Z",
     "start_time": "2020-07-01T01:10:03.725658Z"
    }
   },
   "outputs": [
    {
     "name": "stdout",
     "output_type": "stream",
     "text": [
      "63807\n",
      "\n",
      "\n",
      "item         63754\n",
      "title        58083\n",
      "published     7216\n",
      "dtype: int64\n"
     ]
    }
   ],
   "source": [
    "# there are duplicate items and titles\n",
    "print(df.shape[0])\n",
    "print('\\n')\n",
    "print(df.nunique())"
   ]
  },
  {
   "cell_type": "code",
   "execution_count": 12,
   "metadata": {
    "ExecuteTime": {
     "end_time": "2020-07-01T01:10:06.615424Z",
     "start_time": "2020-07-01T01:10:06.404310Z"
    },
    "scrolled": false
   },
   "outputs": [
    {
     "data": {
      "text/html": [
       "<div>\n",
       "<style scoped>\n",
       "    .dataframe tbody tr th:only-of-type {\n",
       "        vertical-align: middle;\n",
       "    }\n",
       "\n",
       "    .dataframe tbody tr th {\n",
       "        vertical-align: top;\n",
       "    }\n",
       "\n",
       "    .dataframe thead th {\n",
       "        text-align: right;\n",
       "    }\n",
       "</style>\n",
       "<table border=\"1\" class=\"dataframe\">\n",
       "  <thead>\n",
       "    <tr style=\"text-align: right;\">\n",
       "      <th></th>\n",
       "      <th>item</th>\n",
       "      <th>title</th>\n",
       "    </tr>\n",
       "  </thead>\n",
       "  <tbody>\n",
       "    <tr>\n",
       "      <th>0</th>\n",
       "      <td>http://www.wikidata.org/entity/Q6748375</td>\n",
       "      <td>3</td>\n",
       "    </tr>\n",
       "    <tr>\n",
       "      <th>1</th>\n",
       "      <td>http://www.wikidata.org/entity/Q20439354</td>\n",
       "      <td>3</td>\n",
       "    </tr>\n",
       "    <tr>\n",
       "      <th>2</th>\n",
       "      <td>http://www.wikidata.org/entity/Q501105</td>\n",
       "      <td>2</td>\n",
       "    </tr>\n",
       "    <tr>\n",
       "      <th>3</th>\n",
       "      <td>http://www.wikidata.org/entity/Q9358159</td>\n",
       "      <td>2</td>\n",
       "    </tr>\n",
       "    <tr>\n",
       "      <th>4</th>\n",
       "      <td>http://www.wikidata.org/entity/Q19365765</td>\n",
       "      <td>2</td>\n",
       "    </tr>\n",
       "    <tr>\n",
       "      <th>...</th>\n",
       "      <td>...</td>\n",
       "      <td>...</td>\n",
       "    </tr>\n",
       "    <tr>\n",
       "      <th>63749</th>\n",
       "      <td>http://www.wikidata.org/entity/Q54868306</td>\n",
       "      <td>1</td>\n",
       "    </tr>\n",
       "    <tr>\n",
       "      <th>63750</th>\n",
       "      <td>http://www.wikidata.org/entity/Q54868305</td>\n",
       "      <td>1</td>\n",
       "    </tr>\n",
       "    <tr>\n",
       "      <th>63751</th>\n",
       "      <td>http://www.wikidata.org/entity/Q54868300</td>\n",
       "      <td>1</td>\n",
       "    </tr>\n",
       "    <tr>\n",
       "      <th>63752</th>\n",
       "      <td>http://www.wikidata.org/entity/Q54868299</td>\n",
       "      <td>1</td>\n",
       "    </tr>\n",
       "    <tr>\n",
       "      <th>63753</th>\n",
       "      <td>http://www.wikidata.org/entity/Q1000094</td>\n",
       "      <td>1</td>\n",
       "    </tr>\n",
       "  </tbody>\n",
       "</table>\n",
       "<p>63754 rows × 2 columns</p>\n",
       "</div>"
      ],
      "text/plain": [
       "                                           item  title\n",
       "0       http://www.wikidata.org/entity/Q6748375      3\n",
       "1      http://www.wikidata.org/entity/Q20439354      3\n",
       "2        http://www.wikidata.org/entity/Q501105      2\n",
       "3       http://www.wikidata.org/entity/Q9358159      2\n",
       "4      http://www.wikidata.org/entity/Q19365765      2\n",
       "...                                         ...    ...\n",
       "63749  http://www.wikidata.org/entity/Q54868306      1\n",
       "63750  http://www.wikidata.org/entity/Q54868305      1\n",
       "63751  http://www.wikidata.org/entity/Q54868300      1\n",
       "63752  http://www.wikidata.org/entity/Q54868299      1\n",
       "63753   http://www.wikidata.org/entity/Q1000094      1\n",
       "\n",
       "[63754 rows x 2 columns]"
      ]
     },
     "execution_count": 12,
     "metadata": {},
     "output_type": "execute_result"
    }
   ],
   "source": [
    "df.groupby(['item'])['title'].count().sort_values(ascending=False).reset_index()"
   ]
  },
  {
   "cell_type": "markdown",
   "metadata": {},
   "source": [
    "#### same film can have different names (a.k.a)"
   ]
  },
  {
   "cell_type": "code",
   "execution_count": 39,
   "metadata": {
    "ExecuteTime": {
     "end_time": "2020-07-01T01:16:28.035528Z",
     "start_time": "2020-07-01T01:16:28.008775Z"
    }
   },
   "outputs": [
    {
     "data": {
      "text/html": [
       "<div>\n",
       "<style scoped>\n",
       "    .dataframe tbody tr th:only-of-type {\n",
       "        vertical-align: middle;\n",
       "    }\n",
       "\n",
       "    .dataframe tbody tr th {\n",
       "        vertical-align: top;\n",
       "    }\n",
       "\n",
       "    .dataframe thead th {\n",
       "        text-align: right;\n",
       "    }\n",
       "</style>\n",
       "<table border=\"1\" class=\"dataframe\">\n",
       "  <thead>\n",
       "    <tr style=\"text-align: right;\">\n",
       "      <th></th>\n",
       "      <th>item</th>\n",
       "      <th>title</th>\n",
       "      <th>published</th>\n",
       "    </tr>\n",
       "  </thead>\n",
       "  <tbody>\n",
       "    <tr>\n",
       "      <th>25415</th>\n",
       "      <td>http://www.wikidata.org/entity/Q6748375</td>\n",
       "      <td>island of the doomed</td>\n",
       "      <td>1967-01-01T00:00:00Z</td>\n",
       "    </tr>\n",
       "    <tr>\n",
       "      <th>25416</th>\n",
       "      <td>http://www.wikidata.org/entity/Q6748375</td>\n",
       "      <td>maneater of hydra</td>\n",
       "      <td>1967-01-01T00:00:00Z</td>\n",
       "    </tr>\n",
       "    <tr>\n",
       "      <th>25417</th>\n",
       "      <td>http://www.wikidata.org/entity/Q6748375</td>\n",
       "      <td>the blood suckers</td>\n",
       "      <td>1967-01-01T00:00:00Z</td>\n",
       "    </tr>\n",
       "  </tbody>\n",
       "</table>\n",
       "</div>"
      ],
      "text/plain": [
       "                                          item                 title  \\\n",
       "25415  http://www.wikidata.org/entity/Q6748375  island of the doomed   \n",
       "25416  http://www.wikidata.org/entity/Q6748375     maneater of hydra   \n",
       "25417  http://www.wikidata.org/entity/Q6748375     the blood suckers   \n",
       "\n",
       "                  published  \n",
       "25415  1967-01-01T00:00:00Z  \n",
       "25416  1967-01-01T00:00:00Z  \n",
       "25417  1967-01-01T00:00:00Z  "
      ]
     },
     "execution_count": 39,
     "metadata": {},
     "output_type": "execute_result"
    }
   ],
   "source": [
    "df[df.item=='http://www.wikidata.org/entity/Q6748375']"
   ]
  },
  {
   "cell_type": "code",
   "execution_count": 15,
   "metadata": {
    "ExecuteTime": {
     "end_time": "2020-07-01T01:10:20.875461Z",
     "start_time": "2020-07-01T01:10:20.844842Z"
    },
    "scrolled": true
   },
   "outputs": [
    {
     "data": {
      "text/html": [
       "<div>\n",
       "<style scoped>\n",
       "    .dataframe tbody tr th:only-of-type {\n",
       "        vertical-align: middle;\n",
       "    }\n",
       "\n",
       "    .dataframe tbody tr th {\n",
       "        vertical-align: top;\n",
       "    }\n",
       "\n",
       "    .dataframe thead th {\n",
       "        text-align: right;\n",
       "    }\n",
       "</style>\n",
       "<table border=\"1\" class=\"dataframe\">\n",
       "  <thead>\n",
       "    <tr style=\"text-align: right;\">\n",
       "      <th></th>\n",
       "      <th>item</th>\n",
       "      <th>title</th>\n",
       "      <th>published</th>\n",
       "    </tr>\n",
       "  </thead>\n",
       "  <tbody>\n",
       "    <tr>\n",
       "      <th>26193</th>\n",
       "      <td>http://www.wikidata.org/entity/Q20439354</td>\n",
       "      <td>cry chicago</td>\n",
       "      <td>1969-09-22T00:00:00Z</td>\n",
       "    </tr>\n",
       "    <tr>\n",
       "      <th>26194</th>\n",
       "      <td>http://www.wikidata.org/entity/Q20439354</td>\n",
       "      <td>the mafia mob</td>\n",
       "      <td>1969-09-22T00:00:00Z</td>\n",
       "    </tr>\n",
       "    <tr>\n",
       "      <th>26195</th>\n",
       "      <td>http://www.wikidata.org/entity/Q20439354</td>\n",
       "      <td>the true story of frank mannata</td>\n",
       "      <td>1969-09-22T00:00:00Z</td>\n",
       "    </tr>\n",
       "  </tbody>\n",
       "</table>\n",
       "</div>"
      ],
      "text/plain": [
       "                                           item  \\\n",
       "26193  http://www.wikidata.org/entity/Q20439354   \n",
       "26194  http://www.wikidata.org/entity/Q20439354   \n",
       "26195  http://www.wikidata.org/entity/Q20439354   \n",
       "\n",
       "                                 title             published  \n",
       "26193                      cry chicago  1969-09-22T00:00:00Z  \n",
       "26194                    the mafia mob  1969-09-22T00:00:00Z  \n",
       "26195  the true story of frank mannata  1969-09-22T00:00:00Z  "
      ]
     },
     "execution_count": 15,
     "metadata": {},
     "output_type": "execute_result"
    }
   ],
   "source": [
    "df[df.item=='http://www.wikidata.org/entity/Q20439354']"
   ]
  },
  {
   "cell_type": "code",
   "execution_count": 70,
   "metadata": {
    "ExecuteTime": {
     "end_time": "2020-07-01T01:33:41.659683Z",
     "start_time": "2020-07-01T01:33:41.408483Z"
    }
   },
   "outputs": [],
   "source": [
    "item_count = df.groupby(['item'])['title'].count().sort_values(ascending=False).reset_index()"
   ]
  },
  {
   "cell_type": "code",
   "execution_count": 76,
   "metadata": {
    "ExecuteTime": {
     "end_time": "2020-07-01T01:35:15.706313Z",
     "start_time": "2020-07-01T01:35:15.696283Z"
    }
   },
   "outputs": [
    {
     "name": "stdout",
     "output_type": "stream",
     "text": [
      "51 film have duplicate titles\n"
     ]
    }
   ],
   "source": [
    "print('{} film have duplicate titles'.format(item_count[item_count.title>1].shape[0]))"
   ]
  },
  {
   "cell_type": "code",
   "execution_count": null,
   "metadata": {},
   "outputs": [],
   "source": []
  },
  {
   "cell_type": "code",
   "execution_count": 14,
   "metadata": {
    "ExecuteTime": {
     "end_time": "2020-07-01T01:10:09.075026Z",
     "start_time": "2020-07-01T01:10:08.996709Z"
    }
   },
   "outputs": [],
   "source": [
    "# set all title values as lower cases\n",
    "df['title'] = df['title'].str.lower()"
   ]
  },
  {
   "cell_type": "code",
   "execution_count": 58,
   "metadata": {
    "ExecuteTime": {
     "end_time": "2020-07-01T00:34:11.717378Z",
     "start_time": "2020-07-01T00:34:11.698445Z"
    }
   },
   "outputs": [
    {
     "data": {
      "text/html": [
       "<div>\n",
       "<style scoped>\n",
       "    .dataframe tbody tr th:only-of-type {\n",
       "        vertical-align: middle;\n",
       "    }\n",
       "\n",
       "    .dataframe tbody tr th {\n",
       "        vertical-align: top;\n",
       "    }\n",
       "\n",
       "    .dataframe thead th {\n",
       "        text-align: right;\n",
       "    }\n",
       "</style>\n",
       "<table border=\"1\" class=\"dataframe\">\n",
       "  <thead>\n",
       "    <tr style=\"text-align: right;\">\n",
       "      <th></th>\n",
       "      <th>item</th>\n",
       "      <th>title</th>\n",
       "      <th>published</th>\n",
       "    </tr>\n",
       "  </thead>\n",
       "  <tbody>\n",
       "    <tr>\n",
       "      <th>0</th>\n",
       "      <td>http://www.wikidata.org/entity/Q4069062</td>\n",
       "      <td>the arrest of a pickpocket</td>\n",
       "      <td>1895-01-01T00:00:00Z</td>\n",
       "    </tr>\n",
       "    <tr>\n",
       "      <th>1</th>\n",
       "      <td>http://www.wikidata.org/entity/Q7168279</td>\n",
       "      <td>performing animals; or, skipping dogs</td>\n",
       "      <td>1895-01-01T00:00:00Z</td>\n",
       "    </tr>\n",
       "    <tr>\n",
       "      <th>2</th>\n",
       "      <td>http://www.wikidata.org/entity/Q2819823</td>\n",
       "      <td>a morning alarm</td>\n",
       "      <td>1896-01-01T00:00:00Z</td>\n",
       "    </tr>\n",
       "    <tr>\n",
       "      <th>3</th>\n",
       "      <td>http://www.wikidata.org/entity/Q3326074</td>\n",
       "      <td>mounted police charge</td>\n",
       "      <td>1896-01-01T00:00:00Z</td>\n",
       "    </tr>\n",
       "    <tr>\n",
       "      <th>4</th>\n",
       "      <td>http://www.wikidata.org/entity/Q3520164</td>\n",
       "      <td>the burning stable</td>\n",
       "      <td>1896-01-01T00:00:00Z</td>\n",
       "    </tr>\n",
       "  </tbody>\n",
       "</table>\n",
       "</div>"
      ],
      "text/plain": [
       "                                      item  \\\n",
       "0  http://www.wikidata.org/entity/Q4069062   \n",
       "1  http://www.wikidata.org/entity/Q7168279   \n",
       "2  http://www.wikidata.org/entity/Q2819823   \n",
       "3  http://www.wikidata.org/entity/Q3326074   \n",
       "4  http://www.wikidata.org/entity/Q3520164   \n",
       "\n",
       "                                   title             published  \n",
       "0             the arrest of a pickpocket  1895-01-01T00:00:00Z  \n",
       "1  performing animals; or, skipping dogs  1895-01-01T00:00:00Z  \n",
       "2                        a morning alarm  1896-01-01T00:00:00Z  \n",
       "3                  mounted police charge  1896-01-01T00:00:00Z  \n",
       "4                     the burning stable  1896-01-01T00:00:00Z  "
      ]
     },
     "execution_count": 58,
     "metadata": {},
     "output_type": "execute_result"
    }
   ],
   "source": [
    "df.head()"
   ]
  },
  {
   "cell_type": "code",
   "execution_count": 41,
   "metadata": {
    "ExecuteTime": {
     "end_time": "2020-07-01T01:17:10.265492Z",
     "start_time": "2020-07-01T01:17:10.101617Z"
    }
   },
   "outputs": [
    {
     "data": {
      "text/html": [
       "<div>\n",
       "<style scoped>\n",
       "    .dataframe tbody tr th:only-of-type {\n",
       "        vertical-align: middle;\n",
       "    }\n",
       "\n",
       "    .dataframe tbody tr th {\n",
       "        vertical-align: top;\n",
       "    }\n",
       "\n",
       "    .dataframe thead th {\n",
       "        text-align: right;\n",
       "    }\n",
       "</style>\n",
       "<table border=\"1\" class=\"dataframe\">\n",
       "  <thead>\n",
       "    <tr style=\"text-align: right;\">\n",
       "      <th></th>\n",
       "      <th>title</th>\n",
       "      <th>item</th>\n",
       "    </tr>\n",
       "  </thead>\n",
       "  <tbody>\n",
       "    <tr>\n",
       "      <th>0</th>\n",
       "      <td>the outsider</td>\n",
       "      <td>10</td>\n",
       "    </tr>\n",
       "    <tr>\n",
       "      <th>1</th>\n",
       "      <td>treasure island</td>\n",
       "      <td>10</td>\n",
       "    </tr>\n",
       "    <tr>\n",
       "      <th>2</th>\n",
       "      <td>the three musketeers</td>\n",
       "      <td>10</td>\n",
       "    </tr>\n",
       "    <tr>\n",
       "      <th>3</th>\n",
       "      <td>life</td>\n",
       "      <td>9</td>\n",
       "    </tr>\n",
       "    <tr>\n",
       "      <th>4</th>\n",
       "      <td>exposed</td>\n",
       "      <td>8</td>\n",
       "    </tr>\n",
       "    <tr>\n",
       "      <th>...</th>\n",
       "      <td>...</td>\n",
       "      <td>...</td>\n",
       "    </tr>\n",
       "    <tr>\n",
       "      <th>58035</th>\n",
       "      <td>splatter university</td>\n",
       "      <td>1</td>\n",
       "    </tr>\n",
       "    <tr>\n",
       "      <th>58036</th>\n",
       "      <td>splatter farm</td>\n",
       "      <td>1</td>\n",
       "    </tr>\n",
       "    <tr>\n",
       "      <th>58037</th>\n",
       "      <td>splatter beach</td>\n",
       "      <td>1</td>\n",
       "    </tr>\n",
       "    <tr>\n",
       "      <th>58038</th>\n",
       "      <td>splash</td>\n",
       "      <td>1</td>\n",
       "    </tr>\n",
       "    <tr>\n",
       "      <th>58039</th>\n",
       "      <td>!women art revolution</td>\n",
       "      <td>1</td>\n",
       "    </tr>\n",
       "  </tbody>\n",
       "</table>\n",
       "<p>58040 rows × 2 columns</p>\n",
       "</div>"
      ],
      "text/plain": [
       "                       title  item\n",
       "0               the outsider    10\n",
       "1            treasure island    10\n",
       "2       the three musketeers    10\n",
       "3                       life     9\n",
       "4                    exposed     8\n",
       "...                      ...   ...\n",
       "58035    splatter university     1\n",
       "58036          splatter farm     1\n",
       "58037         splatter beach     1\n",
       "58038                 splash     1\n",
       "58039  !women art revolution     1\n",
       "\n",
       "[58040 rows x 2 columns]"
      ]
     },
     "execution_count": 41,
     "metadata": {},
     "output_type": "execute_result"
    }
   ],
   "source": [
    "df.groupby(['title'])['item'].count().sort_values(ascending=False).reset_index()"
   ]
  },
  {
   "cell_type": "markdown",
   "metadata": {},
   "source": [
    "#### different films can have the same name"
   ]
  },
  {
   "cell_type": "code",
   "execution_count": 18,
   "metadata": {
    "ExecuteTime": {
     "end_time": "2020-07-01T01:12:18.749382Z",
     "start_time": "2020-07-01T01:12:18.696010Z"
    }
   },
   "outputs": [
    {
     "data": {
      "text/html": [
       "<div>\n",
       "<style scoped>\n",
       "    .dataframe tbody tr th:only-of-type {\n",
       "        vertical-align: middle;\n",
       "    }\n",
       "\n",
       "    .dataframe tbody tr th {\n",
       "        vertical-align: top;\n",
       "    }\n",
       "\n",
       "    .dataframe thead th {\n",
       "        text-align: right;\n",
       "    }\n",
       "</style>\n",
       "<table border=\"1\" class=\"dataframe\">\n",
       "  <thead>\n",
       "    <tr style=\"text-align: right;\">\n",
       "      <th></th>\n",
       "      <th>item</th>\n",
       "      <th>title</th>\n",
       "      <th>published</th>\n",
       "    </tr>\n",
       "  </thead>\n",
       "  <tbody>\n",
       "    <tr>\n",
       "      <th>1698</th>\n",
       "      <td>http://www.wikidata.org/entity/Q56279378</td>\n",
       "      <td>the outsider</td>\n",
       "      <td>1917-01-01T00:00:00Z</td>\n",
       "    </tr>\n",
       "    <tr>\n",
       "      <th>5754</th>\n",
       "      <td>http://www.wikidata.org/entity/Q7755697</td>\n",
       "      <td>the outsider</td>\n",
       "      <td>1926-01-01T00:00:00Z</td>\n",
       "    </tr>\n",
       "    <tr>\n",
       "      <th>8397</th>\n",
       "      <td>http://www.wikidata.org/entity/Q7755698</td>\n",
       "      <td>the outsider</td>\n",
       "      <td>1931-01-01T00:00:00Z</td>\n",
       "    </tr>\n",
       "    <tr>\n",
       "      <th>13609</th>\n",
       "      <td>http://www.wikidata.org/entity/Q7755699</td>\n",
       "      <td>the outsider</td>\n",
       "      <td>1939-01-01T00:00:00Z</td>\n",
       "    </tr>\n",
       "    <tr>\n",
       "      <th>23674</th>\n",
       "      <td>http://www.wikidata.org/entity/Q7755700</td>\n",
       "      <td>the outsider</td>\n",
       "      <td>1961-01-01T00:00:00Z</td>\n",
       "    </tr>\n",
       "    <tr>\n",
       "      <th>29954</th>\n",
       "      <td>http://www.wikidata.org/entity/Q16931670</td>\n",
       "      <td>the outsider</td>\n",
       "      <td>1980-01-01T00:00:00Z</td>\n",
       "    </tr>\n",
       "    <tr>\n",
       "      <th>45040</th>\n",
       "      <td>http://www.wikidata.org/entity/Q56274148</td>\n",
       "      <td>the outsider</td>\n",
       "      <td>2005-01-01T00:00:00Z</td>\n",
       "    </tr>\n",
       "    <tr>\n",
       "      <th>57121</th>\n",
       "      <td>http://www.wikidata.org/entity/Q14948583</td>\n",
       "      <td>the outsider</td>\n",
       "      <td>2014-02-07T00:00:00Z</td>\n",
       "    </tr>\n",
       "    <tr>\n",
       "      <th>59335</th>\n",
       "      <td>http://www.wikidata.org/entity/Q25111228</td>\n",
       "      <td>the outsider</td>\n",
       "      <td>2016-01-01T00:00:00Z</td>\n",
       "    </tr>\n",
       "    <tr>\n",
       "      <th>62403</th>\n",
       "      <td>http://www.wikidata.org/entity/Q23767815</td>\n",
       "      <td>the outsider</td>\n",
       "      <td>2018-03-09T00:00:00Z</td>\n",
       "    </tr>\n",
       "  </tbody>\n",
       "</table>\n",
       "</div>"
      ],
      "text/plain": [
       "                                           item         title  \\\n",
       "1698   http://www.wikidata.org/entity/Q56279378  the outsider   \n",
       "5754    http://www.wikidata.org/entity/Q7755697  the outsider   \n",
       "8397    http://www.wikidata.org/entity/Q7755698  the outsider   \n",
       "13609   http://www.wikidata.org/entity/Q7755699  the outsider   \n",
       "23674   http://www.wikidata.org/entity/Q7755700  the outsider   \n",
       "29954  http://www.wikidata.org/entity/Q16931670  the outsider   \n",
       "45040  http://www.wikidata.org/entity/Q56274148  the outsider   \n",
       "57121  http://www.wikidata.org/entity/Q14948583  the outsider   \n",
       "59335  http://www.wikidata.org/entity/Q25111228  the outsider   \n",
       "62403  http://www.wikidata.org/entity/Q23767815  the outsider   \n",
       "\n",
       "                  published  \n",
       "1698   1917-01-01T00:00:00Z  \n",
       "5754   1926-01-01T00:00:00Z  \n",
       "8397   1931-01-01T00:00:00Z  \n",
       "13609  1939-01-01T00:00:00Z  \n",
       "23674  1961-01-01T00:00:00Z  \n",
       "29954  1980-01-01T00:00:00Z  \n",
       "45040  2005-01-01T00:00:00Z  \n",
       "57121  2014-02-07T00:00:00Z  \n",
       "59335  2016-01-01T00:00:00Z  \n",
       "62403  2018-03-09T00:00:00Z  "
      ]
     },
     "execution_count": 18,
     "metadata": {},
     "output_type": "execute_result"
    }
   ],
   "source": [
    "df[df.title=='the outsider'].sort_values(by=['published'])"
   ]
  },
  {
   "cell_type": "code",
   "execution_count": 87,
   "metadata": {
    "ExecuteTime": {
     "end_time": "2020-07-01T00:49:48.370116Z",
     "start_time": "2020-07-01T00:49:48.325090Z"
    }
   },
   "outputs": [
    {
     "data": {
      "text/html": [
       "<div>\n",
       "<style scoped>\n",
       "    .dataframe tbody tr th:only-of-type {\n",
       "        vertical-align: middle;\n",
       "    }\n",
       "\n",
       "    .dataframe tbody tr th {\n",
       "        vertical-align: top;\n",
       "    }\n",
       "\n",
       "    .dataframe thead th {\n",
       "        text-align: right;\n",
       "    }\n",
       "</style>\n",
       "<table border=\"1\" class=\"dataframe\">\n",
       "  <thead>\n",
       "    <tr style=\"text-align: right;\">\n",
       "      <th></th>\n",
       "      <th>item</th>\n",
       "      <th>title</th>\n",
       "      <th>published</th>\n",
       "    </tr>\n",
       "  </thead>\n",
       "  <tbody>\n",
       "    <tr>\n",
       "      <th>1780</th>\n",
       "      <td>http://www.wikidata.org/entity/Q6652563</td>\n",
       "      <td>little women</td>\n",
       "      <td>1917-09-17T00:00:00Z</td>\n",
       "    </tr>\n",
       "    <tr>\n",
       "      <th>9877</th>\n",
       "      <td>http://www.wikidata.org/entity/Q195274</td>\n",
       "      <td>little women</td>\n",
       "      <td>1933-11-16T00:00:00Z</td>\n",
       "    </tr>\n",
       "    <tr>\n",
       "      <th>18657</th>\n",
       "      <td>http://www.wikidata.org/entity/Q1466426</td>\n",
       "      <td>little women</td>\n",
       "      <td>1949-03-10T00:00:00Z</td>\n",
       "    </tr>\n",
       "    <tr>\n",
       "      <th>36722</th>\n",
       "      <td>http://www.wikidata.org/entity/Q850522</td>\n",
       "      <td>little women</td>\n",
       "      <td>1994-12-21T00:00:00Z</td>\n",
       "    </tr>\n",
       "    <tr>\n",
       "      <th>62656</th>\n",
       "      <td>http://www.wikidata.org/entity/Q56241200</td>\n",
       "      <td>little women</td>\n",
       "      <td>2018-09-28T00:00:00Z</td>\n",
       "    </tr>\n",
       "    <tr>\n",
       "      <th>63560</th>\n",
       "      <td>http://www.wikidata.org/entity/Q56881140</td>\n",
       "      <td>little women</td>\n",
       "      <td>2019-12-25T00:00:00Z</td>\n",
       "    </tr>\n",
       "  </tbody>\n",
       "</table>\n",
       "</div>"
      ],
      "text/plain": [
       "                                           item         title  \\\n",
       "1780    http://www.wikidata.org/entity/Q6652563  little women   \n",
       "9877     http://www.wikidata.org/entity/Q195274  little women   \n",
       "18657   http://www.wikidata.org/entity/Q1466426  little women   \n",
       "36722    http://www.wikidata.org/entity/Q850522  little women   \n",
       "62656  http://www.wikidata.org/entity/Q56241200  little women   \n",
       "63560  http://www.wikidata.org/entity/Q56881140  little women   \n",
       "\n",
       "                  published  \n",
       "1780   1917-09-17T00:00:00Z  \n",
       "9877   1933-11-16T00:00:00Z  \n",
       "18657  1949-03-10T00:00:00Z  \n",
       "36722  1994-12-21T00:00:00Z  \n",
       "62656  2018-09-28T00:00:00Z  \n",
       "63560  2019-12-25T00:00:00Z  "
      ]
     },
     "execution_count": 87,
     "metadata": {},
     "output_type": "execute_result"
    }
   ],
   "source": [
    "df[df.title=='little women'].sort_values(by=['published'])"
   ]
  },
  {
   "cell_type": "code",
   "execution_count": 61,
   "metadata": {
    "ExecuteTime": {
     "end_time": "2020-07-01T01:27:22.345181Z",
     "start_time": "2020-07-01T01:27:22.146658Z"
    }
   },
   "outputs": [],
   "source": [
    "title_count = df.groupby(['title'])['item'].count().sort_values(ascending=False).reset_index()"
   ]
  },
  {
   "cell_type": "code",
   "execution_count": 66,
   "metadata": {
    "ExecuteTime": {
     "end_time": "2020-07-01T01:29:41.548044Z",
     "start_time": "2020-07-01T01:29:41.527535Z"
    }
   },
   "outputs": [
    {
     "data": {
      "text/html": [
       "<div>\n",
       "<style scoped>\n",
       "    .dataframe tbody tr th:only-of-type {\n",
       "        vertical-align: middle;\n",
       "    }\n",
       "\n",
       "    .dataframe tbody tr th {\n",
       "        vertical-align: top;\n",
       "    }\n",
       "\n",
       "    .dataframe thead th {\n",
       "        text-align: right;\n",
       "    }\n",
       "</style>\n",
       "<table border=\"1\" class=\"dataframe\">\n",
       "  <thead>\n",
       "    <tr style=\"text-align: right;\">\n",
       "      <th></th>\n",
       "      <th>title</th>\n",
       "      <th>item</th>\n",
       "    </tr>\n",
       "  </thead>\n",
       "  <tbody>\n",
       "    <tr>\n",
       "      <th>36</th>\n",
       "      <td>black gold</td>\n",
       "      <td>5</td>\n",
       "    </tr>\n",
       "    <tr>\n",
       "      <th>37</th>\n",
       "      <td>resurrection</td>\n",
       "      <td>5</td>\n",
       "    </tr>\n",
       "    <tr>\n",
       "      <th>38</th>\n",
       "      <td>unfinished business</td>\n",
       "      <td>5</td>\n",
       "    </tr>\n",
       "    <tr>\n",
       "      <th>39</th>\n",
       "      <td>othello</td>\n",
       "      <td>5</td>\n",
       "    </tr>\n",
       "    <tr>\n",
       "      <th>40</th>\n",
       "      <td>evidence</td>\n",
       "      <td>5</td>\n",
       "    </tr>\n",
       "    <tr>\n",
       "      <th>...</th>\n",
       "      <td>...</td>\n",
       "      <td>...</td>\n",
       "    </tr>\n",
       "    <tr>\n",
       "      <th>105</th>\n",
       "      <td>jigsaw</td>\n",
       "      <td>5</td>\n",
       "    </tr>\n",
       "    <tr>\n",
       "      <th>106</th>\n",
       "      <td>out of the blue</td>\n",
       "      <td>5</td>\n",
       "    </tr>\n",
       "    <tr>\n",
       "      <th>107</th>\n",
       "      <td>welcome home</td>\n",
       "      <td>5</td>\n",
       "    </tr>\n",
       "    <tr>\n",
       "      <th>108</th>\n",
       "      <td>shame</td>\n",
       "      <td>5</td>\n",
       "    </tr>\n",
       "    <tr>\n",
       "      <th>109</th>\n",
       "      <td>shakedown</td>\n",
       "      <td>5</td>\n",
       "    </tr>\n",
       "  </tbody>\n",
       "</table>\n",
       "<p>74 rows × 2 columns</p>\n",
       "</div>"
      ],
      "text/plain": [
       "                   title  item\n",
       "36            black gold     5\n",
       "37          resurrection     5\n",
       "38   unfinished business     5\n",
       "39               othello     5\n",
       "40              evidence     5\n",
       "..                   ...   ...\n",
       "105               jigsaw     5\n",
       "106      out of the blue     5\n",
       "107         welcome home     5\n",
       "108                shame     5\n",
       "109            shakedown     5\n",
       "\n",
       "[74 rows x 2 columns]"
      ]
     },
     "execution_count": 66,
     "metadata": {},
     "output_type": "execute_result"
    }
   ],
   "source": [
    "title_count[title_count.item==5]"
   ]
  },
  {
   "cell_type": "code",
   "execution_count": 75,
   "metadata": {
    "ExecuteTime": {
     "end_time": "2020-07-01T01:34:55.499706Z",
     "start_time": "2020-07-01T01:34:55.490152Z"
    }
   },
   "outputs": [
    {
     "name": "stdout",
     "output_type": "stream",
     "text": [
      "4226 film titles have been used more than once\n"
     ]
    }
   ],
   "source": [
    "print('{} film titles have been used more than once'.format(title_count[title_count.item>1].shape[0]))"
   ]
  },
  {
   "cell_type": "code",
   "execution_count": null,
   "metadata": {},
   "outputs": [],
   "source": []
  },
  {
   "cell_type": "markdown",
   "metadata": {},
   "source": [
    "## to be continued"
   ]
  },
  {
   "cell_type": "code",
   "execution_count": 95,
   "metadata": {
    "ExecuteTime": {
     "end_time": "2020-07-01T01:57:27.452837Z",
     "start_time": "2020-07-01T01:57:27.412992Z"
    }
   },
   "outputs": [
    {
     "name": "stdout",
     "output_type": "stream",
     "text": [
      "17\n"
     ]
    },
    {
     "data": {
      "text/plain": [
       "['hong kong nights',\n",
       " 'passage from hong kong',\n",
       " 'escape from hong kong',\n",
       " 'hong kong',\n",
       " 'target hong kong',\n",
       " 'flight to hong kong',\n",
       " 'hong kong confidential',\n",
       " 'ferry to hong kong',\n",
       " 'the road to hong kong',\n",
       " 'a countess from hong kong',\n",
       " 'the man from hong kong',\n",
       " 'crazy hong kong',\n",
       " 'hong kong 97',\n",
       " 'red trousers – the life of the hong kong stuntmen',\n",
       " \"jackie chan's hong kong\",\n",
       " 'hong kong confidential',\n",
       " 'already tomorrow in hong kong']"
      ]
     },
     "execution_count": 95,
     "metadata": {},
     "output_type": "execute_result"
    }
   ],
   "source": [
    "hk_list = [title for title in df.title if 'hong kong' in title or 'hongkong' in title]\n",
    "print(len(hk_list))\n",
    "hk_list"
   ]
  },
  {
   "cell_type": "code",
   "execution_count": 100,
   "metadata": {
    "ExecuteTime": {
     "end_time": "2020-07-01T02:00:32.042322Z",
     "start_time": "2020-07-01T02:00:31.991576Z"
    }
   },
   "outputs": [
    {
     "name": "stdout",
     "output_type": "stream",
     "text": [
      "93\n"
     ]
    }
   ],
   "source": [
    "london_list = [title for title in df.title if 'london' in title]\n",
    "print(len(london_list))"
   ]
  },
  {
   "cell_type": "code",
   "execution_count": 92,
   "metadata": {
    "ExecuteTime": {
     "end_time": "2020-07-01T01:56:38.856417Z",
     "start_time": "2020-07-01T01:56:38.816054Z"
    }
   },
   "outputs": [
    {
     "name": "stdout",
     "output_type": "stream",
     "text": [
      "103\n"
     ]
    }
   ],
   "source": [
    "ny_list = [title for title in df.title if 'new york' in title or ' ny' in title or 'nyc' in title or 'newyork' in title]\n",
    "print(len(ny_list))"
   ]
  },
  {
   "cell_type": "code",
   "execution_count": 82,
   "metadata": {
    "ExecuteTime": {
     "end_time": "2020-07-01T01:52:37.903296Z",
     "start_time": "2020-07-01T01:52:37.882751Z"
    },
    "scrolled": true
   },
   "outputs": [
    {
     "name": "stdout",
     "output_type": "stream",
     "text": [
      "604\n"
     ]
    }
   ],
   "source": [
    "boy_list = [title for title in df.title if 'boy' in title]\n",
    "print(len(boy_list))\n",
    "# boy_list"
   ]
  },
  {
   "cell_type": "code",
   "execution_count": 69,
   "metadata": {
    "ExecuteTime": {
     "end_time": "2020-07-01T01:31:29.437261Z",
     "start_time": "2020-07-01T01:31:29.415562Z"
    }
   },
   "outputs": [
    {
     "name": "stdout",
     "output_type": "stream",
     "text": [
      "880\n"
     ]
    }
   ],
   "source": [
    "girl_list = [title for title in df.title if 'girl' in title]\n",
    "print(len(girl_list))\n",
    "# girl_list"
   ]
  },
  {
   "cell_type": "code",
   "execution_count": 46,
   "metadata": {
    "ExecuteTime": {
     "end_time": "2020-07-01T01:17:57.106716Z",
     "start_time": "2020-07-01T01:17:57.068773Z"
    }
   },
   "outputs": [
    {
     "data": {
      "text/plain": [
       "['terror from the year 5000',\n",
       " 'fireball 500',\n",
       " 'transylvania 6-5000',\n",
       " 'chuck e. cheese in the galaxy 5000',\n",
       " '500 years later',\n",
       " 'troop 1500',\n",
       " '5000 miles',\n",
       " '9500 liberty',\n",
       " '(500) days of summer',\n",
       " '500 miles north',\n",
       " '7500',\n",
       " '1500 steps',\n",
       " '7500']"
      ]
     },
     "execution_count": 46,
     "metadata": {},
     "output_type": "execute_result"
    }
   ],
   "source": [
    "[title for title in df.title if '500' in title]"
   ]
  },
  {
   "cell_type": "code",
   "execution_count": 67,
   "metadata": {
    "ExecuteTime": {
     "end_time": "2020-07-01T01:30:36.506338Z",
     "start_time": "2020-07-01T01:30:36.475959Z"
    },
    "scrolled": false
   },
   "outputs": [
    {
     "data": {
      "text/plain": [
       "854"
      ]
     },
     "execution_count": 67,
     "metadata": {},
     "output_type": "execute_result"
    }
   ],
   "source": [
    "day_list = [title for title in df.title if 'day' in title]\n",
    "len(day_list)"
   ]
  },
  {
   "cell_type": "code",
   "execution_count": 44,
   "metadata": {
    "ExecuteTime": {
     "end_time": "2020-07-01T01:17:38.703739Z",
     "start_time": "2020-07-01T01:17:38.681619Z"
    }
   },
   "outputs": [
    {
     "data": {
      "text/plain": [
       "['the apple tree girl',\n",
       " 'bitter apples',\n",
       " \"adam's apple\",\n",
       " \"the devil's apple tree\",\n",
       " 'captain applejack',\n",
       " 'aggie appleby maker of men',\n",
       " 'three bites of the apple',\n",
       " 'golden apples of the sun',\n",
       " 'the apple',\n",
       " 'meet the applegates',\n",
       " 'god, sex & apple pie',\n",
       " 'larryboy and the bad apple',\n",
       " 'pineapple express',\n",
       " 'red apples falling',\n",
       " 'adams apples',\n",
       " 'i love you, apple, i love you, orange',\n",
       " 'appleseed alpha',\n",
       " 'applesauce',\n",
       " 'mapplethorpe: look at the pictures',\n",
       " 'mapplethorpe']"
      ]
     },
     "execution_count": 44,
     "metadata": {},
     "output_type": "execute_result"
    }
   ],
   "source": [
    "[title for title in df.title if 'apple' in title]"
   ]
  },
  {
   "cell_type": "code",
   "execution_count": 43,
   "metadata": {
    "ExecuteTime": {
     "end_time": "2020-07-01T01:17:32.435089Z",
     "start_time": "2020-07-01T01:17:32.411092Z"
    }
   },
   "outputs": [
    {
     "data": {
      "text/plain": [
       "['the patchwork girl of oz',\n",
       " 'monty works the wires',\n",
       " 'the fast worker',\n",
       " \"the girl who wouldn't work\",\n",
       " 'more pay, less work',\n",
       " 'only saps work',\n",
       " 'working girls',\n",
       " \"temptation's workshop\",\n",
       " 'too busy to work',\n",
       " 'the working man',\n",
       " 'fast workers',\n",
       " 'dirty work',\n",
       " 'shoot the works',\n",
       " 'danger – love at work',\n",
       " 'we work again',\n",
       " 'the man who could work miracles',\n",
       " 'blondes at work',\n",
       " 'night work',\n",
       " 'too busy to work',\n",
       " 'should husbands work?',\n",
       " 'genius at work',\n",
       " \"she's working her way through college\",\n",
       " \"all in a night's work\",\n",
       " 'the miracle worker',\n",
       " 'afro-american work songs in a texas prison',\n",
       " 'work is a four-letter word',\n",
       " 'a clockwork orange',\n",
       " 'the working girls',\n",
       " 'network',\n",
       " 'hardly working',\n",
       " 'homework',\n",
       " \"i'm almost not crazy: john cassavetes, the man and his work\",\n",
       " 'the works ep',\n",
       " 'working girls',\n",
       " 'killer workout',\n",
       " 'waxwork',\n",
       " 'working girl',\n",
       " 'men at work',\n",
       " 'h-2 worker',\n",
       " 'waxwork ii: lost in time',\n",
       " 'mani madhava chakyar: the master at work',\n",
       " 'clockwork orgy',\n",
       " 'clockwork mice',\n",
       " 'this world, then the fireworks',\n",
       " 'dirty work',\n",
       " 'blood work',\n",
       " 'i love your work',\n",
       " 'the work and the story',\n",
       " 'artworks',\n",
       " 'jimmywork',\n",
       " 'the work and the glory',\n",
       " \"workingman's death\",\n",
       " 'the work and the glory: american zion',\n",
       " 'what remains: the life and work of sally mann',\n",
       " 'why wal-mart works; and why that drives some people c-r-a-z-y',\n",
       " 'gonzo: the life and work of dr. hunter s. thompson',\n",
       " 'whatever works',\n",
       " \"jaffa, the orange's clockwork\",\n",
       " 'cameraman: the life and work of jack cardiff',\n",
       " 'how democracy works now: twelve stories',\n",
       " 'working girls',\n",
       " 'joan rivers: a piece of work',\n",
       " 'the social network',\n",
       " 'the unfinished works of sean weathers',\n",
       " 'bloodwork',\n",
       " 'frameworks: images of a changing world',\n",
       " 'the shark is still working',\n",
       " 'not safe for work',\n",
       " 'wwe workout series',\n",
       " 'wetwork',\n",
       " 'magician: the astonishing life and work of orson welles',\n",
       " 'al quds - the workshop',\n",
       " 'the future of work and death',\n",
       " 'filmworker',\n",
       " 'the work',\n",
       " 'the workers cup',\n",
       " 'working class boy',\n",
       " 'write when you get work',\n",
       " 'workplace politics',\n",
       " 'wasp network']"
      ]
     },
     "execution_count": 43,
     "metadata": {},
     "output_type": "execute_result"
    }
   ],
   "source": [
    "[title for title in df.title if 'work' in title]"
   ]
  },
  {
   "cell_type": "code",
   "execution_count": 36,
   "metadata": {
    "ExecuteTime": {
     "end_time": "2020-07-01T01:15:07.991796Z",
     "start_time": "2020-07-01T01:15:07.952416Z"
    }
   },
   "outputs": [
    {
     "data": {
      "text/plain": [
       "['the marriage of kitty',\n",
       " 'an international marriage',\n",
       " 'sold for marriage',\n",
       " 'her marriage lines',\n",
       " 'the marriage ring',\n",
       " 'the marriage lie',\n",
       " 'marriages are made',\n",
       " 'the marriage price',\n",
       " 'marriage for convenience',\n",
       " 'the marriage of william ashe',\n",
       " 'the mad marriage',\n",
       " 'man-woman-marriage',\n",
       " 'the marriage lines',\n",
       " 'why announce your marriage?',\n",
       " 'the marriage chance',\n",
       " 'the marriage maker',\n",
       " 'temporary marriage',\n",
       " 'modern marriage',\n",
       " 'the marriage circle',\n",
       " 'so this is marriage?',\n",
       " 'her marriage vow',\n",
       " 'the marriage cheat',\n",
       " 'greater than marriage',\n",
       " 'if marriage fails',\n",
       " 'marriage in transit',\n",
       " 'the marriage whirl',\n",
       " 'the mad marriage',\n",
       " 'the marriage clause',\n",
       " 'the marriage business',\n",
       " 'marriage',\n",
       " 'companionate marriage',\n",
       " 'three-ring marriage',\n",
       " 'marriage by contract',\n",
       " 'spite marriage',\n",
       " 'half marriage',\n",
       " 'the marriage playground',\n",
       " 'consolation marriage',\n",
       " 'the marriage bond',\n",
       " 'week-end marriage',\n",
       " 'no marriage ties',\n",
       " 'the marriage bargain',\n",
       " 'my marriage',\n",
       " 'brilliant marriage',\n",
       " 'this marriage business',\n",
       " 'marriage is a private affair',\n",
       " 'the perfect marriage',\n",
       " 'a modern marriage',\n",
       " 'grounds for marriage',\n",
       " 'the model and the marriage broker',\n",
       " 'the marriage of figaro',\n",
       " 'the marriage-go-round',\n",
       " 'marriage lines',\n",
       " 'marriage on the rocks',\n",
       " 'how to save a marriage and ruin your life',\n",
       " 'how to commit marriage',\n",
       " 'the art of marriage',\n",
       " 'the marriage of a young stockbroker',\n",
       " 'group marriage',\n",
       " \"a marriage: georgia o'keeffe and alfred stieglitz\",\n",
       " 'love, honor & obey: the last mafia marriage',\n",
       " 'a rather english marriage',\n",
       " 'the clandestine marriage',\n",
       " 'child marriage',\n",
       " 'the gay marriage thing',\n",
       " 'every good marriage begins with tears',\n",
       " 'a quiet little marriage',\n",
       " 'love, wedding, marriage',\n",
       " 'marriage retreat',\n",
       " 'scenes from a gay marriage',\n",
       " 'temptation: confessions of a marriage counselor',\n",
       " 'a good marriage',\n",
       " 'marriage 2.0',\n",
       " 'the state of marriage',\n",
       " 'marriage story']"
      ]
     },
     "execution_count": 36,
     "metadata": {},
     "output_type": "execute_result"
    }
   ],
   "source": [
    "[title for title in df.title if 'marriage' in title]"
   ]
  },
  {
   "cell_type": "code",
   "execution_count": 32,
   "metadata": {
    "ExecuteTime": {
     "end_time": "2020-07-01T01:14:17.441088Z",
     "start_time": "2020-07-01T01:14:17.411144Z"
    }
   },
   "outputs": [
    {
     "data": {
      "text/plain": [
       "['the avengers',\n",
       " 'the scavengers',\n",
       " 'avengers of the reef',\n",
       " 'scavengers',\n",
       " 'the avengers',\n",
       " 'ultimate avengers 2',\n",
       " 'ultimate avengers',\n",
       " 'next avengers: heroes of tomorrow',\n",
       " 'avengers xxx – a porn parody',\n",
       " 'the avengers',\n",
       " 'avengers grimm',\n",
       " 'avengers grimm: time wars',\n",
       " 'bikini avengers',\n",
       " 'avengers: age of ultron',\n",
       " 'avengers 4',\n",
       " 'avengers: infinity war',\n",
       " 'avengers: endgame']"
      ]
     },
     "execution_count": 32,
     "metadata": {},
     "output_type": "execute_result"
    }
   ],
   "source": [
    "[title for title in df.title if 'avengers' in title]"
   ]
  },
  {
   "cell_type": "code",
   "execution_count": 35,
   "metadata": {
    "ExecuteTime": {
     "end_time": "2020-07-01T01:14:52.468865Z",
     "start_time": "2020-07-01T01:14:52.439219Z"
    },
    "scrolled": false
   },
   "outputs": [
    {
     "data": {
      "text/plain": [
       "[\"colonel custard's last stand\",\n",
       " 'star of the north',\n",
       " 'graustark',\n",
       " 'the white star',\n",
       " 'the service star',\n",
       " 'the star prince',\n",
       " 'the light of western stars',\n",
       " 'the street of seven stars',\n",
       " \"tom's little star\",\n",
       " 'the dark star',\n",
       " 'the polar star',\n",
       " 'a fresh start',\n",
       " 'the romance of a movie star',\n",
       " 'frontier of the stars',\n",
       " 'the river of stars',\n",
       " 'stardust',\n",
       " 'the custard cup',\n",
       " 'the star dust trail',\n",
       " 'graustark',\n",
       " 'the light of western stars',\n",
       " 'beverly of graustark',\n",
       " 'stark love',\n",
       " 'shooting stars',\n",
       " 'lucky star',\n",
       " 'stark mad',\n",
       " 'the light of western stars',\n",
       " 'the lone star ranger',\n",
       " 'five star final',\n",
       " 'the star witness',\n",
       " 'the star reporter',\n",
       " 'make me a star',\n",
       " 'my lucky star',\n",
       " 'the star packer',\n",
       " 'star of midnight',\n",
       " 'stars over broadway',\n",
       " 'school for stars',\n",
       " 'stars on parade',\n",
       " 'the wagon and the star',\n",
       " 'love letters of a star',\n",
       " 'a star fell from heaven',\n",
       " 'star for a night',\n",
       " 'the cowboy star',\n",
       " 'a star is born',\n",
       " 'the plough and the stars',\n",
       " 'pick a star',\n",
       " 'calling all stars',\n",
       " 'start cheering',\n",
       " 'my lucky star',\n",
       " 'star of the circus',\n",
       " 'follow your star',\n",
       " 'starlight over texas',\n",
       " 'under western stars',\n",
       " 'star reporter',\n",
       " 'the star maker',\n",
       " 'star dust',\n",
       " 'the stars look down',\n",
       " 'lone star raiders',\n",
       " 'the light of western stars',\n",
       " 'belle starr',\n",
       " 'it started with eve',\n",
       " 'he found a star',\n",
       " 'under fiesta stars',\n",
       " 'north from the lone star',\n",
       " 'star spangled rhythm',\n",
       " 'lone star ranger',\n",
       " 'the lone star vigilantes',\n",
       " 'stardust on the sage',\n",
       " 'fires were started',\n",
       " 'the north star',\n",
       " 'thank your lucky stars',\n",
       " 'the lone star trail',\n",
       " 'stars on parade',\n",
       " 'brenda starr, reporter',\n",
       " 'give me the stars',\n",
       " 'the way to the stars',\n",
       " 'radio stars on parade',\n",
       " 'tell it to a star',\n",
       " 'stars over texas',\n",
       " 'lone star moonlight',\n",
       " 'riders of the lone star',\n",
       " 'under california stars',\n",
       " \"belle starr's daughter\",\n",
       " 'stars in my crown',\n",
       " 'under mexicali stars',\n",
       " 'shooting stars',\n",
       " 'starlift',\n",
       " 'night without stars',\n",
       " 'stars and stripes forever',\n",
       " 'the star',\n",
       " 'lone star',\n",
       " 'a great new star',\n",
       " 'it started in paradise',\n",
       " 'the stars are singing',\n",
       " 'son of belle starr',\n",
       " 'star of texas',\n",
       " 'riders to the stars',\n",
       " 'star of india',\n",
       " 'star of my night',\n",
       " 'a star is born',\n",
       " 'man without a star',\n",
       " 'the silver star',\n",
       " 'star in the dust',\n",
       " 'stars in your eyes',\n",
       " 'the broken star',\n",
       " 'the tin star',\n",
       " 'marjorie morningstar',\n",
       " 'it started with a kiss',\n",
       " 'follow a star',\n",
       " 'flaming star',\n",
       " 'it started in naples',\n",
       " 'i aim at the stars',\n",
       " 'dog star man',\n",
       " 'blaze starr goes nudist',\n",
       " 'invasion of the star creatures',\n",
       " 'stark fear',\n",
       " 'the starfighters',\n",
       " 'of stars and men',\n",
       " 'movie star, american style or; lsd, i hate you',\n",
       " 'four stars',\n",
       " 'star!',\n",
       " 'i start counting',\n",
       " 'the fabulous bastard from chicago',\n",
       " 'the southern star',\n",
       " 'start the revolution without me',\n",
       " 'a town called bastard',\n",
       " 'star spangled girl',\n",
       " 'the groundstar conspiracy',\n",
       " 'jesus christ superstar',\n",
       " 'and now the screaming starts!',\n",
       " 'stardust',\n",
       " 'lost in the stars',\n",
       " 'dark star',\n",
       " 'bugs bunny: superstar',\n",
       " 'the bingo long traveling all-stars & motor kings',\n",
       " 'a star is born',\n",
       " 'starship invasions',\n",
       " 'starsky and hutch on playboy island',\n",
       " 'star wars',\n",
       " 'star wars: episode iv – a new hope',\n",
       " 'starcrash',\n",
       " 'saga of a star world',\n",
       " 'starhops',\n",
       " 'star trek: planet of the titans',\n",
       " 'north star: mark di suvero',\n",
       " 'starting over',\n",
       " 'star trek: the motion picture',\n",
       " 'stardust memories',\n",
       " 'battle beyond the stars',\n",
       " 'the lucky star',\n",
       " 'star wars: episode v – the empire strikes back',\n",
       " 'starstruck',\n",
       " 'starlet nights',\n",
       " 'star trek ⅱ',\n",
       " 'the star chamber',\n",
       " 'star 80',\n",
       " 'stark raving mad',\n",
       " 'star wars episode vi: return of the jedi',\n",
       " 'ziggy stardust and the spiders from mars',\n",
       " 'firestarter',\n",
       " 'starship',\n",
       " 'starman',\n",
       " 'john wycliffe: the morning star',\n",
       " 'star trek iii: the search for spock',\n",
       " 'the last starfighter',\n",
       " 'revenge of the stolen stars',\n",
       " \"i can't get started\",\n",
       " 'starwolf and the raiders 2',\n",
       " 'hyper sapien: people from another star',\n",
       " 'lovedolls superstar',\n",
       " 'the christmas star',\n",
       " 'fist of the north star',\n",
       " 'star crystal',\n",
       " 'star trek iv: the voyage home',\n",
       " 'starlight hotel',\n",
       " 'superstar: the karen carpenter story',\n",
       " 'rupaul is: starbooty!',\n",
       " 'bravestarr: the movie',\n",
       " 'stars and bars',\n",
       " 'deepstar six',\n",
       " 'beyond the stars',\n",
       " 'brenda starr',\n",
       " 'charles manson superstar',\n",
       " 'star quest',\n",
       " 'star trek v: the final frontier',\n",
       " 'in the shadow of the stars',\n",
       " 'a star for two',\n",
       " 'star trek vi: the undiscovered country',\n",
       " 'star time',\n",
       " 'mustard bath',\n",
       " 'stargate',\n",
       " 'the stars fell on henrietta',\n",
       " 'fist of the north star',\n",
       " 'frankie starlight',\n",
       " 'north star',\n",
       " 'lone star',\n",
       " 'unhook the stars',\n",
       " 'bastard out of carolina',\n",
       " 'the evening star',\n",
       " 'one tough bastard',\n",
       " 'star portal',\n",
       " 'star trek: first contact',\n",
       " 'bastard',\n",
       " 'star maps',\n",
       " 'starquest ii',\n",
       " 'starship troopers',\n",
       " 'star kid',\n",
       " 'starstruck',\n",
       " 'bastards from the bush, a journey with bob ellis and les murray',\n",
       " 'star hunter',\n",
       " 'star trek: insurrection',\n",
       " 'superstar',\n",
       " 'battlestar galactica: the second coming',\n",
       " 'the book of stars',\n",
       " 'deep inside clint star',\n",
       " 'star trek: hidden frontier',\n",
       " 'shooting star',\n",
       " 'stardom',\n",
       " 'star wars gangsta rap',\n",
       " 'superstar female serial killer',\n",
       " 'startup.com',\n",
       " 'rock star',\n",
       " 'porn star: the legend of ron jeremy',\n",
       " 'shining stars: the official story of earth, wind & fire',\n",
       " \"star warp'd\",\n",
       " 'stark raving mad',\n",
       " 'deadrockstar',\n",
       " 'the star of christmas',\n",
       " 'star wars: episode ii – attack of the clones',\n",
       " 'star trek: nemesis',\n",
       " 'dickie roberts: former child star',\n",
       " 'starship troopers 2: hero of the federation',\n",
       " \"bratz: starrin' & stylin'\",\n",
       " 'starkweather',\n",
       " 'childstar',\n",
       " 'saving star wars',\n",
       " 'star spangled to death',\n",
       " 'stardust: vignettes from the fringes of film industry',\n",
       " 'starsky & hutch',\n",
       " 'die you zombie bastards!',\n",
       " 'bastards of the party',\n",
       " 'confessions of an action star',\n",
       " 'pornstar pets',\n",
       " 'star wars: revelations',\n",
       " 'star wars episode iii: revenge of the sith',\n",
       " 'afrodite superstar',\n",
       " 'starter for 10',\n",
       " 'dick ho: asian male porn star',\n",
       " 'starting out in the evening',\n",
       " 'press start',\n",
       " 'starrbooty',\n",
       " 'the moon and the stars',\n",
       " 'amateur porn star killer',\n",
       " 'porn star zombies',\n",
       " 'kim kardashian, superstar',\n",
       " 'stardust',\n",
       " 'stargate: the ark of truth',\n",
       " 'stargate: continuum',\n",
       " 'starship troopers 3: marauder',\n",
       " \"cuttin' da mustard\",\n",
       " 'north starr',\n",
       " 'telstar: the joe meek story',\n",
       " 'bright star',\n",
       " 'the men who stare at goats',\n",
       " 'afghan star',\n",
       " 'lucky bastard',\n",
       " 'star quest: the odyssey',\n",
       " 'stark raving black',\n",
       " 'starsuckers',\n",
       " 'this ain’t star trek xxx',\n",
       " 'star trek',\n",
       " 'star vehicle',\n",
       " 'third star',\n",
       " 'stargate: revolution',\n",
       " 'dance star',\n",
       " 'blackstar warrior',\n",
       " 'grown up movie star',\n",
       " 'five star day',\n",
       " \"looney tunes super stars' bugs bunny: hare extraordinaire\",\n",
       " 'prankstar',\n",
       " 'rising stars',\n",
       " \"looney tunes super stars' daffy duck: frustrated fowl\",\n",
       " \"looney tunes super stars' foghorn leghorn & friends: barnyard bigmouth\",\n",
       " \"looney tunes super stars' tweety & sylvester: feline fwenzy\",\n",
       " 'bucky larson: born to be a star',\n",
       " 'how to start a revolution',\n",
       " 'mad bastards',\n",
       " \"vance and pepe's porn start\",\n",
       " 'starting-up in america',\n",
       " 'press start 2 continue',\n",
       " 'lego star wars: the padawan menace',\n",
       " \"looney tunes super stars' road runner and wile e. coyote: supergenius hijinks\",\n",
       " 'princess and the popstar',\n",
       " \"looney tunes super stars' pepe le pew: zee best of zee best\",\n",
       " 'starship troopers: invasion',\n",
       " 'big star: nothing can hurt me',\n",
       " 'greedy lying bastards',\n",
       " 'stars in shorts',\n",
       " 'europe to the stars',\n",
       " 'the startup kids',\n",
       " 'plimpton! starring george plimpton as himself',\n",
       " 'star wars xxx',\n",
       " 'starlet',\n",
       " 'lego star wars: the empire strikes out',\n",
       " \"looney tunes super stars' porky & friends: hilarious ham\",\n",
       " 'beyond the farthest star',\n",
       " 'my lucky star',\n",
       " 'starred up',\n",
       " 'the starving games',\n",
       " 'lucky bastard',\n",
       " 'dark around the stars',\n",
       " '20 feet from stardom',\n",
       " \"looney tunes super stars' sylvester and hippety hopper: marsupial mayhem\",\n",
       " 'all stars',\n",
       " 'star trek into darkness',\n",
       " 'brightest star',\n",
       " 'angels in stardust',\n",
       " 'maps to the stars',\n",
       " 'the battered bastards of baseball',\n",
       " 'living stars',\n",
       " 'starry eyes',\n",
       " 'set fire to the stars',\n",
       " 'a place in the stars',\n",
       " \"dark star: h. r. giger's world\",\n",
       " 'a star is stillborn',\n",
       " 'starcrossed',\n",
       " 'starve',\n",
       " 'starship: rising',\n",
       " 'starship: apocalypse',\n",
       " 'morning star irha (morning star shine)',\n",
       " 'plastic galaxy: the story of star wars toys',\n",
       " 'starting over again',\n",
       " 'star wars: threads of destiny',\n",
       " 'the fault in our stars',\n",
       " 'bloodsucking bastards',\n",
       " 'the heyday of the insensitive bastards',\n",
       " 'star trek: renegades',\n",
       " 'star leaf',\n",
       " 'star wars: evolution of the lightsaber duel',\n",
       " 'star wars: a gay xxx parody',\n",
       " 'popstar: never stop never stopping',\n",
       " 'bright lights: starring carrie fisher and debbie reynolds',\n",
       " 'generation startup',\n",
       " 'a christmas star',\n",
       " 'star trek beyond',\n",
       " 'roulette stars of metro detroit',\n",
       " 'barbie: star light adventure',\n",
       " 'starfish',\n",
       " 'rogue one: a star wars story',\n",
       " \"film stars don't die in liverpool\",\n",
       " 'dustards',\n",
       " 'starship troopers: traitor of mars',\n",
       " 'teenage superstars',\n",
       " 'frat star',\n",
       " 'starting 5',\n",
       " 'star raiders: the adventures of saber raine',\n",
       " 'what we started',\n",
       " 'secret superstar',\n",
       " 'just getting started',\n",
       " 'star wars: the last jedi',\n",
       " 'pup star: world tour',\n",
       " 'stargate origins: catherine',\n",
       " 'better start running',\n",
       " 'star wars: the dark resurgence',\n",
       " 'solo: a star wars story',\n",
       " 'a star is born',\n",
       " 'puppy star christmas',\n",
       " 'the sun is also a star',\n",
       " 'all-star weekend',\n",
       " 'violent starr',\n",
       " 'to the stars',\n",
       " 'upstarts',\n",
       " 'star wars: the rise of skywalker',\n",
       " 'barb and star go to vista del mar']"
      ]
     },
     "execution_count": 35,
     "metadata": {},
     "output_type": "execute_result"
    }
   ],
   "source": [
    "[title for title in df.title if 'star' in title]"
   ]
  }
 ],
 "metadata": {
  "kernelspec": {
   "display_name": "Python [conda env:film_title] *",
   "language": "python",
   "name": "conda-env-film_title-py"
  },
  "language_info": {
   "codemirror_mode": {
    "name": "ipython",
    "version": 3
   },
   "file_extension": ".py",
   "mimetype": "text/x-python",
   "name": "python",
   "nbconvert_exporter": "python",
   "pygments_lexer": "ipython3",
   "version": "3.6.10"
  },
  "toc": {
   "base_numbering": 1,
   "nav_menu": {},
   "number_sections": true,
   "sideBar": true,
   "skip_h1_title": false,
   "title_cell": "Table of Contents",
   "title_sidebar": "Contents",
   "toc_cell": false,
   "toc_position": {},
   "toc_section_display": true,
   "toc_window_display": false
  },
  "varInspector": {
   "cols": {
    "lenName": 16,
    "lenType": 16,
    "lenVar": 40
   },
   "kernels_config": {
    "python": {
     "delete_cmd_postfix": "",
     "delete_cmd_prefix": "del ",
     "library": "var_list.py",
     "varRefreshCmd": "print(var_dic_list())"
    },
    "r": {
     "delete_cmd_postfix": ") ",
     "delete_cmd_prefix": "rm(",
     "library": "var_list.r",
     "varRefreshCmd": "cat(var_dic_list()) "
    }
   },
   "types_to_exclude": [
    "module",
    "function",
    "builtin_function_or_method",
    "instance",
    "_Feature"
   ],
   "window_display": false
  }
 },
 "nbformat": 4,
 "nbformat_minor": 4
}
